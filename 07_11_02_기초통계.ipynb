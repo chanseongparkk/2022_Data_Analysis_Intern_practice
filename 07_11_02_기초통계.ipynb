{
  "nbformat": 4,
  "nbformat_minor": 0,
  "metadata": {
    "colab": {
      "provenance": [],
      "authorship_tag": "ABX9TyPPeNgvsf5nTkgnYc+vNSPK",
      "include_colab_link": true
    },
    "kernelspec": {
      "name": "python3",
      "display_name": "Python 3"
    },
    "language_info": {
      "name": "python"
    }
  },
  "cells": [
    {
      "cell_type": "markdown",
      "metadata": {
        "id": "view-in-github",
        "colab_type": "text"
      },
      "source": [
        "<a href=\"https://colab.research.google.com/github/chanseongparkk/2022_Data_Analysis_Intern_practice/blob/main/07_11_02_%EA%B8%B0%EC%B4%88%ED%86%B5%EA%B3%84.ipynb\" target=\"_parent\"><img src=\"https://colab.research.google.com/assets/colab-badge.svg\" alt=\"Open In Colab\"/></a>"
      ]
    },
    {
      "cell_type": "markdown",
      "source": [
        "### 1. 필요 라이브러리 import"
      ],
      "metadata": {
        "id": "HdheBTflfOJ0"
      }
    },
    {
      "cell_type": "code",
      "execution_count": null,
      "metadata": {
        "id": "RzxuA2ZEjg0A"
      },
      "outputs": [],
      "source": [
        "import pandas as pd\n",
        "import numpy as np\n",
        "import warnings \n",
        "warnings.filterwarnings(\"ignore\")\n",
        "# os에 따른 font 깨짐 제거를 위해 font 지정\n",
        "\n",
        "import os\n",
        "\n",
        "if os.name == \"nt\":\n",
        "    font_family = \"Malgun Gothic\"\n",
        "else: #mac os\n",
        "    font_family = \"AppleGothic\"\n",
        "    \n",
        "# - 값이 깨지는 문제 해결을 위해 파라미터값 설정\n",
        "\n",
        "sns.set(font = font_family, rc = {\"axes.unicode_minus\" : False})"
      ]
    },
    {
      "cell_type": "markdown",
      "source": [
        "### 2. 데이터셋 생성"
      ],
      "metadata": {
        "id": "GebxzXTKgIub"
      }
    },
    {
      "cell_type": "code",
      "source": [
        "data = pd.DataFrame(\n",
        "    {\"score1\" : [99, 65, 79, 94, 87],\n",
        "     \"score2\" : [79, 85, 79, 93, 97],\n",
        "     \"score3\" : [59, np.nan, 39, np.nan, np.nan],\n",
        "     \"weight\" : [5.43, 0.12, 10.44, 9.33, 4.22],\n",
        "     \"diff\" : [-2.1, 5, 2, -5.4, -3.3],\n",
        "     \"place\" : [\"A\", \"B\", \"A\", \"A\", \"B\"]}\n",
        ")"
      ],
      "metadata": {
        "id": "rohUzkY3feCS"
      },
      "execution_count": null,
      "outputs": []
    },
    {
      "cell_type": "markdown",
      "source": [
        "### 3. 기술통계"
      ],
      "metadata": {
        "id": "PdjPwHgsgLfK"
      }
    },
    {
      "cell_type": "markdown",
      "source": [
        "#### 3-1 pandas 함수를 이용한 요약정보\n",
        "##### describe(): 데이터프레임 컬럼 별 기술통계량을 보여줌\n",
        "* 수치형: describe()\n",
        "* 범주형: describe(include = \"object\")\n",
        "* 전체변수: describe(include = \"all\")"
      ],
      "metadata": {
        "id": "6oarR5x1gQSr"
      }
    },
    {
      "cell_type": "code",
      "source": [
        "# 데이터프레임 요약정보 확인\n",
        "data.info()"
      ],
      "metadata": {
        "colab": {
          "base_uri": "https://localhost:8080/"
        },
        "id": "cN37aM7dgHyU",
        "outputId": "cb00360f-6ad2-4664-bb80-7b3348d68430"
      },
      "execution_count": null,
      "outputs": [
        {
          "output_type": "stream",
          "name": "stdout",
          "text": [
            "<class 'pandas.core.frame.DataFrame'>\n",
            "RangeIndex: 5 entries, 0 to 4\n",
            "Data columns (total 6 columns):\n",
            " #   Column  Non-Null Count  Dtype  \n",
            "---  ------  --------------  -----  \n",
            " 0   score1  5 non-null      int64  \n",
            " 1   score2  5 non-null      int64  \n",
            " 2   score3  2 non-null      float64\n",
            " 3   weight  5 non-null      float64\n",
            " 4   diff    5 non-null      float64\n",
            " 5   place   5 non-null      object \n",
            "dtypes: float64(3), int64(2), object(1)\n",
            "memory usage: 368.0+ bytes\n"
          ]
        }
      ]
    },
    {
      "cell_type": "code",
      "source": [
        "display(data.describe(), # 수치형\n",
        "        data.describe(include = \"object\"), # 범주형\n",
        "        data.describe(include = \"all\")) # 모든 변수"
      ],
      "metadata": {
        "colab": {
          "base_uri": "https://localhost:8080/",
          "height": 835
        },
        "id": "ahIW8Hy4g6a7",
        "outputId": "db1424f8-7ef3-4682-caae-3b6fb5638763"
      },
      "execution_count": null,
      "outputs": [
        {
          "output_type": "display_data",
          "data": {
            "text/plain": [
              "         score1     score2     score3     weight      diff\n",
              "count   5.00000   5.000000   2.000000   5.000000  5.000000\n",
              "mean   84.80000  86.600000  49.000000   5.908000 -0.760000\n",
              "std    13.38656   8.173127  14.142136   4.148128  4.200357\n",
              "min    65.00000  79.000000  39.000000   0.120000 -5.400000\n",
              "25%    79.00000  79.000000  44.000000   4.220000 -3.300000\n",
              "50%    87.00000  85.000000  49.000000   5.430000 -2.100000\n",
              "75%    94.00000  93.000000  54.000000   9.330000  2.000000\n",
              "max    99.00000  97.000000  59.000000  10.440000  5.000000"
            ],
            "text/html": [
              "\n",
              "  <div id=\"df-db9d472a-b93f-418b-a66f-448ad2a48768\">\n",
              "    <div class=\"colab-df-container\">\n",
              "      <div>\n",
              "<style scoped>\n",
              "    .dataframe tbody tr th:only-of-type {\n",
              "        vertical-align: middle;\n",
              "    }\n",
              "\n",
              "    .dataframe tbody tr th {\n",
              "        vertical-align: top;\n",
              "    }\n",
              "\n",
              "    .dataframe thead th {\n",
              "        text-align: right;\n",
              "    }\n",
              "</style>\n",
              "<table border=\"1\" class=\"dataframe\">\n",
              "  <thead>\n",
              "    <tr style=\"text-align: right;\">\n",
              "      <th></th>\n",
              "      <th>score1</th>\n",
              "      <th>score2</th>\n",
              "      <th>score3</th>\n",
              "      <th>weight</th>\n",
              "      <th>diff</th>\n",
              "    </tr>\n",
              "  </thead>\n",
              "  <tbody>\n",
              "    <tr>\n",
              "      <th>count</th>\n",
              "      <td>5.00000</td>\n",
              "      <td>5.000000</td>\n",
              "      <td>2.000000</td>\n",
              "      <td>5.000000</td>\n",
              "      <td>5.000000</td>\n",
              "    </tr>\n",
              "    <tr>\n",
              "      <th>mean</th>\n",
              "      <td>84.80000</td>\n",
              "      <td>86.600000</td>\n",
              "      <td>49.000000</td>\n",
              "      <td>5.908000</td>\n",
              "      <td>-0.760000</td>\n",
              "    </tr>\n",
              "    <tr>\n",
              "      <th>std</th>\n",
              "      <td>13.38656</td>\n",
              "      <td>8.173127</td>\n",
              "      <td>14.142136</td>\n",
              "      <td>4.148128</td>\n",
              "      <td>4.200357</td>\n",
              "    </tr>\n",
              "    <tr>\n",
              "      <th>min</th>\n",
              "      <td>65.00000</td>\n",
              "      <td>79.000000</td>\n",
              "      <td>39.000000</td>\n",
              "      <td>0.120000</td>\n",
              "      <td>-5.400000</td>\n",
              "    </tr>\n",
              "    <tr>\n",
              "      <th>25%</th>\n",
              "      <td>79.00000</td>\n",
              "      <td>79.000000</td>\n",
              "      <td>44.000000</td>\n",
              "      <td>4.220000</td>\n",
              "      <td>-3.300000</td>\n",
              "    </tr>\n",
              "    <tr>\n",
              "      <th>50%</th>\n",
              "      <td>87.00000</td>\n",
              "      <td>85.000000</td>\n",
              "      <td>49.000000</td>\n",
              "      <td>5.430000</td>\n",
              "      <td>-2.100000</td>\n",
              "    </tr>\n",
              "    <tr>\n",
              "      <th>75%</th>\n",
              "      <td>94.00000</td>\n",
              "      <td>93.000000</td>\n",
              "      <td>54.000000</td>\n",
              "      <td>9.330000</td>\n",
              "      <td>2.000000</td>\n",
              "    </tr>\n",
              "    <tr>\n",
              "      <th>max</th>\n",
              "      <td>99.00000</td>\n",
              "      <td>97.000000</td>\n",
              "      <td>59.000000</td>\n",
              "      <td>10.440000</td>\n",
              "      <td>5.000000</td>\n",
              "    </tr>\n",
              "  </tbody>\n",
              "</table>\n",
              "</div>\n",
              "      <button class=\"colab-df-convert\" onclick=\"convertToInteractive('df-db9d472a-b93f-418b-a66f-448ad2a48768')\"\n",
              "              title=\"Convert this dataframe to an interactive table.\"\n",
              "              style=\"display:none;\">\n",
              "        \n",
              "  <svg xmlns=\"http://www.w3.org/2000/svg\" height=\"24px\"viewBox=\"0 0 24 24\"\n",
              "       width=\"24px\">\n",
              "    <path d=\"M0 0h24v24H0V0z\" fill=\"none\"/>\n",
              "    <path d=\"M18.56 5.44l.94 2.06.94-2.06 2.06-.94-2.06-.94-.94-2.06-.94 2.06-2.06.94zm-11 1L8.5 8.5l.94-2.06 2.06-.94-2.06-.94L8.5 2.5l-.94 2.06-2.06.94zm10 10l.94 2.06.94-2.06 2.06-.94-2.06-.94-.94-2.06-.94 2.06-2.06.94z\"/><path d=\"M17.41 7.96l-1.37-1.37c-.4-.4-.92-.59-1.43-.59-.52 0-1.04.2-1.43.59L10.3 9.45l-7.72 7.72c-.78.78-.78 2.05 0 2.83L4 21.41c.39.39.9.59 1.41.59.51 0 1.02-.2 1.41-.59l7.78-7.78 2.81-2.81c.8-.78.8-2.07 0-2.86zM5.41 20L4 18.59l7.72-7.72 1.47 1.35L5.41 20z\"/>\n",
              "  </svg>\n",
              "      </button>\n",
              "      \n",
              "  <style>\n",
              "    .colab-df-container {\n",
              "      display:flex;\n",
              "      flex-wrap:wrap;\n",
              "      gap: 12px;\n",
              "    }\n",
              "\n",
              "    .colab-df-convert {\n",
              "      background-color: #E8F0FE;\n",
              "      border: none;\n",
              "      border-radius: 50%;\n",
              "      cursor: pointer;\n",
              "      display: none;\n",
              "      fill: #1967D2;\n",
              "      height: 32px;\n",
              "      padding: 0 0 0 0;\n",
              "      width: 32px;\n",
              "    }\n",
              "\n",
              "    .colab-df-convert:hover {\n",
              "      background-color: #E2EBFA;\n",
              "      box-shadow: 0px 1px 2px rgba(60, 64, 67, 0.3), 0px 1px 3px 1px rgba(60, 64, 67, 0.15);\n",
              "      fill: #174EA6;\n",
              "    }\n",
              "\n",
              "    [theme=dark] .colab-df-convert {\n",
              "      background-color: #3B4455;\n",
              "      fill: #D2E3FC;\n",
              "    }\n",
              "\n",
              "    [theme=dark] .colab-df-convert:hover {\n",
              "      background-color: #434B5C;\n",
              "      box-shadow: 0px 1px 3px 1px rgba(0, 0, 0, 0.15);\n",
              "      filter: drop-shadow(0px 1px 2px rgba(0, 0, 0, 0.3));\n",
              "      fill: #FFFFFF;\n",
              "    }\n",
              "  </style>\n",
              "\n",
              "      <script>\n",
              "        const buttonEl =\n",
              "          document.querySelector('#df-db9d472a-b93f-418b-a66f-448ad2a48768 button.colab-df-convert');\n",
              "        buttonEl.style.display =\n",
              "          google.colab.kernel.accessAllowed ? 'block' : 'none';\n",
              "\n",
              "        async function convertToInteractive(key) {\n",
              "          const element = document.querySelector('#df-db9d472a-b93f-418b-a66f-448ad2a48768');\n",
              "          const dataTable =\n",
              "            await google.colab.kernel.invokeFunction('convertToInteractive',\n",
              "                                                     [key], {});\n",
              "          if (!dataTable) return;\n",
              "\n",
              "          const docLinkHtml = 'Like what you see? Visit the ' +\n",
              "            '<a target=\"_blank\" href=https://colab.research.google.com/notebooks/data_table.ipynb>data table notebook</a>'\n",
              "            + ' to learn more about interactive tables.';\n",
              "          element.innerHTML = '';\n",
              "          dataTable['output_type'] = 'display_data';\n",
              "          await google.colab.output.renderOutput(dataTable, element);\n",
              "          const docLink = document.createElement('div');\n",
              "          docLink.innerHTML = docLinkHtml;\n",
              "          element.appendChild(docLink);\n",
              "        }\n",
              "      </script>\n",
              "    </div>\n",
              "  </div>\n",
              "  "
            ]
          },
          "metadata": {}
        },
        {
          "output_type": "display_data",
          "data": {
            "text/plain": [
              "       place\n",
              "count      5\n",
              "unique     2\n",
              "top        A\n",
              "freq       3"
            ],
            "text/html": [
              "\n",
              "  <div id=\"df-b80bfd84-8c27-47d3-825a-b01cf003652c\">\n",
              "    <div class=\"colab-df-container\">\n",
              "      <div>\n",
              "<style scoped>\n",
              "    .dataframe tbody tr th:only-of-type {\n",
              "        vertical-align: middle;\n",
              "    }\n",
              "\n",
              "    .dataframe tbody tr th {\n",
              "        vertical-align: top;\n",
              "    }\n",
              "\n",
              "    .dataframe thead th {\n",
              "        text-align: right;\n",
              "    }\n",
              "</style>\n",
              "<table border=\"1\" class=\"dataframe\">\n",
              "  <thead>\n",
              "    <tr style=\"text-align: right;\">\n",
              "      <th></th>\n",
              "      <th>place</th>\n",
              "    </tr>\n",
              "  </thead>\n",
              "  <tbody>\n",
              "    <tr>\n",
              "      <th>count</th>\n",
              "      <td>5</td>\n",
              "    </tr>\n",
              "    <tr>\n",
              "      <th>unique</th>\n",
              "      <td>2</td>\n",
              "    </tr>\n",
              "    <tr>\n",
              "      <th>top</th>\n",
              "      <td>A</td>\n",
              "    </tr>\n",
              "    <tr>\n",
              "      <th>freq</th>\n",
              "      <td>3</td>\n",
              "    </tr>\n",
              "  </tbody>\n",
              "</table>\n",
              "</div>\n",
              "      <button class=\"colab-df-convert\" onclick=\"convertToInteractive('df-b80bfd84-8c27-47d3-825a-b01cf003652c')\"\n",
              "              title=\"Convert this dataframe to an interactive table.\"\n",
              "              style=\"display:none;\">\n",
              "        \n",
              "  <svg xmlns=\"http://www.w3.org/2000/svg\" height=\"24px\"viewBox=\"0 0 24 24\"\n",
              "       width=\"24px\">\n",
              "    <path d=\"M0 0h24v24H0V0z\" fill=\"none\"/>\n",
              "    <path d=\"M18.56 5.44l.94 2.06.94-2.06 2.06-.94-2.06-.94-.94-2.06-.94 2.06-2.06.94zm-11 1L8.5 8.5l.94-2.06 2.06-.94-2.06-.94L8.5 2.5l-.94 2.06-2.06.94zm10 10l.94 2.06.94-2.06 2.06-.94-2.06-.94-.94-2.06-.94 2.06-2.06.94z\"/><path d=\"M17.41 7.96l-1.37-1.37c-.4-.4-.92-.59-1.43-.59-.52 0-1.04.2-1.43.59L10.3 9.45l-7.72 7.72c-.78.78-.78 2.05 0 2.83L4 21.41c.39.39.9.59 1.41.59.51 0 1.02-.2 1.41-.59l7.78-7.78 2.81-2.81c.8-.78.8-2.07 0-2.86zM5.41 20L4 18.59l7.72-7.72 1.47 1.35L5.41 20z\"/>\n",
              "  </svg>\n",
              "      </button>\n",
              "      \n",
              "  <style>\n",
              "    .colab-df-container {\n",
              "      display:flex;\n",
              "      flex-wrap:wrap;\n",
              "      gap: 12px;\n",
              "    }\n",
              "\n",
              "    .colab-df-convert {\n",
              "      background-color: #E8F0FE;\n",
              "      border: none;\n",
              "      border-radius: 50%;\n",
              "      cursor: pointer;\n",
              "      display: none;\n",
              "      fill: #1967D2;\n",
              "      height: 32px;\n",
              "      padding: 0 0 0 0;\n",
              "      width: 32px;\n",
              "    }\n",
              "\n",
              "    .colab-df-convert:hover {\n",
              "      background-color: #E2EBFA;\n",
              "      box-shadow: 0px 1px 2px rgba(60, 64, 67, 0.3), 0px 1px 3px 1px rgba(60, 64, 67, 0.15);\n",
              "      fill: #174EA6;\n",
              "    }\n",
              "\n",
              "    [theme=dark] .colab-df-convert {\n",
              "      background-color: #3B4455;\n",
              "      fill: #D2E3FC;\n",
              "    }\n",
              "\n",
              "    [theme=dark] .colab-df-convert:hover {\n",
              "      background-color: #434B5C;\n",
              "      box-shadow: 0px 1px 3px 1px rgba(0, 0, 0, 0.15);\n",
              "      filter: drop-shadow(0px 1px 2px rgba(0, 0, 0, 0.3));\n",
              "      fill: #FFFFFF;\n",
              "    }\n",
              "  </style>\n",
              "\n",
              "      <script>\n",
              "        const buttonEl =\n",
              "          document.querySelector('#df-b80bfd84-8c27-47d3-825a-b01cf003652c button.colab-df-convert');\n",
              "        buttonEl.style.display =\n",
              "          google.colab.kernel.accessAllowed ? 'block' : 'none';\n",
              "\n",
              "        async function convertToInteractive(key) {\n",
              "          const element = document.querySelector('#df-b80bfd84-8c27-47d3-825a-b01cf003652c');\n",
              "          const dataTable =\n",
              "            await google.colab.kernel.invokeFunction('convertToInteractive',\n",
              "                                                     [key], {});\n",
              "          if (!dataTable) return;\n",
              "\n",
              "          const docLinkHtml = 'Like what you see? Visit the ' +\n",
              "            '<a target=\"_blank\" href=https://colab.research.google.com/notebooks/data_table.ipynb>data table notebook</a>'\n",
              "            + ' to learn more about interactive tables.';\n",
              "          element.innerHTML = '';\n",
              "          dataTable['output_type'] = 'display_data';\n",
              "          await google.colab.output.renderOutput(dataTable, element);\n",
              "          const docLink = document.createElement('div');\n",
              "          docLink.innerHTML = docLinkHtml;\n",
              "          element.appendChild(docLink);\n",
              "        }\n",
              "      </script>\n",
              "    </div>\n",
              "  </div>\n",
              "  "
            ]
          },
          "metadata": {}
        },
        {
          "output_type": "display_data",
          "data": {
            "text/plain": [
              "          score1     score2     score3     weight      diff place\n",
              "count    5.00000   5.000000   2.000000   5.000000  5.000000     5\n",
              "unique       NaN        NaN        NaN        NaN       NaN     2\n",
              "top          NaN        NaN        NaN        NaN       NaN     A\n",
              "freq         NaN        NaN        NaN        NaN       NaN     3\n",
              "mean    84.80000  86.600000  49.000000   5.908000 -0.760000   NaN\n",
              "std     13.38656   8.173127  14.142136   4.148128  4.200357   NaN\n",
              "min     65.00000  79.000000  39.000000   0.120000 -5.400000   NaN\n",
              "25%     79.00000  79.000000  44.000000   4.220000 -3.300000   NaN\n",
              "50%     87.00000  85.000000  49.000000   5.430000 -2.100000   NaN\n",
              "75%     94.00000  93.000000  54.000000   9.330000  2.000000   NaN\n",
              "max     99.00000  97.000000  59.000000  10.440000  5.000000   NaN"
            ],
            "text/html": [
              "\n",
              "  <div id=\"df-51f6aac0-7ebe-4805-a975-d8ba9a9d1f53\">\n",
              "    <div class=\"colab-df-container\">\n",
              "      <div>\n",
              "<style scoped>\n",
              "    .dataframe tbody tr th:only-of-type {\n",
              "        vertical-align: middle;\n",
              "    }\n",
              "\n",
              "    .dataframe tbody tr th {\n",
              "        vertical-align: top;\n",
              "    }\n",
              "\n",
              "    .dataframe thead th {\n",
              "        text-align: right;\n",
              "    }\n",
              "</style>\n",
              "<table border=\"1\" class=\"dataframe\">\n",
              "  <thead>\n",
              "    <tr style=\"text-align: right;\">\n",
              "      <th></th>\n",
              "      <th>score1</th>\n",
              "      <th>score2</th>\n",
              "      <th>score3</th>\n",
              "      <th>weight</th>\n",
              "      <th>diff</th>\n",
              "      <th>place</th>\n",
              "    </tr>\n",
              "  </thead>\n",
              "  <tbody>\n",
              "    <tr>\n",
              "      <th>count</th>\n",
              "      <td>5.00000</td>\n",
              "      <td>5.000000</td>\n",
              "      <td>2.000000</td>\n",
              "      <td>5.000000</td>\n",
              "      <td>5.000000</td>\n",
              "      <td>5</td>\n",
              "    </tr>\n",
              "    <tr>\n",
              "      <th>unique</th>\n",
              "      <td>NaN</td>\n",
              "      <td>NaN</td>\n",
              "      <td>NaN</td>\n",
              "      <td>NaN</td>\n",
              "      <td>NaN</td>\n",
              "      <td>2</td>\n",
              "    </tr>\n",
              "    <tr>\n",
              "      <th>top</th>\n",
              "      <td>NaN</td>\n",
              "      <td>NaN</td>\n",
              "      <td>NaN</td>\n",
              "      <td>NaN</td>\n",
              "      <td>NaN</td>\n",
              "      <td>A</td>\n",
              "    </tr>\n",
              "    <tr>\n",
              "      <th>freq</th>\n",
              "      <td>NaN</td>\n",
              "      <td>NaN</td>\n",
              "      <td>NaN</td>\n",
              "      <td>NaN</td>\n",
              "      <td>NaN</td>\n",
              "      <td>3</td>\n",
              "    </tr>\n",
              "    <tr>\n",
              "      <th>mean</th>\n",
              "      <td>84.80000</td>\n",
              "      <td>86.600000</td>\n",
              "      <td>49.000000</td>\n",
              "      <td>5.908000</td>\n",
              "      <td>-0.760000</td>\n",
              "      <td>NaN</td>\n",
              "    </tr>\n",
              "    <tr>\n",
              "      <th>std</th>\n",
              "      <td>13.38656</td>\n",
              "      <td>8.173127</td>\n",
              "      <td>14.142136</td>\n",
              "      <td>4.148128</td>\n",
              "      <td>4.200357</td>\n",
              "      <td>NaN</td>\n",
              "    </tr>\n",
              "    <tr>\n",
              "      <th>min</th>\n",
              "      <td>65.00000</td>\n",
              "      <td>79.000000</td>\n",
              "      <td>39.000000</td>\n",
              "      <td>0.120000</td>\n",
              "      <td>-5.400000</td>\n",
              "      <td>NaN</td>\n",
              "    </tr>\n",
              "    <tr>\n",
              "      <th>25%</th>\n",
              "      <td>79.00000</td>\n",
              "      <td>79.000000</td>\n",
              "      <td>44.000000</td>\n",
              "      <td>4.220000</td>\n",
              "      <td>-3.300000</td>\n",
              "      <td>NaN</td>\n",
              "    </tr>\n",
              "    <tr>\n",
              "      <th>50%</th>\n",
              "      <td>87.00000</td>\n",
              "      <td>85.000000</td>\n",
              "      <td>49.000000</td>\n",
              "      <td>5.430000</td>\n",
              "      <td>-2.100000</td>\n",
              "      <td>NaN</td>\n",
              "    </tr>\n",
              "    <tr>\n",
              "      <th>75%</th>\n",
              "      <td>94.00000</td>\n",
              "      <td>93.000000</td>\n",
              "      <td>54.000000</td>\n",
              "      <td>9.330000</td>\n",
              "      <td>2.000000</td>\n",
              "      <td>NaN</td>\n",
              "    </tr>\n",
              "    <tr>\n",
              "      <th>max</th>\n",
              "      <td>99.00000</td>\n",
              "      <td>97.000000</td>\n",
              "      <td>59.000000</td>\n",
              "      <td>10.440000</td>\n",
              "      <td>5.000000</td>\n",
              "      <td>NaN</td>\n",
              "    </tr>\n",
              "  </tbody>\n",
              "</table>\n",
              "</div>\n",
              "      <button class=\"colab-df-convert\" onclick=\"convertToInteractive('df-51f6aac0-7ebe-4805-a975-d8ba9a9d1f53')\"\n",
              "              title=\"Convert this dataframe to an interactive table.\"\n",
              "              style=\"display:none;\">\n",
              "        \n",
              "  <svg xmlns=\"http://www.w3.org/2000/svg\" height=\"24px\"viewBox=\"0 0 24 24\"\n",
              "       width=\"24px\">\n",
              "    <path d=\"M0 0h24v24H0V0z\" fill=\"none\"/>\n",
              "    <path d=\"M18.56 5.44l.94 2.06.94-2.06 2.06-.94-2.06-.94-.94-2.06-.94 2.06-2.06.94zm-11 1L8.5 8.5l.94-2.06 2.06-.94-2.06-.94L8.5 2.5l-.94 2.06-2.06.94zm10 10l.94 2.06.94-2.06 2.06-.94-2.06-.94-.94-2.06-.94 2.06-2.06.94z\"/><path d=\"M17.41 7.96l-1.37-1.37c-.4-.4-.92-.59-1.43-.59-.52 0-1.04.2-1.43.59L10.3 9.45l-7.72 7.72c-.78.78-.78 2.05 0 2.83L4 21.41c.39.39.9.59 1.41.59.51 0 1.02-.2 1.41-.59l7.78-7.78 2.81-2.81c.8-.78.8-2.07 0-2.86zM5.41 20L4 18.59l7.72-7.72 1.47 1.35L5.41 20z\"/>\n",
              "  </svg>\n",
              "      </button>\n",
              "      \n",
              "  <style>\n",
              "    .colab-df-container {\n",
              "      display:flex;\n",
              "      flex-wrap:wrap;\n",
              "      gap: 12px;\n",
              "    }\n",
              "\n",
              "    .colab-df-convert {\n",
              "      background-color: #E8F0FE;\n",
              "      border: none;\n",
              "      border-radius: 50%;\n",
              "      cursor: pointer;\n",
              "      display: none;\n",
              "      fill: #1967D2;\n",
              "      height: 32px;\n",
              "      padding: 0 0 0 0;\n",
              "      width: 32px;\n",
              "    }\n",
              "\n",
              "    .colab-df-convert:hover {\n",
              "      background-color: #E2EBFA;\n",
              "      box-shadow: 0px 1px 2px rgba(60, 64, 67, 0.3), 0px 1px 3px 1px rgba(60, 64, 67, 0.15);\n",
              "      fill: #174EA6;\n",
              "    }\n",
              "\n",
              "    [theme=dark] .colab-df-convert {\n",
              "      background-color: #3B4455;\n",
              "      fill: #D2E3FC;\n",
              "    }\n",
              "\n",
              "    [theme=dark] .colab-df-convert:hover {\n",
              "      background-color: #434B5C;\n",
              "      box-shadow: 0px 1px 3px 1px rgba(0, 0, 0, 0.15);\n",
              "      filter: drop-shadow(0px 1px 2px rgba(0, 0, 0, 0.3));\n",
              "      fill: #FFFFFF;\n",
              "    }\n",
              "  </style>\n",
              "\n",
              "      <script>\n",
              "        const buttonEl =\n",
              "          document.querySelector('#df-51f6aac0-7ebe-4805-a975-d8ba9a9d1f53 button.colab-df-convert');\n",
              "        buttonEl.style.display =\n",
              "          google.colab.kernel.accessAllowed ? 'block' : 'none';\n",
              "\n",
              "        async function convertToInteractive(key) {\n",
              "          const element = document.querySelector('#df-51f6aac0-7ebe-4805-a975-d8ba9a9d1f53');\n",
              "          const dataTable =\n",
              "            await google.colab.kernel.invokeFunction('convertToInteractive',\n",
              "                                                     [key], {});\n",
              "          if (!dataTable) return;\n",
              "\n",
              "          const docLinkHtml = 'Like what you see? Visit the ' +\n",
              "            '<a target=\"_blank\" href=https://colab.research.google.com/notebooks/data_table.ipynb>data table notebook</a>'\n",
              "            + ' to learn more about interactive tables.';\n",
              "          element.innerHTML = '';\n",
              "          dataTable['output_type'] = 'display_data';\n",
              "          await google.colab.output.renderOutput(dataTable, element);\n",
              "          const docLink = document.createElement('div');\n",
              "          docLink.innerHTML = docLinkHtml;\n",
              "          element.appendChild(docLink);\n",
              "        }\n",
              "      </script>\n",
              "    </div>\n",
              "  </div>\n",
              "  "
            ]
          },
          "metadata": {}
        }
      ]
    },
    {
      "cell_type": "markdown",
      "source": [
        "#### 3-2 중심경향치\n",
        "\n",
        "* mean() : 산술평균\n",
        "* trim_mean() : 절사평균\n",
        "* np.average(weight=) : 가중평균\n",
        "* median() : 중앙값\n",
        "* mode() : 최빈값"
      ],
      "metadata": {
        "id": "MZi37mZ7hUOD"
      }
    },
    {
      "cell_type": "code",
      "source": [
        "# 한 변수의 평균\n",
        "print(\"한 변수:\", data[\"score1\"].mean())\n",
        "\n",
        "# 데이터프레임 전체 평균\n",
        "print(\"전체 평균:\",\"\\n\", data.mean())\n",
        "\n",
        "# 절사평균\n",
        "from scipy.stats import trim_mean\n",
        "print(trim_mean(data[\"score2\"], 0.1)) #상하단 0.1% 제외한 평균\n",
        "\n",
        "# 가중평균\n",
        "np.average(data[\"score2\"], weights = data[\"weight\"])"
      ],
      "metadata": {
        "colab": {
          "base_uri": "https://localhost:8080/"
        },
        "id": "G1u91iDehRqL",
        "outputId": "bd319f2f-0a18-4270-a64b-b505d8d51778"
      },
      "execution_count": null,
      "outputs": [
        {
          "output_type": "stream",
          "name": "stdout",
          "text": [
            "한 변수: 84.8\n",
            "전체 평균: \n",
            " score1    84.800\n",
            "score2    86.600\n",
            "score3    49.000\n",
            "weight     5.908\n",
            "diff      -0.760\n",
            "dtype: float64\n",
            "86.6\n"
          ]
        },
        {
          "output_type": "execute_result",
          "data": {
            "text/plain": [
              "86.01760324983074"
            ]
          },
          "metadata": {},
          "execution_count": 6
        }
      ]
    },
    {
      "cell_type": "code",
      "source": [
        "# 중앙값\n",
        "# 데이터 갯수 홀수\n",
        "print(data.score2.median())\n",
        "\n",
        "# 데이터 갯수 짝수\n",
        "x = [100, 600, 100, 200, 400, 500]\n",
        "print(np.median(x))"
      ],
      "metadata": {
        "colab": {
          "base_uri": "https://localhost:8080/"
        },
        "id": "EKxslcGUixNs",
        "outputId": "7337038e-8658-41b5-f797-4ca75a28bc08"
      },
      "execution_count": null,
      "outputs": [
        {
          "output_type": "stream",
          "name": "stdout",
          "text": [
            "85.0\n",
            "300.0\n"
          ]
        }
      ]
    },
    {
      "cell_type": "code",
      "source": [
        "# 최빈값\n",
        "data.score2.mode()"
      ],
      "metadata": {
        "colab": {
          "base_uri": "https://localhost:8080/"
        },
        "id": "uOocj6Dijea0",
        "outputId": "746ad676-eaf5-403b-a40e-752f01951b54"
      },
      "execution_count": null,
      "outputs": [
        {
          "output_type": "execute_result",
          "data": {
            "text/plain": [
              "0    79\n",
              "dtype: int64"
            ]
          },
          "metadata": {},
          "execution_count": 8
        }
      ]
    },
    {
      "cell_type": "markdown",
      "source": [
        "#### 3-3 산포도"
      ],
      "metadata": {
        "id": "Zir64oKujl7D"
      }
    },
    {
      "cell_type": "code",
      "source": [
        "# 범위\n",
        "print(data.score2.max() - data.score2.min())"
      ],
      "metadata": {
        "colab": {
          "base_uri": "https://localhost:8080/"
        },
        "id": "K5fR0eKFjlKr",
        "outputId": "45673855-ae1c-4e4b-b023-8fc702ad30b3"
      },
      "execution_count": null,
      "outputs": [
        {
          "output_type": "stream",
          "name": "stdout",
          "text": [
            "18\n"
          ]
        }
      ]
    },
    {
      "cell_type": "code",
      "source": [
        "# 분산\n",
        "print(data.score2.var())\n",
        "\n",
        "# 표준편차\n",
        "print(data.score2.std())"
      ],
      "metadata": {
        "colab": {
          "base_uri": "https://localhost:8080/"
        },
        "id": "b27EpfWDjyvd",
        "outputId": "b0dbdac2-7532-4730-d116-255e26dffe30"
      },
      "execution_count": null,
      "outputs": [
        {
          "output_type": "stream",
          "name": "stdout",
          "text": [
            "66.8\n",
            "8.17312669668102\n"
          ]
        }
      ]
    },
    {
      "cell_type": "code",
      "source": [
        "# 사분위수 범위(IQR)\n",
        "print(data.score2.quantile(0.75) - data.score2.quantile(0.25))"
      ],
      "metadata": {
        "colab": {
          "base_uri": "https://localhost:8080/"
        },
        "id": "bmdvBkMWj8HT",
        "outputId": "816cc5e4-e0ee-422e-949f-3bc487997d28"
      },
      "execution_count": null,
      "outputs": [
        {
          "output_type": "stream",
          "name": "stdout",
          "text": [
            "14.0\n"
          ]
        }
      ]
    },
    {
      "cell_type": "code",
      "source": [
        "# 변동계수(cv = sigma/mu)\n",
        "\n",
        "cv1 = data.score1.std() / data.score1.mean()\n",
        "cv2 = data.score2.std() / data.score2.mean()\n",
        "\n",
        "print(\"score1 cv : {}\".format(round(cv1,3)), \"\\n\",\n",
        "      \"score2 cv : {}\".format(round(cv2,3)))"
      ],
      "metadata": {
        "colab": {
          "base_uri": "https://localhost:8080/"
        },
        "id": "Ops6XZaCkE7s",
        "outputId": "62a71b07-a935-4ac8-c99a-702e05ac0a19"
      },
      "execution_count": null,
      "outputs": [
        {
          "output_type": "stream",
          "name": "stdout",
          "text": [
            "score1 cv : 0.158 \n",
            " score2 cv : 0.094\n"
          ]
        }
      ]
    },
    {
      "cell_type": "markdown",
      "source": [
        "#### 3-4 비대칭도"
      ],
      "metadata": {
        "id": "f26riygSkzdm"
      }
    },
    {
      "cell_type": "code",
      "source": [
        "import matplotlib.pyplot as plt\n",
        "import seaborn as sns\n",
        "%matplotlib inline\n",
        "\n",
        "\n",
        "# os에 따른 font 깨짐 제거를 위해 font 지정\n",
        "\n",
        "import os\n",
        "\n",
        "if os.name == \"nt\":\n",
        "    font_family = \"Malgun Gothic\"\n",
        "else: #mac os\n",
        "    font_family = \"AppleGothic\"\n",
        "    \n",
        "# - 값이 깨지는 문제 해결을 위해 파라미터값 설정\n",
        "\n",
        "sns.set(font = font_family, rc = {\"axes.unicode_minus\" : False})"
      ],
      "metadata": {
        "id": "YoONbhoLk5yr"
      },
      "execution_count": null,
      "outputs": []
    },
    {
      "cell_type": "code",
      "source": [
        "pd.Series([1, 1, 1, 1, 1, 1, 1, 1, 1, 1, 1, 2, 2, 2, 2, 2, 3, 4, 5]).skew()"
      ],
      "metadata": {
        "colab": {
          "base_uri": "https://localhost:8080/"
        },
        "id": "UCq49zsPBRBP",
        "outputId": "44d97f21-407a-4a7b-e675-f43c61cacdbc"
      },
      "execution_count": null,
      "outputs": [
        {
          "output_type": "execute_result",
          "data": {
            "text/plain": [
              "1.8119344628051428"
            ]
          },
          "metadata": {},
          "execution_count": 20
        }
      ]
    },
    {
      "cell_type": "code",
      "source": [
        "# 왜도\n",
        "from scipy.stats import skew\n",
        "\n",
        "skew_list1 = [1, 1, 1, 1, 1, 1, 1, 1, 1, 1, 1, 2, 2, 2, 2, 2, 3, 4, 5]\n",
        "skew_list2 = [1, 2, 3, 3, 4, 4, 5, 5, 5, 5, 6, 6, 6, 6, 6, 6, 6, 6]\n",
        "\n",
        "print(skew(skew_list1))\n",
        "print(skew(skew_list2))"
      ],
      "metadata": {
        "colab": {
          "base_uri": "https://localhost:8080/"
        },
        "id": "JO0_-kqjlHP9",
        "outputId": "5d7d2005-f45c-4a77-99cd-6960224894ce"
      },
      "execution_count": null,
      "outputs": [
        {
          "output_type": "stream",
          "name": "stdout",
          "text": [
            "1.6656293067949786\n",
            "-1.0422210554570965\n"
          ]
        }
      ]
    },
    {
      "cell_type": "code",
      "source": [
        "# 왜도 시각화\n",
        "\n",
        "plt.figure(figsize = (12,6))\n",
        "plt.subplot(1,2,1)\n",
        "dis_plot = sns.distplot(skew_list1)\n",
        "plt.title(\"우쯕 꼬리 분포, 왜도 > 0\", fontsize = 16)\n",
        "\n",
        "plt.subplot(1,2,2)\n",
        "dis_plot = sns.distplot(skew_list2)\n",
        "plt.title(\"좌쯕 꼬리 분포, 왜도 < 0\", fontsize = 16)\n",
        "plt.show()"
      ],
      "metadata": {
        "colab": {
          "base_uri": "https://localhost:8080/",
          "height": 395
        },
        "id": "Bb_8SdMemALs",
        "outputId": "7bc34344-a16b-4bde-b7ff-c35bbcab27ae"
      },
      "execution_count": null,
      "outputs": [
        {
          "output_type": "display_data",
          "data": {
            "text/plain": [
              "<Figure size 864x432 with 2 Axes>"
            ],
            "image/png": "[encoded data removed]"
          },
          "metadata": {}
        }
      ]
    },
    {
      "cell_type": "code",
      "source": [
        "# 첨도 산출\n",
        "from scipy.stats import kurtosis\n",
        "\n",
        "kur_list1 = [1,2,3,4,5,6,7,8,9,10]\n",
        "kur_list2 = [1,2,3,4,5,5,5,5,5,5,5,5,5,5,5,5,5,5,5,5,5,5,5,5,5,6,7,8,9,10]\n",
        "\n",
        "print(kurtosis(kur_list1))\n",
        "print(kurtosis(kur_list2))"
      ],
      "metadata": {
        "colab": {
          "base_uri": "https://localhost:8080/"
        },
        "id": "cj_XvfWTm0CJ",
        "outputId": "706b6964-99f6-4614-d960-a40535b0fb35"
      },
      "execution_count": null,
      "outputs": [
        {
          "output_type": "stream",
          "name": "stdout",
          "text": [
            "-1.2242424242424244\n",
            "2.351887069895106\n"
          ]
        }
      ]
    },
    {
      "cell_type": "code",
      "source": [
        "# 첨도 시각화\n",
        "\n",
        "plt.figure(figsize = (12,6))\n",
        "plt.subplot(1,2,1)\n",
        "dis_plot = sns.distplot(kur_list1)\n",
        "plt.title(\" 첨도 < 1\", fontsize = 16)\n",
        "\n",
        "plt.subplot(1,2,2)\n",
        "dis_plot = sns.distplot(kur_list2)\n",
        "plt.title(\" 첨도 > 1\", fontsize = 16)\n",
        "plt.show()"
      ],
      "metadata": {
        "colab": {
          "base_uri": "https://localhost:8080/",
          "height": 395
        },
        "id": "jQwrAsOgnNiU",
        "outputId": "98dbc669-b53e-4f39-dc35-57efc6e300ec"
      },
      "execution_count": null,
      "outputs": [
        {
          "output_type": "display_data",
          "data": {
            "text/plain": [
              "<Figure size 864x432 with 2 Axes>"
            ],
            "image/png": "[encoded data removed]"
          },
          "metadata": {}
        }
      ]
    }
  ]
}