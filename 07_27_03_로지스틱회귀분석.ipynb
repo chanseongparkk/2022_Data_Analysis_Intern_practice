{
  "nbformat": 4,
  "nbformat_minor": 0,
  "metadata": {
    "colab": {
      "provenance": [],
      "authorship_tag": "ABX9TyMS0aSkMox8Ukl6BHdvm+tG",
      "include_colab_link": true
    },
    "kernelspec": {
      "name": "python3",
      "display_name": "Python 3"
    },
    "language_info": {
      "name": "python"
    }
  },
  "cells": [
    {
      "cell_type": "markdown",
      "metadata": {
        "id": "view-in-github",
        "colab_type": "text"
      },
      "source": [
        "<a href=\"https://colab.research.google.com/github/chanseongparkk/2022_Data_Analysis_Intern_practice/blob/main/07_27_03_%EB%A1%9C%EC%A7%80%EC%8A%A4%ED%8B%B1%ED%9A%8C%EA%B7%80%EB%B6%84%EC%84%9D.ipynb\" target=\"_parent\"><img src=\"https://colab.research.google.com/assets/colab-badge.svg\" alt=\"Open In Colab\"/></a>"
      ]
    },
    {
      "cell_type": "code",
      "execution_count": null,
      "metadata": {
        "id": "fQ4-wAhp_4xS"
      },
      "outputs": [],
      "source": [
        "# 패키지 임포트\n",
        "import os\n",
        "import warnings\n",
        "# FutureWarning 제거\n",
        "warnings.simplefilter(action='ignore', category=FutureWarning) \n",
        "import pandas as pd # pandas package\n",
        "import numpy as np # numpy package \n",
        "import scipy as sp # Scipy Package \n",
        "from scipy import stats # Scipy Package \n",
        "from sklearn import datasets # sklearn dataset \n",
        "from sklearn.model_selection import train_test_split # 데이터셋 분리\n",
        "# 시각화 패키지\n",
        "import matplotlib.pyplot as plt # matplotlib 시각화 패키지\n",
        "import seaborn as sns\n",
        "%matplotlib inline\n",
        "# os에 따른 Font 깨짐 제거를 위해 Font 지정\n",
        "import os\n",
        "if os.name == 'nt' : # Windows OS \n",
        " font_family = \"Malgun Gothic\"\n",
        "else: # MAC OS \n",
        " font_family = \"AppleGothic\"\n",
        "# - 값이 깨지는 문제 해결을 위해 파라미터값 설정\n",
        "sns.set(font=font_family, rc ={\"axes.unicode_minus\" : False})"
      ]
    },
    {
      "cell_type": "code",
      "source": [
        "## logit function visualize\n",
        "\n",
        "p = np.arange(0.001, 1, 0.001)\n",
        "\n",
        "logit_df = pd.DataFrame({\n",
        "    \"p\" : p,\n",
        "    \"logit\" : np.log(p / (1-p)),\n",
        "    \"odds\": p / (1-p)\n",
        "})\n",
        "\n",
        "fig , ax = plt.subplots(figsize = (5,4))\n",
        "ax.axhline(0, color = \"gray\", linestyle = \"--\")\n",
        "ax.axvline(0.5, color = \"gray\", linestyle = \"--\")\n",
        "ax.plot(logit_df[\"p\"], logit_df[\"logit\"])\n",
        "ax.set_xlabel(\"Probability\")\n",
        "ax.set_ylabel(\"logit(p)\")\n",
        "\n",
        "plt.tight_layout()\n",
        "plt.show()"
      ],
      "metadata": {
        "colab": {
          "base_uri": "https://localhost:8080/",
          "height": 297
        },
        "id": "RsromIXOEo47",
        "outputId": "2caaf8cf-0401-468a-f6e7-df5b5c3aba82"
      },
      "execution_count": null,
      "outputs": [
        {
          "output_type": "display_data",
          "data": {
            "text/plain": [
              "<Figure size 360x288 with 1 Axes>"
            ],
            "image/png": "[encoded data removed]"
          },
          "metadata": {
            "needs_background": "light"
          }
        }
      ]
    },
    {
      "cell_type": "code",
      "source": [
        "## logistic function = sigmoid\n",
        "\n",
        "x = logit_df[\"logit\"]\n",
        "phi = 1/ (1 + np.exp(-x)) # x:판별함수\n",
        "plt.figure(figsize = (5,4))\n",
        "\n",
        "plt.plot(x, phi)\n",
        "plt.xlabel(\"x\")\n",
        "plt.ylabel(\"Probability\")\n",
        "\n",
        "plt.show()"
      ],
      "metadata": {
        "colab": {
          "base_uri": "https://localhost:8080/",
          "height": 285
        },
        "id": "lNirXMxrFouj",
        "outputId": "20e3f435-48be-4c93-e5b0-d41f23b0b25f"
      },
      "execution_count": null,
      "outputs": [
        {
          "output_type": "display_data",
          "data": {
            "text/plain": [
              "<Figure size 360x288 with 1 Axes>"
            ],
            "image/png": "[encoded data removed]"
          },
          "metadata": {
            "needs_background": "light"
          }
        }
      ]
    },
    {
      "cell_type": "code",
      "source": [
        "# 사례 결과 확인\n",
        "phi = 1 / (1 + np.exp(-2))\n",
        "print(phi)"
      ],
      "metadata": {
        "colab": {
          "base_uri": "https://localhost:8080/"
        },
        "id": "zGnZn6gHGBPr",
        "outputId": "0b06f959-2e38-441d-9c7f-54f360ab2e98"
      },
      "execution_count": null,
      "outputs": [
        {
          "output_type": "stream",
          "name": "stdout",
          "text": [
            "0.8807970779778823\n"
          ]
        }
      ]
    },
    {
      "cell_type": "markdown",
      "source": [
        "### 이항 로지스틱 회귀(위스콘신 유방암 데이터셋)"
      ],
      "metadata": {
        "id": "Y3A5acEIGLHZ"
      }
    },
    {
      "cell_type": "code",
      "source": [
        "### dataset\n",
        "from sklearn.datasets import load_breast_cancer\n",
        "\n",
        "# load data\n",
        "data = load_breast_cancer()\n",
        "\n",
        "X = data.data\n",
        "y = data.target\n",
        "\n",
        "tumar = data.target_names\n",
        "\n",
        "feature_names = data.feature_names\n",
        "\n",
        "breast_df = pd.DataFrame(X, columns = feature_names)\n",
        "breast_df[\"target\"] = y\n",
        "\n",
        "#속성명 공백에 \"_\"달기\n",
        "breast_df.columns = [col.replace(\" \",\"_\") for col in breast_df.columns]"
      ],
      "metadata": {
        "id": "UBpT_AigGIhy"
      },
      "execution_count": null,
      "outputs": []
    },
    {
      "cell_type": "code",
      "source": [
        "print(breast_df.shape)\n",
        "print(breast_df[\"target\"].value_counts())"
      ],
      "metadata": {
        "colab": {
          "base_uri": "https://localhost:8080/"
        },
        "id": "E-ZMtkW0HANS",
        "outputId": "cf4147ec-df73-4601-c939-6bb630608d35"
      },
      "execution_count": null,
      "outputs": [
        {
          "output_type": "stream",
          "name": "stdout",
          "text": [
            "(569, 31)\n",
            "1    357\n",
            "0    212\n",
            "Name: target, dtype: int64\n"
          ]
        }
      ]
    },
    {
      "cell_type": "code",
      "source": [
        "X = breast_df[[\"mean_radius\", \"mean_texture\", \"mean_perimeter\"]]\n",
        "y = breast_df[\"target\"]\n",
        "\n",
        "# train test split\n",
        "\n",
        "X_train, X_test, y_train, y_test = train_test_split(X, y, test_size = 0.2, random_state = 42)\n",
        "\n",
        "## scaling\n",
        "from sklearn.preprocessing import StandardScaler\n",
        "\n",
        "\n",
        "scaler = StandardScaler()\n",
        "train_scaled = scaler.fit_transform(X_train)\n",
        "test_scaled = scaler.transform(X_test)"
      ],
      "metadata": {
        "id": "CjEIz_RlHUrp"
      },
      "execution_count": null,
      "outputs": []
    },
    {
      "cell_type": "code",
      "source": [
        "from sklearn.linear_model import LogisticRegression\n",
        "\n",
        "lr = LogisticRegression(max_iter = 100)  # 반복 100회\n",
        "lr.fit(train_scaled, y_train)\n",
        "\n",
        "print(lr.score(test_scaled, y_test))"
      ],
      "metadata": {
        "colab": {
          "base_uri": "https://localhost:8080/"
        },
        "id": "4RH6USecIQmx",
        "outputId": "c14394ba-ea51-4a39-ff40-04d8de30642f"
      },
      "execution_count": null,
      "outputs": [
        {
          "output_type": "stream",
          "name": "stdout",
          "text": [
            "0.9298245614035088\n"
          ]
        }
      ]
    },
    {
      "cell_type": "code",
      "source": [
        "y_test"
      ],
      "metadata": {
        "colab": {
          "base_uri": "https://localhost:8080/"
        },
        "id": "KSni88BvJUMy",
        "outputId": "2ba3d163-730a-470f-c816-366737bf788f"
      },
      "execution_count": null,
      "outputs": [
        {
          "output_type": "execute_result",
          "data": {
            "text/plain": [
              "204    1\n",
              "70     0\n",
              "131    0\n",
              "431    1\n",
              "540    1\n",
              "      ..\n",
              "486    1\n",
              "75     0\n",
              "249    1\n",
              "238    1\n",
              "265    0\n",
              "Name: target, Length: 114, dtype: int64"
            ]
          },
          "metadata": {},
          "execution_count": 32
        }
      ]
    },
    {
      "cell_type": "code",
      "source": [
        "y_pred = lr.predict(test_scaled)\n",
        "y_proba = lr.predict_proba(test_scaled)"
      ],
      "metadata": {
        "id": "t80_0R6MIxlK"
      },
      "execution_count": null,
      "outputs": []
    }
  ]
}