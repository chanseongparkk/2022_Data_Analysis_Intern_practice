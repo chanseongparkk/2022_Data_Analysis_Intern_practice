{
  "nbformat": 4,
  "nbformat_minor": 0,
  "metadata": {
    "colab": {
      "provenance": [],
      "authorship_tag": "ABX9TyNhsEWA8eAr4rSYL5AAoVnc",
      "include_colab_link": true
    },
    "kernelspec": {
      "name": "python3",
      "display_name": "Python 3"
    },
    "language_info": {
      "name": "python"
    }
  },
  "cells": [
    {
      "cell_type": "markdown",
      "metadata": {
        "id": "view-in-github",
        "colab_type": "text"
      },
      "source": [
        "<a href=\"https://colab.research.google.com/github/chanseongparkk/2022_Data_Analysis_Intern_practice/blob/main/07_27_01_%EB%82%98%EC%9D%B4%EB%B8%8C%EB%B2%A0%EC%9D%B4%EC%A6%88.ipynb\" target=\"_parent\"><img src=\"https://colab.research.google.com/assets/colab-badge.svg\" alt=\"Open In Colab\"/></a>"
      ]
    },
    {
      "cell_type": "markdown",
      "source": [
        "### 나이브베이즈 실습"
      ],
      "metadata": {
        "id": "ejb6Y5OwTQ8H"
      }
    },
    {
      "cell_type": "code",
      "execution_count": null,
      "metadata": {
        "id": "2ZXwQ1nPNQJI"
      },
      "outputs": [],
      "source": [
        "import numpy as np\n",
        "import pandas as pd\n",
        "import scipy as sp\n",
        "from sklearn.datasets import load_iris\n",
        "from sklearn.model_selection import train_test_split"
      ]
    },
    {
      "cell_type": "code",
      "source": [
        "## 가우지안 나이브 베이즈\n",
        "\n",
        "from sklearn.naive_bayes import GaussianNB\n",
        "\n",
        "## iris 데이터 로드\n",
        "\n",
        "iris = load_iris()\n",
        "df_x = pd.DataFrame(iris.data, columns = iris.feature_names)\n",
        "df_y = pd.DataFrame(iris.target, columns = [\"target\"])\n",
        "\n",
        "# train test split\n",
        "X_train, X_test, y_train, y_test = train_test_split(df_x, df_y, test_size = 0.2, random_state = 123)\n",
        "\n",
        "print(X_train.shape, X_test.shape)\n"
      ],
      "metadata": {
        "colab": {
          "base_uri": "https://localhost:8080/"
        },
        "id": "bCK1gjVANmvW",
        "outputId": "7697b507-d7f9-4c83-81f8-e51684da8306"
      },
      "execution_count": null,
      "outputs": [
        {
          "output_type": "stream",
          "name": "stdout",
          "text": [
            "(120, 4) (30, 4)\n"
          ]
        }
      ]
    },
    {
      "cell_type": "code",
      "source": [
        "X_train.tail()"
      ],
      "metadata": {
        "colab": {
          "base_uri": "https://localhost:8080/",
          "height": 206
        },
        "id": "fLE8hWbyOWel",
        "outputId": "f2e4ea16-1e71-434d-9c75-d523523a9055"
      },
      "execution_count": null,
      "outputs": [
        {
          "output_type": "execute_result",
          "data": {
            "text/plain": [
              "     sepal length (cm)  sepal width (cm)  petal length (cm)  petal width (cm)\n",
              "17                 5.1               3.5                1.4               0.3\n",
              "98                 5.1               2.5                3.0               1.1\n",
              "66                 5.6               3.0                4.5               1.5\n",
              "126                6.2               2.8                4.8               1.8\n",
              "109                7.2               3.6                6.1               2.5"
            ],
            "text/html": [
              "\n",
              "  <div id=\"df-315a95ee-699f-4af2-9fa2-85541e84af75\">\n",
              "    <div class=\"colab-df-container\">\n",
              "      <div>\n",
              "<style scoped>\n",
              "    .dataframe tbody tr th:only-of-type {\n",
              "        vertical-align: middle;\n",
              "    }\n",
              "\n",
              "    .dataframe tbody tr th {\n",
              "        vertical-align: top;\n",
              "    }\n",
              "\n",
              "    .dataframe thead th {\n",
              "        text-align: right;\n",
              "    }\n",
              "</style>\n",
              "<table border=\"1\" class=\"dataframe\">\n",
              "  <thead>\n",
              "    <tr style=\"text-align: right;\">\n",
              "      <th></th>\n",
              "      <th>sepal length (cm)</th>\n",
              "      <th>sepal width (cm)</th>\n",
              "      <th>petal length (cm)</th>\n",
              "      <th>petal width (cm)</th>\n",
              "    </tr>\n",
              "  </thead>\n",
              "  <tbody>\n",
              "    <tr>\n",
              "      <th>17</th>\n",
              "      <td>5.1</td>\n",
              "      <td>3.5</td>\n",
              "      <td>1.4</td>\n",
              "      <td>0.3</td>\n",
              "    </tr>\n",
              "    <tr>\n",
              "      <th>98</th>\n",
              "      <td>5.1</td>\n",
              "      <td>2.5</td>\n",
              "      <td>3.0</td>\n",
              "      <td>1.1</td>\n",
              "    </tr>\n",
              "    <tr>\n",
              "      <th>66</th>\n",
              "      <td>5.6</td>\n",
              "      <td>3.0</td>\n",
              "      <td>4.5</td>\n",
              "      <td>1.5</td>\n",
              "    </tr>\n",
              "    <tr>\n",
              "      <th>126</th>\n",
              "      <td>6.2</td>\n",
              "      <td>2.8</td>\n",
              "      <td>4.8</td>\n",
              "      <td>1.8</td>\n",
              "    </tr>\n",
              "    <tr>\n",
              "      <th>109</th>\n",
              "      <td>7.2</td>\n",
              "      <td>3.6</td>\n",
              "      <td>6.1</td>\n",
              "      <td>2.5</td>\n",
              "    </tr>\n",
              "  </tbody>\n",
              "</table>\n",
              "</div>\n",
              "      <button class=\"colab-df-convert\" onclick=\"convertToInteractive('df-315a95ee-699f-4af2-9fa2-85541e84af75')\"\n",
              "              title=\"Convert this dataframe to an interactive table.\"\n",
              "              style=\"display:none;\">\n",
              "        \n",
              "  <svg xmlns=\"http://www.w3.org/2000/svg\" height=\"24px\"viewBox=\"0 0 24 24\"\n",
              "       width=\"24px\">\n",
              "    <path d=\"M0 0h24v24H0V0z\" fill=\"none\"/>\n",
              "    <path d=\"M18.56 5.44l.94 2.06.94-2.06 2.06-.94-2.06-.94-.94-2.06-.94 2.06-2.06.94zm-11 1L8.5 8.5l.94-2.06 2.06-.94-2.06-.94L8.5 2.5l-.94 2.06-2.06.94zm10 10l.94 2.06.94-2.06 2.06-.94-2.06-.94-.94-2.06-.94 2.06-2.06.94z\"/><path d=\"M17.41 7.96l-1.37-1.37c-.4-.4-.92-.59-1.43-.59-.52 0-1.04.2-1.43.59L10.3 9.45l-7.72 7.72c-.78.78-.78 2.05 0 2.83L4 21.41c.39.39.9.59 1.41.59.51 0 1.02-.2 1.41-.59l7.78-7.78 2.81-2.81c.8-.78.8-2.07 0-2.86zM5.41 20L4 18.59l7.72-7.72 1.47 1.35L5.41 20z\"/>\n",
              "  </svg>\n",
              "      </button>\n",
              "      \n",
              "  <style>\n",
              "    .colab-df-container {\n",
              "      display:flex;\n",
              "      flex-wrap:wrap;\n",
              "      gap: 12px;\n",
              "    }\n",
              "\n",
              "    .colab-df-convert {\n",
              "      background-color: #E8F0FE;\n",
              "      border: none;\n",
              "      border-radius: 50%;\n",
              "      cursor: pointer;\n",
              "      display: none;\n",
              "      fill: #1967D2;\n",
              "      height: 32px;\n",
              "      padding: 0 0 0 0;\n",
              "      width: 32px;\n",
              "    }\n",
              "\n",
              "    .colab-df-convert:hover {\n",
              "      background-color: #E2EBFA;\n",
              "      box-shadow: 0px 1px 2px rgba(60, 64, 67, 0.3), 0px 1px 3px 1px rgba(60, 64, 67, 0.15);\n",
              "      fill: #174EA6;\n",
              "    }\n",
              "\n",
              "    [theme=dark] .colab-df-convert {\n",
              "      background-color: #3B4455;\n",
              "      fill: #D2E3FC;\n",
              "    }\n",
              "\n",
              "    [theme=dark] .colab-df-convert:hover {\n",
              "      background-color: #434B5C;\n",
              "      box-shadow: 0px 1px 3px 1px rgba(0, 0, 0, 0.15);\n",
              "      filter: drop-shadow(0px 1px 2px rgba(0, 0, 0, 0.3));\n",
              "      fill: #FFFFFF;\n",
              "    }\n",
              "  </style>\n",
              "\n",
              "      <script>\n",
              "        const buttonEl =\n",
              "          document.querySelector('#df-315a95ee-699f-4af2-9fa2-85541e84af75 button.colab-df-convert');\n",
              "        buttonEl.style.display =\n",
              "          google.colab.kernel.accessAllowed ? 'block' : 'none';\n",
              "\n",
              "        async function convertToInteractive(key) {\n",
              "          const element = document.querySelector('#df-315a95ee-699f-4af2-9fa2-85541e84af75');\n",
              "          const dataTable =\n",
              "            await google.colab.kernel.invokeFunction('convertToInteractive',\n",
              "                                                     [key], {});\n",
              "          if (!dataTable) return;\n",
              "\n",
              "          const docLinkHtml = 'Like what you see? Visit the ' +\n",
              "            '<a target=\"_blank\" href=https://colab.research.google.com/notebooks/data_table.ipynb>data table notebook</a>'\n",
              "            + ' to learn more about interactive tables.';\n",
              "          element.innerHTML = '';\n",
              "          dataTable['output_type'] = 'display_data';\n",
              "          await google.colab.output.renderOutput(dataTable, element);\n",
              "          const docLink = document.createElement('div');\n",
              "          docLink.innerHTML = docLinkHtml;\n",
              "          element.appendChild(docLink);\n",
              "        }\n",
              "      </script>\n",
              "    </div>\n",
              "  </div>\n",
              "  "
            ]
          },
          "metadata": {},
          "execution_count": 3
        }
      ]
    },
    {
      "cell_type": "code",
      "source": [
        "##  가우지안 나이브베이즈 생성\n",
        "\n",
        "gnb = GaussianNB()\n",
        "\n",
        "## 모델링\n",
        "\n",
        "fit = gnb.fit(X_train, y_train)\n",
        "y_pred = fit.predict(X_test)\n",
        "print(y_pred)\n",
        "\n",
        "# 실제값과 예측값을 비교하여 틀린 갯수 확인\n",
        "print(\"테스트 데이터 수: %d, 틀린 갯수 : %d\"\n",
        "%(X_test.shape[0],(np.array(y_test.target.tolist()) != y_pred).sum()))"
      ],
      "metadata": {
        "colab": {
          "base_uri": "https://localhost:8080/"
        },
        "id": "ctpilyVNOZmk",
        "outputId": "a5a0ec2c-0cd0-4f8d-ce18-a215537b5282"
      },
      "execution_count": null,
      "outputs": [
        {
          "output_type": "stream",
          "name": "stdout",
          "text": [
            "[1 2 2 1 0 2 1 0 0 1 2 0 1 2 2 2 0 0 1 0 0 1 0 2 0 0 0 2 2 0]\n",
            "테스트 데이터 수: 30, 틀린 갯수 : 1\n"
          ]
        },
        {
          "output_type": "stream",
          "name": "stderr",
          "text": [
            "/usr/local/lib/python3.7/dist-packages/sklearn/utils/validation.py:993: DataConversionWarning: A column-vector y was passed when a 1d array was expected. Please change the shape of y to (n_samples, ), for example using ravel().\n",
            "  y = column_or_1d(y, warn=True)\n"
          ]
        }
      ]
    },
    {
      "cell_type": "code",
      "source": [
        "## 예측한 클래스와 해당 예측 데이터의 클래스별 확률\n",
        "# 클래스\n",
        "print(fit.classes_)\n",
        "\n",
        "# 분류된 클래스 수\n",
        "print(fit.class_count_)\n",
        "\n",
        "# 테스트 데이터\n",
        "print(X_test[:1],\"\\n\")\n",
        "\n",
        "# 테스트 데이터 1개에 대한 클래스가 나온 확률\n",
        "print(fit.predict_proba(X_test)[:1],\"\\n\")\n",
        "\n",
        "# 테스트 데이터 1개의 클래스\n",
        "print(fit.predict(X_test)[:1],\"\\n\")"
      ],
      "metadata": {
        "colab": {
          "base_uri": "https://localhost:8080/"
        },
        "id": "rNrZCRnHPXhu",
        "outputId": "b94fc5a1-590c-44f9-c9f3-4c3ccad99747"
      },
      "execution_count": null,
      "outputs": [
        {
          "output_type": "stream",
          "name": "stdout",
          "text": [
            "[0 1 2]\n",
            "[37. 44. 39.]\n",
            "    sepal length (cm)  sepal width (cm)  petal length (cm)  petal width (cm)\n",
            "72                6.3               2.5                4.9               1.5 \n",
            "\n",
            "[[7.24143720e-126 9.23061979e-001 7.69380215e-002]] \n",
            "\n",
            "[1] \n",
            "\n"
          ]
        }
      ]
    },
    {
      "cell_type": "code",
      "source": [
        "## 특정 값의 클래스별 확률 확인\n",
        "print(fit.predict_proba(X_test)[[1,20]])\n",
        "\n",
        "# 특정 변수의 범주별 클래스 확인\n",
        "fit.predict(X_test)[[1,20]]"
      ],
      "metadata": {
        "colab": {
          "base_uri": "https://localhost:8080/"
        },
        "id": "6gfbyGIbSQJ9",
        "outputId": "fa409fac-5281-4e8a-a4f8-a6515a1740d3"
      },
      "execution_count": null,
      "outputs": [
        {
          "output_type": "stream",
          "name": "stdout",
          "text": [
            "[[1.81805757e-197 1.22131524e-005 9.99987787e-001]\n",
            " [1.00000000e+000 8.57846082e-017 1.77097412e-025]]\n"
          ]
        },
        {
          "output_type": "execute_result",
          "data": {
            "text/plain": [
              "array([2, 0])"
            ]
          },
          "metadata": {},
          "execution_count": 8
        }
      ]
    },
    {
      "cell_type": "code",
      "source": [
        "# confusion matrix 확인\n",
        "from sklearn.metrics import confusion_matrix\n",
        "\n",
        "confusion_matrix(y_test, y_pred)\n",
        "\n",
        "# 2범주에 있는 하나의 오답이 오답의 전부이다.\n",
        "# 나이브 베이즈는 투자대비 효용이 높은 간단한 머신러닝 모델"
      ],
      "metadata": {
        "colab": {
          "base_uri": "https://localhost:8080/"
        },
        "id": "6_HLCNiiSxlt",
        "outputId": "ac3e343a-8346-4f4a-daf8-db973ee57049"
      },
      "execution_count": null,
      "outputs": [
        {
          "output_type": "execute_result",
          "data": {
            "text/plain": [
              "array([[13,  0,  0],\n",
              "       [ 0,  6,  0],\n",
              "       [ 0,  1, 10]])"
            ]
          },
          "metadata": {},
          "execution_count": 9
        }
      ]
    },
    {
      "cell_type": "markdown",
      "source": [
        "### 나이브 베이즈 직접 계산"
      ],
      "metadata": {
        "id": "gzRHzwKyTPJM"
      }
    },
    {
      "cell_type": "code",
      "source": [
        "X_test.head()"
      ],
      "metadata": {
        "colab": {
          "base_uri": "https://localhost:8080/",
          "height": 206
        },
        "id": "L9oHsuZ6TCVE",
        "outputId": "b7ff4ff1-bef8-44ac-efd4-04e44f6832bd"
      },
      "execution_count": null,
      "outputs": [
        {
          "output_type": "execute_result",
          "data": {
            "text/plain": [
              "     sepal length (cm)  sepal width (cm)  petal length (cm)  petal width (cm)\n",
              "72                 6.3               2.5                4.9               1.5\n",
              "112                6.8               3.0                5.5               2.1\n",
              "132                6.4               2.8                5.6               2.2\n",
              "88                 5.6               3.0                4.1               1.3\n",
              "37                 4.9               3.6                1.4               0.1"
            ],
            "text/html": [
              "\n",
              "  <div id=\"df-e6b696c6-aa96-491c-9170-0f613d41f449\">\n",
              "    <div class=\"colab-df-container\">\n",
              "      <div>\n",
              "<style scoped>\n",
              "    .dataframe tbody tr th:only-of-type {\n",
              "        vertical-align: middle;\n",
              "    }\n",
              "\n",
              "    .dataframe tbody tr th {\n",
              "        vertical-align: top;\n",
              "    }\n",
              "\n",
              "    .dataframe thead th {\n",
              "        text-align: right;\n",
              "    }\n",
              "</style>\n",
              "<table border=\"1\" class=\"dataframe\">\n",
              "  <thead>\n",
              "    <tr style=\"text-align: right;\">\n",
              "      <th></th>\n",
              "      <th>sepal length (cm)</th>\n",
              "      <th>sepal width (cm)</th>\n",
              "      <th>petal length (cm)</th>\n",
              "      <th>petal width (cm)</th>\n",
              "    </tr>\n",
              "  </thead>\n",
              "  <tbody>\n",
              "    <tr>\n",
              "      <th>72</th>\n",
              "      <td>6.3</td>\n",
              "      <td>2.5</td>\n",
              "      <td>4.9</td>\n",
              "      <td>1.5</td>\n",
              "    </tr>\n",
              "    <tr>\n",
              "      <th>112</th>\n",
              "      <td>6.8</td>\n",
              "      <td>3.0</td>\n",
              "      <td>5.5</td>\n",
              "      <td>2.1</td>\n",
              "    </tr>\n",
              "    <tr>\n",
              "      <th>132</th>\n",
              "      <td>6.4</td>\n",
              "      <td>2.8</td>\n",
              "      <td>5.6</td>\n",
              "      <td>2.2</td>\n",
              "    </tr>\n",
              "    <tr>\n",
              "      <th>88</th>\n",
              "      <td>5.6</td>\n",
              "      <td>3.0</td>\n",
              "      <td>4.1</td>\n",
              "      <td>1.3</td>\n",
              "    </tr>\n",
              "    <tr>\n",
              "      <th>37</th>\n",
              "      <td>4.9</td>\n",
              "      <td>3.6</td>\n",
              "      <td>1.4</td>\n",
              "      <td>0.1</td>\n",
              "    </tr>\n",
              "  </tbody>\n",
              "</table>\n",
              "</div>\n",
              "      <button class=\"colab-df-convert\" onclick=\"convertToInteractive('df-e6b696c6-aa96-491c-9170-0f613d41f449')\"\n",
              "              title=\"Convert this dataframe to an interactive table.\"\n",
              "              style=\"display:none;\">\n",
              "        \n",
              "  <svg xmlns=\"http://www.w3.org/2000/svg\" height=\"24px\"viewBox=\"0 0 24 24\"\n",
              "       width=\"24px\">\n",
              "    <path d=\"M0 0h24v24H0V0z\" fill=\"none\"/>\n",
              "    <path d=\"M18.56 5.44l.94 2.06.94-2.06 2.06-.94-2.06-.94-.94-2.06-.94 2.06-2.06.94zm-11 1L8.5 8.5l.94-2.06 2.06-.94-2.06-.94L8.5 2.5l-.94 2.06-2.06.94zm10 10l.94 2.06.94-2.06 2.06-.94-2.06-.94-.94-2.06-.94 2.06-2.06.94z\"/><path d=\"M17.41 7.96l-1.37-1.37c-.4-.4-.92-.59-1.43-.59-.52 0-1.04.2-1.43.59L10.3 9.45l-7.72 7.72c-.78.78-.78 2.05 0 2.83L4 21.41c.39.39.9.59 1.41.59.51 0 1.02-.2 1.41-.59l7.78-7.78 2.81-2.81c.8-.78.8-2.07 0-2.86zM5.41 20L4 18.59l7.72-7.72 1.47 1.35L5.41 20z\"/>\n",
              "  </svg>\n",
              "      </button>\n",
              "      \n",
              "  <style>\n",
              "    .colab-df-container {\n",
              "      display:flex;\n",
              "      flex-wrap:wrap;\n",
              "      gap: 12px;\n",
              "    }\n",
              "\n",
              "    .colab-df-convert {\n",
              "      background-color: #E8F0FE;\n",
              "      border: none;\n",
              "      border-radius: 50%;\n",
              "      cursor: pointer;\n",
              "      display: none;\n",
              "      fill: #1967D2;\n",
              "      height: 32px;\n",
              "      padding: 0 0 0 0;\n",
              "      width: 32px;\n",
              "    }\n",
              "\n",
              "    .colab-df-convert:hover {\n",
              "      background-color: #E2EBFA;\n",
              "      box-shadow: 0px 1px 2px rgba(60, 64, 67, 0.3), 0px 1px 3px 1px rgba(60, 64, 67, 0.15);\n",
              "      fill: #174EA6;\n",
              "    }\n",
              "\n",
              "    [theme=dark] .colab-df-convert {\n",
              "      background-color: #3B4455;\n",
              "      fill: #D2E3FC;\n",
              "    }\n",
              "\n",
              "    [theme=dark] .colab-df-convert:hover {\n",
              "      background-color: #434B5C;\n",
              "      box-shadow: 0px 1px 3px 1px rgba(0, 0, 0, 0.15);\n",
              "      filter: drop-shadow(0px 1px 2px rgba(0, 0, 0, 0.3));\n",
              "      fill: #FFFFFF;\n",
              "    }\n",
              "  </style>\n",
              "\n",
              "      <script>\n",
              "        const buttonEl =\n",
              "          document.querySelector('#df-e6b696c6-aa96-491c-9170-0f613d41f449 button.colab-df-convert');\n",
              "        buttonEl.style.display =\n",
              "          google.colab.kernel.accessAllowed ? 'block' : 'none';\n",
              "\n",
              "        async function convertToInteractive(key) {\n",
              "          const element = document.querySelector('#df-e6b696c6-aa96-491c-9170-0f613d41f449');\n",
              "          const dataTable =\n",
              "            await google.colab.kernel.invokeFunction('convertToInteractive',\n",
              "                                                     [key], {});\n",
              "          if (!dataTable) return;\n",
              "\n",
              "          const docLinkHtml = 'Like what you see? Visit the ' +\n",
              "            '<a target=\"_blank\" href=https://colab.research.google.com/notebooks/data_table.ipynb>data table notebook</a>'\n",
              "            + ' to learn more about interactive tables.';\n",
              "          element.innerHTML = '';\n",
              "          dataTable['output_type'] = 'display_data';\n",
              "          await google.colab.output.renderOutput(dataTable, element);\n",
              "          const docLink = document.createElement('div');\n",
              "          docLink.innerHTML = docLinkHtml;\n",
              "          element.appendChild(docLink);\n",
              "        }\n",
              "      </script>\n",
              "    </div>\n",
              "  </div>\n",
              "  "
            ]
          },
          "metadata": {},
          "execution_count": 10
        }
      ]
    },
    {
      "cell_type": "code",
      "source": [
        "# 예측할 데이터\n",
        "predict_data = np.array(X_test.iloc[0])\n",
        "predict_data"
      ],
      "metadata": {
        "colab": {
          "base_uri": "https://localhost:8080/"
        },
        "id": "5FJhQGssTZkk",
        "outputId": "0dff82ec-211c-42f1-f87d-357e3e6473e0"
      },
      "execution_count": null,
      "outputs": [
        {
          "output_type": "execute_result",
          "data": {
            "text/plain": [
              "array([6.3, 2.5, 4.9, 1.5])"
            ]
          },
          "metadata": {},
          "execution_count": 11
        }
      ]
    },
    {
      "cell_type": "code",
      "source": [
        "# 클래스 별 각 피쳐의 평균\n",
        "fit.theta_"
      ],
      "metadata": {
        "colab": {
          "base_uri": "https://localhost:8080/"
        },
        "id": "XEptm694TjBE",
        "outputId": "58cf9464-e779-493b-f1f7-58cc9d39aaed"
      },
      "execution_count": null,
      "outputs": [
        {
          "output_type": "execute_result",
          "data": {
            "text/plain": [
              "array([[5.01621622, 3.43243243, 1.46756757, 0.25945946],\n",
              "       [5.95      , 2.78409091, 4.24090909, 1.32272727],\n",
              "       [6.58717949, 2.95897436, 5.57948718, 2.02820513]])"
            ]
          },
          "metadata": {},
          "execution_count": 12
        }
      ]
    },
    {
      "cell_type": "code",
      "source": [
        "# 클래스 별 각 피쳐의 분산\n",
        "fit.sigma_"
      ],
      "metadata": {
        "colab": {
          "base_uri": "https://localhost:8080/"
        },
        "id": "D5CwZUZRToGr",
        "outputId": "f39fe383-d1b9-4342-8e82-c4412649ba03"
      },
      "execution_count": null,
      "outputs": [
        {
          "output_type": "stream",
          "name": "stderr",
          "text": [
            "/usr/local/lib/python3.7/dist-packages/sklearn/utils/deprecation.py:103: FutureWarning: Attribute `sigma_` was deprecated in 1.0 and will be removed in1.2. Use `var_` instead.\n",
            "  warnings.warn(msg, category=FutureWarning)\n"
          ]
        },
        {
          "output_type": "execute_result",
          "data": {
            "text/plain": [
              "array([[0.10568298, 0.14975895, 0.02705625, 0.01214025],\n",
              "       [0.27068182, 0.10042872, 0.22741736, 0.04221075],\n",
              "       [0.39752795, 0.11011177, 0.29188692, 0.0774096 ]])"
            ]
          },
          "metadata": {},
          "execution_count": 13
        }
      ]
    },
    {
      "cell_type": "code",
      "source": [
        "# 클래스 별 사전 확률\n",
        "fit.class_prior_"
      ],
      "metadata": {
        "colab": {
          "base_uri": "https://localhost:8080/"
        },
        "id": "IGXq5oXfTulL",
        "outputId": "4ed87c72-37cd-4240-8770-c6e1daf00639"
      },
      "execution_count": null,
      "outputs": [
        {
          "output_type": "execute_result",
          "data": {
            "text/plain": [
              "array([0.30833333, 0.36666667, 0.325     ])"
            ]
          },
          "metadata": {},
          "execution_count": 14
        }
      ]
    },
    {
      "cell_type": "code",
      "source": [
        "## class별 가능도 (likelihood) 산출\n",
        "likelihood = [\n",
        "# 0클래스\n",
        "(sp.stats.norm(fit.theta_[0][0],np.sqrt(fit.sigma_[0][0])).pdf(predict_data[0])*\\\n",
        " sp.stats.norm(fit.theta_[0][1],np.sqrt(fit.sigma_[0][1])).pdf(predict_data[1])*\\\n",
        " sp.stats.norm(fit.theta_[0][2],np.sqrt(fit.sigma_[0][2])).pdf(predict_data[2])*\\\n",
        " sp.stats.norm(fit.theta_[0][3],np.sqrt(fit.sigma_[0][3])).pdf(predict_data[3])),\\\n",
        " \n",
        "# 1클래스\n",
        "(sp.stats.norm(fit.theta_[1][0],np.sqrt(fit.sigma_[1][0])).pdf(predict_data[0])*\\\n",
        " sp.stats.norm(fit.theta_[1][1],np.sqrt(fit.sigma_[1][1])).pdf(predict_data[1])*\\\n",
        " sp.stats.norm(fit.theta_[1][2],np.sqrt(fit.sigma_[1][2])).pdf(predict_data[2])*\\\n",
        " sp.stats.norm(fit.theta_[1][3],np.sqrt(fit.sigma_[1][3])).pdf(predict_data[3])),\\\n",
        " \n",
        "# 2클래스\n",
        "(sp.stats.norm(fit.theta_[2][0],np.sqrt(fit.sigma_[2][0])).pdf(predict_data[0])*\\\n",
        " sp.stats.norm(fit.theta_[2][1],np.sqrt(fit.sigma_[2][1])).pdf(predict_data[1])*\\\n",
        " sp.stats.norm(fit.theta_[2][2],np.sqrt(fit.sigma_[2][2])).pdf(predict_data[2])*\\\n",
        " sp.stats.norm(fit.theta_[2][3],np.sqrt(fit.sigma_[2][3])).pdf(predict_data[3]))\n",
        "]\n",
        " \n",
        "likelihood"
      ],
      "metadata": {
        "colab": {
          "base_uri": "https://localhost:8080/"
        },
        "id": "1w0eqf1yT5SL",
        "outputId": "cba6fff8-8490-45f1-d1f8-eea916c7851b"
      },
      "execution_count": null,
      "outputs": [
        {
          "output_type": "stream",
          "name": "stderr",
          "text": [
            "/usr/local/lib/python3.7/dist-packages/sklearn/utils/deprecation.py:103: FutureWarning: Attribute `sigma_` was deprecated in 1.0 and will be removed in1.2. Use `var_` instead.\n",
            "  warnings.warn(msg, category=FutureWarning)\n"
          ]
        },
        {
          "output_type": "execute_result",
          "data": {
            "text/plain": [
              "[2.0700298536453225e-126, 0.2218869448618605, 0.020865556464324073]"
            ]
          },
          "metadata": {},
          "execution_count": 16
        }
      ]
    },
    {
      "cell_type": "code",
      "source": [
        "## 사후확률\n",
        "posterior = likelihood * fit.class_prior_\n",
        "print(posterior)\n",
        "\n",
        "## 정규화\n",
        "posterior / np.sum(posterior, axis = 0)"
      ],
      "metadata": {
        "colab": {
          "base_uri": "https://localhost:8080/"
        },
        "id": "gq8k0FLWV3u0",
        "outputId": "0992a335-7a52-4957-d487-705327518ea3"
      },
      "execution_count": null,
      "outputs": [
        {
          "output_type": "stream",
          "name": "stdout",
          "text": [
            "[6.38259205e-127 8.13585464e-002 6.78130585e-003]\n"
          ]
        },
        {
          "output_type": "execute_result",
          "data": {
            "text/plain": [
              "array([7.24143720e-126, 9.23061979e-001, 7.69380215e-002])"
            ]
          },
          "metadata": {},
          "execution_count": 17
        }
      ]
    },
    {
      "cell_type": "code",
      "source": [
        "## scipy gnb를 사용한 추정값\n",
        "print(fit.predict_proba(X_test)[[0]])"
      ],
      "metadata": {
        "colab": {
          "base_uri": "https://localhost:8080/"
        },
        "id": "7J-KEZk1WKkj",
        "outputId": "bb59e439-8887-407a-91a4-85209008d17d"
      },
      "execution_count": null,
      "outputs": [
        {
          "output_type": "stream",
          "name": "stdout",
          "text": [
            "[[7.24143720e-126 9.23061979e-001 7.69380215e-002]]\n"
          ]
        }
      ]
    },
    {
      "cell_type": "markdown",
      "source": [
        "### 다항분포 나이브 베이즈\n",
        "\n",
        "* 독립변수가 범주형"
      ],
      "metadata": {
        "id": "39HMGuLbWUzc"
      }
    },
    {
      "cell_type": "code",
      "source": [
        "## multinomial naive bayes\n",
        "\n",
        "from sklearn.naive_bayes import MultinomialNB\n",
        "\n",
        "## 난수 생성(0-3, 변수 10개 샘플사이즈 4)\n",
        "\n",
        "mnb_X_train = np.random.randint(4, size = (4,10))\n",
        "mnb_y_train = np.array([1,2,3,4])\n"
      ],
      "metadata": {
        "id": "LcQI5nMrWaH5"
      },
      "execution_count": null,
      "outputs": []
    },
    {
      "cell_type": "code",
      "source": [
        "print(mnb_X_train)\n",
        "print(mnb_y_train)"
      ],
      "metadata": {
        "colab": {
          "base_uri": "https://localhost:8080/"
        },
        "id": "5ZcD9FNhW03b",
        "outputId": "e86ef260-ef61-4924-89e6-6077489884e8"
      },
      "execution_count": null,
      "outputs": [
        {
          "output_type": "stream",
          "name": "stdout",
          "text": [
            "[[0 1 1 3 0 0 0 1 0 1]\n",
            " [1 1 2 2 3 0 2 0 1 2]\n",
            " [1 1 1 0 3 1 1 2 2 0]\n",
            " [3 2 3 2 0 0 0 0 2 0]]\n",
            "[1 2 3 4]\n"
          ]
        }
      ]
    },
    {
      "cell_type": "code",
      "source": [
        "# 학습\n",
        "mnb = MultinomialNB()\n",
        "\n",
        "fit_mnb = mnb.fit(mnb_X_train, mnb_y_train)\n",
        "\n",
        "print(fit_mnb.predict(mnb_X_train)[:1]) #예측값\n",
        "print(fit_mnb.predict_proba(mnb_X_train)[:1]) #확률"
      ],
      "metadata": {
        "colab": {
          "base_uri": "https://localhost:8080/"
        },
        "id": "gVODghhDW6Xz",
        "outputId": "8039d27d-3563-4102-d3ec-b71f65cfa410"
      },
      "execution_count": null,
      "outputs": [
        {
          "output_type": "stream",
          "name": "stdout",
          "text": [
            "[1]\n",
            "[[0.912042   0.03872709 0.00175825 0.04747266]]\n"
          ]
        }
      ]
    },
    {
      "cell_type": "markdown",
      "source": [
        "#### Prior(사전 확률 ) 설정\n",
        "- class 가 발생되는 사전 확률을 미리 알고 있었던 경우라고 가정"
      ],
      "metadata": {
        "id": "mMxyN8xrXaXT"
      }
    },
    {
      "cell_type": "code",
      "source": [
        "mnb2 = MultinomialNB(class_prior = [0.2,0.5,0.1,0.2])\n",
        "mnb2.fit(mnb_X_train,mnb_y_train)"
      ],
      "metadata": {
        "colab": {
          "base_uri": "https://localhost:8080/"
        },
        "id": "YXhom4gkXXw7",
        "outputId": "8339d2bf-22ad-467d-cceb-1dd88940201f"
      },
      "execution_count": null,
      "outputs": [
        {
          "output_type": "execute_result",
          "data": {
            "text/plain": [
              "MultinomialNB(class_prior=[0.2, 0.5, 0.1, 0.2])"
            ]
          },
          "metadata": {},
          "execution_count": 23
        }
      ]
    },
    {
      "cell_type": "code",
      "source": [
        "mnb2.predict_proba(mnb_X_train)"
      ],
      "metadata": {
        "colab": {
          "base_uri": "https://localhost:8080/"
        },
        "id": "PDvYJhuzXyRT",
        "outputId": "4bea9506-81aa-4c8c-b7f9-5838618235f3"
      },
      "execution_count": null,
      "outputs": [
        {
          "output_type": "execute_result",
          "data": {
            "text/plain": [
              "array([[8.62686401e-01, 9.15783956e-02, 8.31549161e-04, 4.49036547e-02],\n",
              "       [7.52498985e-03, 9.87969369e-01, 2.44373738e-03, 2.06190342e-03],\n",
              "       [3.84395178e-03, 8.83064811e-02, 9.03145683e-01, 4.70388377e-03],\n",
              "       [3.73348393e-03, 9.04591980e-03, 3.80725259e-04, 9.86839871e-01]])"
            ]
          },
          "metadata": {},
          "execution_count": 26
        }
      ]
    }
  ]
}