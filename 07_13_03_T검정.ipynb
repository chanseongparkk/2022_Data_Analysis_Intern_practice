{
  "nbformat": 4,
  "nbformat_minor": 0,
  "metadata": {
    "colab": {
      "provenance": [],
      "authorship_tag": "ABX9TyPNtIrAP9MCmbRoHzxHbEfE",
      "include_colab_link": true
    },
    "kernelspec": {
      "name": "python3",
      "display_name": "Python 3"
    },
    "language_info": {
      "name": "python"
    }
  },
  "cells": [
    {
      "cell_type": "markdown",
      "metadata": {
        "id": "view-in-github",
        "colab_type": "text"
      },
      "source": [
        "<a href=\"https://colab.research.google.com/github/chanseongparkk/2022_Data_Analysis_Intern_practice/blob/main/07_13_03_T%EA%B2%80%EC%A0%95.ipynb\" target=\"_parent\"><img src=\"https://colab.research.google.com/assets/colab-badge.svg\" alt=\"Open In Colab\"/></a>"
      ]
    },
    {
      "cell_type": "markdown",
      "source": [
        "### 1. 일표본 t검정\n",
        "\n",
        "* 아이리포 중학교 1학년의 평균 키는 175cm로 알려져 있다. 실제로도 그러한지 알아보기 위해 학생 14명을 임의로 뽑아서 키를 측정하였다. 해당 데이터를 가지고 아이리포 중학교 1학년 학생의 평균 키는 175cm와 같다고 할 수 있는지 검정해보자\n",
        "\n",
        "* H0 : 아이리포 중학교 1학년의 평균 키는 175cm이다.\n",
        "* H1 : 아이리포 중학교 1학년의 평균 키는 175cm가 아니다."
      ],
      "metadata": {
        "id": "lJyxuBAiriP2"
      }
    },
    {
      "cell_type": "code",
      "execution_count": null,
      "metadata": {
        "id": "DiS4r71L15oM"
      },
      "outputs": [],
      "source": [
        "# 패키지 임포트\n",
        "import pandas as pd\n",
        "import numpy as np\n",
        "from scipy import stats\n",
        "import math\n",
        "\n",
        "import matplotlib.pyplot as plt\n",
        "import seaborn as sns\n",
        "%matplotlib inline\n",
        "\n",
        "\n",
        "# os에 따른 font 깨짐 제거를 위해 font 지정\n",
        "\n",
        "import os\n",
        "\n",
        "if os.name == \"nt\":\n",
        "    font_family = \"Malgun Gothic\"\n",
        "else: #mac os\n",
        "    font_family = \"AppleGothic\"\n",
        "    \n",
        "# - 값이 깨지는 문제 해결을 위해 파라미터값 설정\n",
        "\n",
        "sns.set(font = font_family, rc = {\"axes.unicode_minus\" : False})\n",
        "\n",
        "import warnings\n",
        "warnings.filterwarnings(\"ignore\")"
      ]
    },
    {
      "cell_type": "code",
      "source": [
        "# 모집단 데이터\n",
        "\n",
        "data = [177.3, 182.7, 169.6, 160, 180.3, 179.4, 178.5, 177.2, 181.8, 176.5, 190, 185, 167, 171]\n",
        "data"
      ],
      "metadata": {
        "colab": {
          "base_uri": "https://localhost:8080/"
        },
        "id": "wGvSZnXBXK95",
        "outputId": "bd85c4da-90b5-4ce3-ab37-f226a72f918d"
      },
      "execution_count": null,
      "outputs": [
        {
          "output_type": "execute_result",
          "data": {
            "text/plain": [
              "[177.3,\n",
              " 182.7,\n",
              " 169.6,\n",
              " 160,\n",
              " 180.3,\n",
              " 179.4,\n",
              " 178.5,\n",
              " 177.2,\n",
              " 181.8,\n",
              " 176.5,\n",
              " 190,\n",
              " 185,\n",
              " 167,\n",
              " 171]"
            ]
          },
          "metadata": {},
          "execution_count": 3
        }
      ]
    },
    {
      "cell_type": "code",
      "source": [
        "### 정규성검정(shapiro test)\n",
        "\n",
        "stats.shapiro(data)\n",
        "\n",
        "# p-value 0.79로 유의수준 0.05보다 크므로 정규분포를 따른다는 귀무가설을 채택한다."
      ],
      "metadata": {
        "colab": {
          "base_uri": "https://localhost:8080/"
        },
        "id": "TvxFCibLXdKZ",
        "outputId": "9da5de05-6062-453b-c360-57da12c03817"
      },
      "execution_count": null,
      "outputs": [
        {
          "output_type": "execute_result",
          "data": {
            "text/plain": [
              "ShapiroResult(statistic=0.9641273021697998, pvalue=0.7900116443634033)"
            ]
          },
          "metadata": {},
          "execution_count": 4
        }
      ]
    },
    {
      "cell_type": "code",
      "source": [
        "### stats.ttest_1samp 사용\n",
        "\n",
        "# 유의수준 0.05\n",
        "\n",
        "m_a = 0.05\n",
        "\n",
        "# 알려진 평균 확인\n",
        "\n",
        "s_mu = 175\n",
        "one_sample_result = stats.ttest_1samp(data, popmean = s_mu)\n",
        "\n",
        "print('t-통계량 = %.3f, pvalue = %.3f'%(one_sample_result))"
      ],
      "metadata": {
        "colab": {
          "base_uri": "https://localhost:8080/"
        },
        "id": "TfHOgL9AXvzT",
        "outputId": "226e3511-59d6-48d5-c348-1e6df93e4f36"
      },
      "execution_count": null,
      "outputs": [
        {
          "output_type": "stream",
          "name": "stdout",
          "text": [
            "t-통계량 = 0.903, pvalue = 0.383\n"
          ]
        }
      ]
    },
    {
      "cell_type": "code",
      "source": [
        "### 검정통계량 직접 계산\n",
        "\n",
        "# 표본 수\n",
        "\n",
        "n = len(data)\n",
        "print(n)\n",
        "hyp_mu = np.mean(data)\n",
        "print(hyp_mu)\n",
        "\n",
        "# 알려진 평균\n",
        "\n",
        "s_mu = 175\n",
        "\n",
        "# 표본표준편차\n",
        "\n",
        "s_sigma = np.std(data, ddof = 1)\n",
        "print(s_sigma)\n",
        "\n",
        "# 통계량 t값 계산\n",
        "\n",
        "t_value = (hyp_mu - s_mu) / (s_sigma / np.sqrt(n))\n",
        "\n",
        "print('t검정통계량 : ', round(t_value, 3))\n",
        "\n",
        "# p-value 계산\n",
        "\n",
        "print('p-value : ', round((1 - stats.t(df = 13).cdf(t_value))*2, 3))"
      ],
      "metadata": {
        "colab": {
          "base_uri": "https://localhost:8080/"
        },
        "id": "0h85dsLUYdhw",
        "outputId": "c27d58a3-cfa9-4e89-ff1d-402dcbac3396"
      },
      "execution_count": null,
      "outputs": [
        {
          "output_type": "stream",
          "name": "stdout",
          "text": [
            "14\n",
            "176.87857142857143\n",
            "7.782443611837389\n",
            "t검정통계량 :  0.903\n",
            "p-value :  0.383\n"
          ]
        }
      ]
    },
    {
      "cell_type": "code",
      "source": [
        "## 기각값\n",
        "# 유의수준 0.05\n",
        "\n",
        "print('유의수준:', m_a)\n",
        "\n",
        "# 기각역\n",
        "\n",
        "t_95 = stats.t.ppf(1 - (1 - 0.95) / 2, df = n - 1)\n",
        "\n",
        "print('기각역 : ', t_95 )\n",
        "\n",
        "# 검정통계량 검정: 0.903은 채택역에 속함(기각역 2.16)\n",
        "# p-value 검정: p-value는 0.383으로 유의수준 5% 이내에서 귀무가설을 채택한다.\n",
        "# 아이리포 중학교 1학년의 평균 키는 175cm이다. "
      ],
      "metadata": {
        "colab": {
          "base_uri": "https://localhost:8080/"
        },
        "id": "R_lBgy8yp9NN",
        "outputId": "ac7d5bd6-cadd-467e-ee76-85b0b306012e"
      },
      "execution_count": null,
      "outputs": [
        {
          "output_type": "stream",
          "name": "stdout",
          "text": [
            "유의수준: 0.05\n",
            "기각역 :  2.1603686564610127\n"
          ]
        }
      ]
    },
    {
      "cell_type": "markdown",
      "source": [
        "### 2. 대응표본 t검정\n",
        "\n",
        "* 10명의 환자를 대상으로 비타민을 복용하기 전과 후의 수면시간을 측정하여 비타민의 효과가 있는지를 판단하고자 한다. 표본이 정규성을 만족한다는 가정 하에 수면시간이 줄어들었는지 검정(유의수준 5%)\n",
        "* H0 : 복용 전과 후의 수면시간에 차이가 없다.\n",
        "* H1 : 복용 전에 비해 복용 후의 수면시간이 줄어들었다."
      ],
      "metadata": {
        "id": "0FH8yEeXreWb"
      }
    },
    {
      "cell_type": "code",
      "source": [
        "before_data = [7, 3, 4, 5, 2, 1, 6, 6, 5, 4]\n",
        "after_data = [8, 4, 5, 6, 2, 3, 6, 8, 6, 5]\n",
        "\n",
        "check = [\"before\", \"after\"]\n",
        "\n",
        "# 데이터프레임 merge\n",
        "check = [check[j] for j in range(2) for i in range(10)]\n",
        "\n",
        "data = pd.DataFrame({\"when\" : check,\n",
        "                     \"score\" : before_data+after_data})"
      ],
      "metadata": {
        "id": "ung_5wBrrdH3"
      },
      "execution_count": null,
      "outputs": []
    },
    {
      "cell_type": "code",
      "source": [
        "data.head()"
      ],
      "metadata": {
        "colab": {
          "base_uri": "https://localhost:8080/",
          "height": 206
        },
        "id": "2ZbcmalCvIQt",
        "outputId": "00fe62d1-0ed5-4769-bfaf-54d619a0fb70"
      },
      "execution_count": null,
      "outputs": [
        {
          "output_type": "execute_result",
          "data": {
            "text/plain": [
              "     when  score\n",
              "0  before      7\n",
              "1  before      3\n",
              "2  before      4\n",
              "3  before      5\n",
              "4  before      2"
            ],
            "text/html": [
              "\n",
              "  <div id=\"df-f88b9b0c-e8a1-4654-a6bb-98273cb11aaf\">\n",
              "    <div class=\"colab-df-container\">\n",
              "      <div>\n",
              "<style scoped>\n",
              "    .dataframe tbody tr th:only-of-type {\n",
              "        vertical-align: middle;\n",
              "    }\n",
              "\n",
              "    .dataframe tbody tr th {\n",
              "        vertical-align: top;\n",
              "    }\n",
              "\n",
              "    .dataframe thead th {\n",
              "        text-align: right;\n",
              "    }\n",
              "</style>\n",
              "<table border=\"1\" class=\"dataframe\">\n",
              "  <thead>\n",
              "    <tr style=\"text-align: right;\">\n",
              "      <th></th>\n",
              "      <th>when</th>\n",
              "      <th>score</th>\n",
              "    </tr>\n",
              "  </thead>\n",
              "  <tbody>\n",
              "    <tr>\n",
              "      <th>0</th>\n",
              "      <td>before</td>\n",
              "      <td>7</td>\n",
              "    </tr>\n",
              "    <tr>\n",
              "      <th>1</th>\n",
              "      <td>before</td>\n",
              "      <td>3</td>\n",
              "    </tr>\n",
              "    <tr>\n",
              "      <th>2</th>\n",
              "      <td>before</td>\n",
              "      <td>4</td>\n",
              "    </tr>\n",
              "    <tr>\n",
              "      <th>3</th>\n",
              "      <td>before</td>\n",
              "      <td>5</td>\n",
              "    </tr>\n",
              "    <tr>\n",
              "      <th>4</th>\n",
              "      <td>before</td>\n",
              "      <td>2</td>\n",
              "    </tr>\n",
              "  </tbody>\n",
              "</table>\n",
              "</div>\n",
              "      <button class=\"colab-df-convert\" onclick=\"convertToInteractive('df-f88b9b0c-e8a1-4654-a6bb-98273cb11aaf')\"\n",
              "              title=\"Convert this dataframe to an interactive table.\"\n",
              "              style=\"display:none;\">\n",
              "        \n",
              "  <svg xmlns=\"http://www.w3.org/2000/svg\" height=\"24px\"viewBox=\"0 0 24 24\"\n",
              "       width=\"24px\">\n",
              "    <path d=\"M0 0h24v24H0V0z\" fill=\"none\"/>\n",
              "    <path d=\"M18.56 5.44l.94 2.06.94-2.06 2.06-.94-2.06-.94-.94-2.06-.94 2.06-2.06.94zm-11 1L8.5 8.5l.94-2.06 2.06-.94-2.06-.94L8.5 2.5l-.94 2.06-2.06.94zm10 10l.94 2.06.94-2.06 2.06-.94-2.06-.94-.94-2.06-.94 2.06-2.06.94z\"/><path d=\"M17.41 7.96l-1.37-1.37c-.4-.4-.92-.59-1.43-.59-.52 0-1.04.2-1.43.59L10.3 9.45l-7.72 7.72c-.78.78-.78 2.05 0 2.83L4 21.41c.39.39.9.59 1.41.59.51 0 1.02-.2 1.41-.59l7.78-7.78 2.81-2.81c.8-.78.8-2.07 0-2.86zM5.41 20L4 18.59l7.72-7.72 1.47 1.35L5.41 20z\"/>\n",
              "  </svg>\n",
              "      </button>\n",
              "      \n",
              "  <style>\n",
              "    .colab-df-container {\n",
              "      display:flex;\n",
              "      flex-wrap:wrap;\n",
              "      gap: 12px;\n",
              "    }\n",
              "\n",
              "    .colab-df-convert {\n",
              "      background-color: #E8F0FE;\n",
              "      border: none;\n",
              "      border-radius: 50%;\n",
              "      cursor: pointer;\n",
              "      display: none;\n",
              "      fill: #1967D2;\n",
              "      height: 32px;\n",
              "      padding: 0 0 0 0;\n",
              "      width: 32px;\n",
              "    }\n",
              "\n",
              "    .colab-df-convert:hover {\n",
              "      background-color: #E2EBFA;\n",
              "      box-shadow: 0px 1px 2px rgba(60, 64, 67, 0.3), 0px 1px 3px 1px rgba(60, 64, 67, 0.15);\n",
              "      fill: #174EA6;\n",
              "    }\n",
              "\n",
              "    [theme=dark] .colab-df-convert {\n",
              "      background-color: #3B4455;\n",
              "      fill: #D2E3FC;\n",
              "    }\n",
              "\n",
              "    [theme=dark] .colab-df-convert:hover {\n",
              "      background-color: #434B5C;\n",
              "      box-shadow: 0px 1px 3px 1px rgba(0, 0, 0, 0.15);\n",
              "      filter: drop-shadow(0px 1px 2px rgba(0, 0, 0, 0.3));\n",
              "      fill: #FFFFFF;\n",
              "    }\n",
              "  </style>\n",
              "\n",
              "      <script>\n",
              "        const buttonEl =\n",
              "          document.querySelector('#df-f88b9b0c-e8a1-4654-a6bb-98273cb11aaf button.colab-df-convert');\n",
              "        buttonEl.style.display =\n",
              "          google.colab.kernel.accessAllowed ? 'block' : 'none';\n",
              "\n",
              "        async function convertToInteractive(key) {\n",
              "          const element = document.querySelector('#df-f88b9b0c-e8a1-4654-a6bb-98273cb11aaf');\n",
              "          const dataTable =\n",
              "            await google.colab.kernel.invokeFunction('convertToInteractive',\n",
              "                                                     [key], {});\n",
              "          if (!dataTable) return;\n",
              "\n",
              "          const docLinkHtml = 'Like what you see? Visit the ' +\n",
              "            '<a target=\"_blank\" href=https://colab.research.google.com/notebooks/data_table.ipynb>data table notebook</a>'\n",
              "            + ' to learn more about interactive tables.';\n",
              "          element.innerHTML = '';\n",
              "          dataTable['output_type'] = 'display_data';\n",
              "          await google.colab.output.renderOutput(dataTable, element);\n",
              "          const docLink = document.createElement('div');\n",
              "          docLink.innerHTML = docLinkHtml;\n",
              "          element.appendChild(docLink);\n",
              "        }\n",
              "      </script>\n",
              "    </div>\n",
              "  </div>\n",
              "  "
            ]
          },
          "metadata": {},
          "execution_count": 11
        }
      ]
    },
    {
      "cell_type": "code",
      "source": [
        "# 정규성 검정\n",
        "from scipy.stats import shapiro\n",
        "\n",
        "normal_before = shapiro(before_data)\n",
        "normal_after = shapiro(after_data)\n",
        "\n",
        "print(normal_before)\n",
        "print(normal_after)\n",
        "\n",
        "#p-value 모두 0.05가 넘기 때문에 정규성을 만족한다는 귀무가설 채택."
      ],
      "metadata": {
        "colab": {
          "base_uri": "https://localhost:8080/"
        },
        "id": "w3BtG0fmvLeU",
        "outputId": "fe7e2915-0c93-40be-d96e-6588ab61d94d"
      },
      "execution_count": null,
      "outputs": [
        {
          "output_type": "stream",
          "name": "stdout",
          "text": [
            "ShapiroResult(statistic=0.9644595384597778, pvalue=0.8352707624435425)\n",
            "ShapiroResult(statistic=0.9456837177276611, pvalue=0.6177994012832642)\n"
          ]
        }
      ]
    },
    {
      "cell_type": "code",
      "source": [
        "# 등분산성 검정 : 모든 집단의 모분산은 동일함\n",
        "from scipy.stats import levene\n",
        "print(levene(before_data, after_data))\n",
        "\n",
        "from scipy.stats import bartlett\n",
        "print(bartlett(before_data, after_data))\n",
        "\n",
        "# p-value가 0.05보다 커서 등분산을 만족한다는 귀무가설 채택"
      ],
      "metadata": {
        "colab": {
          "base_uri": "https://localhost:8080/"
        },
        "id": "hQlT97rOvq4l",
        "outputId": "25e55f5b-9b22-438f-95e1-102c8c6b679d"
      },
      "execution_count": null,
      "outputs": [
        {
          "output_type": "stream",
          "name": "stdout",
          "text": [
            "LeveneResult(statistic=0.0, pvalue=1.0)\n",
            "BartlettResult(statistic=0.007785808167159078, pvalue=0.9296881301038368)\n"
          ]
        }
      ]
    },
    {
      "cell_type": "code",
      "source": [
        "# 대응표본 t검정 수행\n",
        "\n",
        "paired_result = stats.ttest_rel(before_data, after_data)\n",
        "\n",
        "print('t-검정통계량 = %.3f, pvalue = %.3f'%paired_result)"
      ],
      "metadata": {
        "colab": {
          "base_uri": "https://localhost:8080/"
        },
        "id": "5QAJa1OfwJVN",
        "outputId": "5d1c1ad7-f426-4773-9df4-60d22a8761a9"
      },
      "execution_count": null,
      "outputs": [
        {
          "output_type": "stream",
          "name": "stdout",
          "text": [
            "t-검정통계량 = -4.743, pvalue = 0.001\n"
          ]
        }
      ]
    },
    {
      "cell_type": "markdown",
      "source": [
        "### 3. 독립표본  t검정\n",
        "\n",
        "* 서울과 구미 두 지역의 겨울 낮 최고기온에 차이가 있는지를 알아보기 위해 12일간 두 지역의 낮 최고기온을 측정한 데이터로 독립표본 t검정을 수행해보자(표본이 정규성을 만족한다는 가정, 양측검정 수행)\n",
        "\n",
        "* H0: 두 지역에 따른 겨울 낮 최고기온에 차이가 없다.\n",
        "* H1: 두 지역에 따른 겨울 낮 최고기온에 차이가 있다.\n"
      ],
      "metadata": {
        "id": "T17KxES7wjS0"
      }
    },
    {
      "cell_type": "code",
      "source": [
        "# 데이터프레임\n",
        "\n",
        "seoul = [-1, 0, 3, 4, 1, 3, 3, 1, 1, 3, 2, 4]\n",
        "daegu = [6, 6, 8, 8, 11, 11, 10 ,8, 8, 9, 7, 10]\n",
        "region = [\"seoul\"] * 12 + [\"daegu\"] * 12\n",
        "data = pd.DataFrame({\"region\" : region,\n",
        "                     \"temp\" : seoul + daegu})\n",
        "\n",
        "data.head()"
      ],
      "metadata": {
        "colab": {
          "base_uri": "https://localhost:8080/",
          "height": 206
        },
        "id": "3Ki64BsQxHnc",
        "outputId": "811bfd91-371a-48ea-b585-c6f6cf73e4a1"
      },
      "execution_count": null,
      "outputs": [
        {
          "output_type": "execute_result",
          "data": {
            "text/plain": [
              "  region  temp\n",
              "0  seoul    -1\n",
              "1  seoul     0\n",
              "2  seoul     3\n",
              "3  seoul     4\n",
              "4  seoul     1"
            ],
            "text/html": [
              "\n",
              "  <div id=\"df-efbbfe54-f1de-4473-b854-d7bb6e0355b1\">\n",
              "    <div class=\"colab-df-container\">\n",
              "      <div>\n",
              "<style scoped>\n",
              "    .dataframe tbody tr th:only-of-type {\n",
              "        vertical-align: middle;\n",
              "    }\n",
              "\n",
              "    .dataframe tbody tr th {\n",
              "        vertical-align: top;\n",
              "    }\n",
              "\n",
              "    .dataframe thead th {\n",
              "        text-align: right;\n",
              "    }\n",
              "</style>\n",
              "<table border=\"1\" class=\"dataframe\">\n",
              "  <thead>\n",
              "    <tr style=\"text-align: right;\">\n",
              "      <th></th>\n",
              "      <th>region</th>\n",
              "      <th>temp</th>\n",
              "    </tr>\n",
              "  </thead>\n",
              "  <tbody>\n",
              "    <tr>\n",
              "      <th>0</th>\n",
              "      <td>seoul</td>\n",
              "      <td>-1</td>\n",
              "    </tr>\n",
              "    <tr>\n",
              "      <th>1</th>\n",
              "      <td>seoul</td>\n",
              "      <td>0</td>\n",
              "    </tr>\n",
              "    <tr>\n",
              "      <th>2</th>\n",
              "      <td>seoul</td>\n",
              "      <td>3</td>\n",
              "    </tr>\n",
              "    <tr>\n",
              "      <th>3</th>\n",
              "      <td>seoul</td>\n",
              "      <td>4</td>\n",
              "    </tr>\n",
              "    <tr>\n",
              "      <th>4</th>\n",
              "      <td>seoul</td>\n",
              "      <td>1</td>\n",
              "    </tr>\n",
              "  </tbody>\n",
              "</table>\n",
              "</div>\n",
              "      <button class=\"colab-df-convert\" onclick=\"convertToInteractive('df-efbbfe54-f1de-4473-b854-d7bb6e0355b1')\"\n",
              "              title=\"Convert this dataframe to an interactive table.\"\n",
              "              style=\"display:none;\">\n",
              "        \n",
              "  <svg xmlns=\"http://www.w3.org/2000/svg\" height=\"24px\"viewBox=\"0 0 24 24\"\n",
              "       width=\"24px\">\n",
              "    <path d=\"M0 0h24v24H0V0z\" fill=\"none\"/>\n",
              "    <path d=\"M18.56 5.44l.94 2.06.94-2.06 2.06-.94-2.06-.94-.94-2.06-.94 2.06-2.06.94zm-11 1L8.5 8.5l.94-2.06 2.06-.94-2.06-.94L8.5 2.5l-.94 2.06-2.06.94zm10 10l.94 2.06.94-2.06 2.06-.94-2.06-.94-.94-2.06-.94 2.06-2.06.94z\"/><path d=\"M17.41 7.96l-1.37-1.37c-.4-.4-.92-.59-1.43-.59-.52 0-1.04.2-1.43.59L10.3 9.45l-7.72 7.72c-.78.78-.78 2.05 0 2.83L4 21.41c.39.39.9.59 1.41.59.51 0 1.02-.2 1.41-.59l7.78-7.78 2.81-2.81c.8-.78.8-2.07 0-2.86zM5.41 20L4 18.59l7.72-7.72 1.47 1.35L5.41 20z\"/>\n",
              "  </svg>\n",
              "      </button>\n",
              "      \n",
              "  <style>\n",
              "    .colab-df-container {\n",
              "      display:flex;\n",
              "      flex-wrap:wrap;\n",
              "      gap: 12px;\n",
              "    }\n",
              "\n",
              "    .colab-df-convert {\n",
              "      background-color: #E8F0FE;\n",
              "      border: none;\n",
              "      border-radius: 50%;\n",
              "      cursor: pointer;\n",
              "      display: none;\n",
              "      fill: #1967D2;\n",
              "      height: 32px;\n",
              "      padding: 0 0 0 0;\n",
              "      width: 32px;\n",
              "    }\n",
              "\n",
              "    .colab-df-convert:hover {\n",
              "      background-color: #E2EBFA;\n",
              "      box-shadow: 0px 1px 2px rgba(60, 64, 67, 0.3), 0px 1px 3px 1px rgba(60, 64, 67, 0.15);\n",
              "      fill: #174EA6;\n",
              "    }\n",
              "\n",
              "    [theme=dark] .colab-df-convert {\n",
              "      background-color: #3B4455;\n",
              "      fill: #D2E3FC;\n",
              "    }\n",
              "\n",
              "    [theme=dark] .colab-df-convert:hover {\n",
              "      background-color: #434B5C;\n",
              "      box-shadow: 0px 1px 3px 1px rgba(0, 0, 0, 0.15);\n",
              "      filter: drop-shadow(0px 1px 2px rgba(0, 0, 0, 0.3));\n",
              "      fill: #FFFFFF;\n",
              "    }\n",
              "  </style>\n",
              "\n",
              "      <script>\n",
              "        const buttonEl =\n",
              "          document.querySelector('#df-efbbfe54-f1de-4473-b854-d7bb6e0355b1 button.colab-df-convert');\n",
              "        buttonEl.style.display =\n",
              "          google.colab.kernel.accessAllowed ? 'block' : 'none';\n",
              "\n",
              "        async function convertToInteractive(key) {\n",
              "          const element = document.querySelector('#df-efbbfe54-f1de-4473-b854-d7bb6e0355b1');\n",
              "          const dataTable =\n",
              "            await google.colab.kernel.invokeFunction('convertToInteractive',\n",
              "                                                     [key], {});\n",
              "          if (!dataTable) return;\n",
              "\n",
              "          const docLinkHtml = 'Like what you see? Visit the ' +\n",
              "            '<a target=\"_blank\" href=https://colab.research.google.com/notebooks/data_table.ipynb>data table notebook</a>'\n",
              "            + ' to learn more about interactive tables.';\n",
              "          element.innerHTML = '';\n",
              "          dataTable['output_type'] = 'display_data';\n",
              "          await google.colab.output.renderOutput(dataTable, element);\n",
              "          const docLink = document.createElement('div');\n",
              "          docLink.innerHTML = docLinkHtml;\n",
              "          element.appendChild(docLink);\n",
              "        }\n",
              "      </script>\n",
              "    </div>\n",
              "  </div>\n",
              "  "
            ]
          },
          "metadata": {},
          "execution_count": 17
        }
      ]
    },
    {
      "cell_type": "code",
      "source": [
        "## 정규성 검정\n",
        "\n",
        "normal_seoul = shapiro(seoul)\n",
        "normal_daegu = shapiro(daegu)\n",
        "print(normal_seoul)\n",
        "print(normal_daegu)\n",
        "\n",
        "# p-value > 0.05, 정규성 만족 귀무가설 채택"
      ],
      "metadata": {
        "colab": {
          "base_uri": "https://localhost:8080/"
        },
        "id": "Hsv2tBB9xoOk",
        "outputId": "fb1ef4e6-8402-418e-fe9c-6fe72261fcbc"
      },
      "execution_count": null,
      "outputs": [
        {
          "output_type": "stream",
          "name": "stdout",
          "text": [
            "ShapiroResult(statistic=0.9178414940834045, pvalue=0.2685382068157196)\n",
            "ShapiroResult(statistic=0.9212772846221924, pvalue=0.2966691553592682)\n"
          ]
        }
      ]
    },
    {
      "cell_type": "code",
      "source": [
        "## 등분산성 검정\n",
        "\n",
        "# 등분산성 검정 : 모든 집단의 모분산은 동일함\n",
        "print(levene(seoul, daegu))\n",
        "\n",
        "print(bartlett(seoul, daegu))\n",
        "\n",
        "# p-value> 0.05, 등분산을 만족한다는 귀무가설 채택"
      ],
      "metadata": {
        "colab": {
          "base_uri": "https://localhost:8080/"
        },
        "id": "mx5PPKFnx8sk",
        "outputId": "e098d74e-fffc-4300-b874-1d55e6f9e486"
      },
      "execution_count": null,
      "outputs": [
        {
          "output_type": "stream",
          "name": "stdout",
          "text": [
            "LeveneResult(statistic=0.0, pvalue=1.0)\n",
            "BartlettResult(statistic=0.07093015354702552, pvalue=0.7899872613272646)\n"
          ]
        }
      ]
    },
    {
      "cell_type": "code",
      "source": [
        "### 독립표본 t검정\n",
        "\n",
        "ttest_result = stats.ttest_ind(seoul, daegu, equal_var = True) #등분산성 만족\n",
        "# ttest_result = stats.ttest_ind(seoul, daegu, equal_var = False) #등분산성 비만족\n",
        "\n",
        "print('t검정통계량: %.3f, pvalue = %.15f'%ttest_result)\n",
        "\n",
        "\n",
        "# 검정통계량 -9.562, p-value 0.000000003\n",
        "# 유의수준 5% 이내에서 p-value 0.000000003으로 두 지역에 따른 겨울 낮 기온에 차이가 없다는 귀무가설 기각\n",
        "# 두 지역에 따른 겨울 낮 기온에 통계적으로 유의미한 차이가 있다."
      ],
      "metadata": {
        "colab": {
          "base_uri": "https://localhost:8080/"
        },
        "id": "BenHVrdeyZOk",
        "outputId": "73886639-f149-415c-d9a0-6ef17016efea"
      },
      "execution_count": null,
      "outputs": [
        {
          "output_type": "stream",
          "name": "stdout",
          "text": [
            "t검정통계량: -9.562, pvalue = 0.000000002711180\n"
          ]
        }
      ]
    }
  ]
}