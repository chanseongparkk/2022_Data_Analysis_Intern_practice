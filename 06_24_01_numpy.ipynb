{
  "cells": [
    {
      "cell_type": "markdown",
      "metadata": {
        "id": "view-in-github",
        "colab_type": "text"
      },
      "source": [
        "<a href=\"https://colab.research.google.com/github/chanseongparkk/2022_Data_Analysis_Intern_practice/blob/main/06_24_01_numpy.ipynb\" target=\"_parent\"><img src=\"https://colab.research.google.com/assets/colab-badge.svg\" alt=\"Open In Colab\"/></a>"
      ]
    },
    {
      "cell_type": "markdown",
      "metadata": {
        "id": "_bVDRA4ec5eJ"
      },
      "source": [
        "# 3.1.1 배열이란?"
      ]
    },
    {
      "cell_type": "code",
      "execution_count": null,
      "metadata": {
        "id": "DtqVOvXWc5eM"
      },
      "outputs": [],
      "source": [
        "import numpy as np"
      ]
    },
    {
      "cell_type": "code",
      "execution_count": null,
      "metadata": {
        "id": "2lOkoYA5c5eN"
      },
      "outputs": [],
      "source": [
        "from numpy import *"
      ]
    },
    {
      "cell_type": "markdown",
      "metadata": {
        "id": "2aO7PM3zc5eO"
      },
      "source": [
        "# 3.1.2 배열 만들기"
      ]
    },
    {
      "cell_type": "markdown",
      "metadata": {
        "id": "wViFgqxwc5eO"
      },
      "source": [
        "## np.array()"
      ]
    },
    {
      "cell_type": "code",
      "execution_count": null,
      "metadata": {
        "colab": {
          "base_uri": "https://localhost:8080/"
        },
        "id": "nHCxR_Ptc5eP",
        "outputId": "1e8b033c-f477-4221-d191-db4f4f0c9e5d"
      },
      "outputs": [
        {
          "output_type": "execute_result",
          "data": {
            "text/plain": [
              "array([1, 2, 3])"
            ]
          },
          "metadata": {},
          "execution_count": 2
        }
      ],
      "source": [
        "import numpy as np\n",
        "\n",
        "list1 = [1,2,3]\n",
        "arr1 = np.array(list1)\n",
        "arr1"
      ]
    },
    {
      "cell_type": "markdown",
      "metadata": {
        "id": "35bU0d4jc5eQ"
      },
      "source": [
        "## np.zeros()"
      ]
    },
    {
      "cell_type": "code",
      "execution_count": null,
      "metadata": {
        "colab": {
          "base_uri": "https://localhost:8080/"
        },
        "id": "R8jRHGvBc5eR",
        "outputId": "59ef7b05-60a7-4d10-d10b-8d390d1af9c9"
      },
      "outputs": [
        {
          "output_type": "execute_result",
          "data": {
            "text/plain": [
              "array([0., 0., 0., 0., 0.])"
            ]
          },
          "metadata": {},
          "execution_count": 3
        }
      ],
      "source": [
        "np.zeros(5)"
      ]
    },
    {
      "cell_type": "code",
      "execution_count": null,
      "metadata": {
        "colab": {
          "base_uri": "https://localhost:8080/"
        },
        "id": "exXOgVnnc5eR",
        "outputId": "eaff6294-72c8-483d-caa4-802da181a053"
      },
      "outputs": [
        {
          "output_type": "execute_result",
          "data": {
            "text/plain": [
              "array([[0., 0., 0.],\n",
              "       [0., 0., 0.]])"
            ]
          },
          "metadata": {},
          "execution_count": 4
        }
      ],
      "source": [
        "np.zeros((2,3))"
      ]
    },
    {
      "cell_type": "markdown",
      "metadata": {
        "id": "dEVZRCRLc5eS"
      },
      "source": [
        "## np.ones()"
      ]
    },
    {
      "cell_type": "code",
      "execution_count": null,
      "metadata": {
        "scrolled": true,
        "colab": {
          "base_uri": "https://localhost:8080/"
        },
        "id": "orMyfbQIc5eS",
        "outputId": "ba1b5f3b-24b8-4073-818b-f1734d8d6815"
      },
      "outputs": [
        {
          "output_type": "execute_result",
          "data": {
            "text/plain": [
              "array([1., 1., 1., 1., 1., 1., 1.])"
            ]
          },
          "metadata": {},
          "execution_count": 6
        }
      ],
      "source": [
        "np.ones(7)"
      ]
    },
    {
      "cell_type": "markdown",
      "metadata": {
        "id": "JX4fQaZxc5eS"
      },
      "source": [
        "## np.empty()"
      ]
    },
    {
      "cell_type": "code",
      "execution_count": null,
      "metadata": {
        "colab": {
          "base_uri": "https://localhost:8080/"
        },
        "id": "Jyq7bXRHc5eT",
        "outputId": "c7c7fba6-7c62-4397-acca-c9157af82b26"
      },
      "outputs": [
        {
          "output_type": "execute_result",
          "data": {
            "text/plain": [
              "array([0., 0., 0., 0., 0.])"
            ]
          },
          "metadata": {},
          "execution_count": 5
        }
      ],
      "source": [
        "np.empty(5)"
      ]
    },
    {
      "cell_type": "markdown",
      "metadata": {
        "id": "Y6pfUzCvc5eT"
      },
      "source": [
        "## np.arange()"
      ]
    },
    {
      "cell_type": "code",
      "execution_count": null,
      "metadata": {
        "colab": {
          "base_uri": "https://localhost:8080/"
        },
        "id": "MTPyAzcic5eT",
        "outputId": "429b8d17-6ece-4f08-de0e-b769a06a04fd"
      },
      "outputs": [
        {
          "output_type": "execute_result",
          "data": {
            "text/plain": [
              "array([0, 1, 2, 3, 4, 5, 6, 7, 8, 9])"
            ]
          },
          "metadata": {},
          "execution_count": 7
        }
      ],
      "source": [
        "np.arange(10)"
      ]
    },
    {
      "cell_type": "code",
      "execution_count": null,
      "metadata": {
        "scrolled": true,
        "colab": {
          "base_uri": "https://localhost:8080/"
        },
        "id": "YHvO8eJZc5eT",
        "outputId": "53e0037d-c118-4819-adba-cd04f4545271"
      },
      "outputs": [
        {
          "output_type": "execute_result",
          "data": {
            "text/plain": [
              "array([20, 22, 24, 26, 28])"
            ]
          },
          "metadata": {},
          "execution_count": 8
        }
      ],
      "source": [
        "np.arange(20,30,2)"
      ]
    },
    {
      "cell_type": "markdown",
      "metadata": {
        "id": "Ch8mhvaQc5eT"
      },
      "source": [
        "## np.random.rand()"
      ]
    },
    {
      "cell_type": "code",
      "execution_count": null,
      "metadata": {
        "colab": {
          "base_uri": "https://localhost:8080/"
        },
        "id": "IAKS_M9_c5eU",
        "outputId": "3da4cbcd-dfd0-4d46-dc32-c437c57d380a"
      },
      "outputs": [
        {
          "output_type": "execute_result",
          "data": {
            "text/plain": [
              "array([[0.8469366 , 0.37777775, 0.86930618],\n",
              "       [0.72722592, 0.80789361, 0.52226966]])"
            ]
          },
          "metadata": {},
          "execution_count": 9
        }
      ],
      "source": [
        "np.random.rand(2,3)"
      ]
    },
    {
      "cell_type": "markdown",
      "metadata": {
        "id": "TMvZk3Okc5eU"
      },
      "source": [
        "## np.reshape()"
      ]
    },
    {
      "cell_type": "code",
      "execution_count": null,
      "metadata": {
        "colab": {
          "base_uri": "https://localhost:8080/"
        },
        "id": "BTwla_Zgc5eU",
        "outputId": "7b3f2579-7fc3-49a0-ae85-b2ed338bd61d"
      },
      "outputs": [
        {
          "output_type": "execute_result",
          "data": {
            "text/plain": [
              "array([ 0,  1,  2,  3,  4,  5,  6,  7,  8,  9, 10, 11, 12, 13, 14, 15])"
            ]
          },
          "metadata": {},
          "execution_count": 10
        }
      ],
      "source": [
        "arr2 = np.arange(16)\n",
        "arr2"
      ]
    },
    {
      "cell_type": "code",
      "execution_count": null,
      "metadata": {
        "colab": {
          "base_uri": "https://localhost:8080/"
        },
        "id": "aChAxiBWc5eU",
        "outputId": "9c5a7965-417f-4aad-c435-0e5207e90e96"
      },
      "outputs": [
        {
          "output_type": "execute_result",
          "data": {
            "text/plain": [
              "array([[ 0,  1,  2,  3],\n",
              "       [ 4,  5,  6,  7],\n",
              "       [ 8,  9, 10, 11],\n",
              "       [12, 13, 14, 15]])"
            ]
          },
          "metadata": {},
          "execution_count": 11
        }
      ],
      "source": [
        "arr2.reshape(4,4)"
      ]
    },
    {
      "cell_type": "code",
      "execution_count": null,
      "metadata": {
        "colab": {
          "base_uri": "https://localhost:8080/"
        },
        "id": "ABRFqAjfc5eV",
        "outputId": "bcadf854-257a-4b93-c330-309c32e7e837"
      },
      "outputs": [
        {
          "output_type": "execute_result",
          "data": {
            "text/plain": [
              "array([[[ 0,  1,  2,  3],\n",
              "        [ 4,  5,  6,  7]],\n",
              "\n",
              "       [[ 8,  9, 10, 11],\n",
              "        [12, 13, 14, 15]]])"
            ]
          },
          "metadata": {},
          "execution_count": 12
        }
      ],
      "source": [
        "arr2.reshape(2,2,4)"
      ]
    },
    {
      "cell_type": "markdown",
      "metadata": {
        "id": "dUxlXmkJc5eV"
      },
      "source": [
        "## shape, dtype(), astype()"
      ]
    },
    {
      "cell_type": "code",
      "execution_count": null,
      "metadata": {
        "colab": {
          "base_uri": "https://localhost:8080/"
        },
        "id": "mv6o2dFDc5eV",
        "outputId": "07f7beef-6fe9-49cf-e29f-66fc659f6419"
      },
      "outputs": [
        {
          "output_type": "execute_result",
          "data": {
            "text/plain": [
              "array([ 0,  1,  2,  3,  4,  5,  6,  7,  8,  9, 10, 11, 12, 13, 14, 15])"
            ]
          },
          "metadata": {},
          "execution_count": 13
        }
      ],
      "source": [
        "arr = np.arange(16)\n",
        "arr"
      ]
    },
    {
      "cell_type": "code",
      "execution_count": null,
      "metadata": {
        "colab": {
          "base_uri": "https://localhost:8080/"
        },
        "id": "JepIYJo1c5eV",
        "outputId": "2804c60a-cd17-450d-f8a0-40b232682bbd"
      },
      "outputs": [
        {
          "output_type": "execute_result",
          "data": {
            "text/plain": [
              "(16,)"
            ]
          },
          "metadata": {},
          "execution_count": 14
        }
      ],
      "source": [
        "arr.shape"
      ]
    },
    {
      "cell_type": "code",
      "execution_count": null,
      "metadata": {
        "scrolled": true,
        "colab": {
          "base_uri": "https://localhost:8080/"
        },
        "id": "2mBv4YKbc5eV",
        "outputId": "f21a247f-63d2-4a3f-e88f-dfd54edea7ea"
      },
      "outputs": [
        {
          "output_type": "execute_result",
          "data": {
            "text/plain": [
              "dtype('int64')"
            ]
          },
          "metadata": {},
          "execution_count": 15
        }
      ],
      "source": [
        "arr.dtype"
      ]
    },
    {
      "cell_type": "code",
      "execution_count": null,
      "metadata": {
        "id": "E7_LEV07c5eV",
        "outputId": "a14fdf89-d0a1-46e3-f7f4-ce38bbd2c19a"
      },
      "outputs": [
        {
          "data": {
            "text/plain": [
              "array([ 0.,  1.,  2.,  3.,  4.,  5.,  6.,  7.,  8.,  9., 10., 11., 12.,\n",
              "       13., 14., 15.])"
            ]
          },
          "execution_count": 17,
          "metadata": {},
          "output_type": "execute_result"
        }
      ],
      "source": [
        "arr.astype(float)"
      ]
    },
    {
      "cell_type": "markdown",
      "metadata": {
        "id": "xjj_MDgkc5eW"
      },
      "source": [
        "# 3.1.3 선택"
      ]
    },
    {
      "cell_type": "code",
      "execution_count": null,
      "metadata": {
        "id": "11s6xqBvc5eW",
        "outputId": "95b4ea8b-d976-46a7-fd2b-6be0e7d53a4b"
      },
      "outputs": [
        {
          "data": {
            "text/plain": [
              "array([ 0,  1,  2,  3,  4,  5,  6,  7,  8,  9, 10, 11, 12, 13, 14, 15])"
            ]
          },
          "execution_count": 18,
          "metadata": {},
          "output_type": "execute_result"
        }
      ],
      "source": [
        "import numpy as np\n",
        "arr = np.arange(16)\n",
        "arr"
      ]
    },
    {
      "cell_type": "code",
      "execution_count": null,
      "metadata": {
        "id": "774bar18c5eW",
        "outputId": "fa45707f-d25c-46c3-91be-f1e5e9b04449"
      },
      "outputs": [
        {
          "data": {
            "text/plain": [
              "5"
            ]
          },
          "execution_count": 19,
          "metadata": {},
          "output_type": "execute_result"
        }
      ],
      "source": [
        "# 기본 인덱스\n",
        "arr[5]"
      ]
    },
    {
      "cell_type": "code",
      "execution_count": null,
      "metadata": {
        "id": "HR7aibmSc5eW",
        "outputId": "6dc0ac45-624b-46ac-8347-efe661f73f6e"
      },
      "outputs": [
        {
          "data": {
            "text/plain": [
              "15"
            ]
          },
          "execution_count": 20,
          "metadata": {},
          "output_type": "execute_result"
        }
      ],
      "source": [
        "# 마이너스 인덱스\n",
        "arr[-1]"
      ]
    },
    {
      "cell_type": "code",
      "execution_count": null,
      "metadata": {
        "id": "JITW5xDTc5eW",
        "outputId": "b2ad5fcd-aa7f-46ce-87ac-a25f73170518"
      },
      "outputs": [
        {
          "data": {
            "text/plain": [
              "array([5, 6, 7])"
            ]
          },
          "execution_count": 21,
          "metadata": {},
          "output_type": "execute_result"
        }
      ],
      "source": [
        "# 인덱스 범위\n",
        "arr[5:8]"
      ]
    },
    {
      "cell_type": "markdown",
      "metadata": {
        "id": "BdMrWsRIc5eW"
      },
      "source": [
        "## ① 기본 인덱스"
      ]
    },
    {
      "cell_type": "code",
      "execution_count": null,
      "metadata": {
        "id": "duGsZ8gbc5eW",
        "outputId": "827282d0-5c64-4447-9bff-45346e066bc1"
      },
      "outputs": [
        {
          "data": {
            "text/plain": [
              "array([  0,   1,   2,   3,   4, 100,   6,   7,   8,   9,  10,  11,  12,\n",
              "        13,  14,  15])"
            ]
          },
          "execution_count": 22,
          "metadata": {},
          "output_type": "execute_result"
        }
      ],
      "source": [
        "# 값 할당\n",
        "arr[5] = 100\n",
        "arr"
      ]
    },
    {
      "cell_type": "code",
      "execution_count": null,
      "metadata": {
        "id": "p42OW8t1c5eX",
        "outputId": "ba67f8d8-1def-44a0-f32c-c9879a0b8d57"
      },
      "outputs": [
        {
          "data": {
            "text/plain": [
              "array([  0,   1,   2,   3,   4, 100, 200, 201,   8,   9,  10,  11,  12,\n",
              "        13,  14,  15])"
            ]
          },
          "execution_count": 23,
          "metadata": {},
          "output_type": "execute_result"
        }
      ],
      "source": [
        "# 여러 값 할당\n",
        "arr[6:8] = [200, 201]\n",
        "arr"
      ]
    },
    {
      "cell_type": "code",
      "execution_count": null,
      "metadata": {
        "id": "FD12TZvvc5eX",
        "outputId": "69de0545-b5a8-440a-9f7e-5d6460c98a62"
      },
      "outputs": [
        {
          "data": {
            "text/plain": [
              "array([[ 0,  1,  2,  3],\n",
              "       [ 4,  5,  6,  7],\n",
              "       [ 8,  9, 10, 11],\n",
              "       [12, 13, 14, 15]])"
            ]
          },
          "execution_count": 24,
          "metadata": {},
          "output_type": "execute_result"
        }
      ],
      "source": [
        "# 다차원 배열\n",
        "arr2 = np.arange(16).reshape(4,4) # 메쏘드 체인\n",
        "arr2"
      ]
    },
    {
      "cell_type": "code",
      "execution_count": null,
      "metadata": {
        "id": "eqrCGB8Hc5eX",
        "outputId": "545ac5a3-6805-47e9-f7be-1499e6d318a4"
      },
      "outputs": [
        {
          "data": {
            "text/plain": [
              "array([4, 5, 6, 7])"
            ]
          },
          "execution_count": 25,
          "metadata": {},
          "output_type": "execute_result"
        }
      ],
      "source": [
        "arr2[1]"
      ]
    },
    {
      "cell_type": "code",
      "execution_count": null,
      "metadata": {
        "id": "MmjOOF0sc5eX",
        "outputId": "a148caf8-50c2-46db-9f43-ae81a35f7680"
      },
      "outputs": [
        {
          "data": {
            "text/plain": [
              "5"
            ]
          },
          "execution_count": 26,
          "metadata": {},
          "output_type": "execute_result"
        }
      ],
      "source": [
        "arr2[1][1]"
      ]
    },
    {
      "cell_type": "code",
      "execution_count": null,
      "metadata": {
        "id": "L3QMkghEc5eX",
        "outputId": "ccef3120-9d90-4c19-e585-432e9ef440cb"
      },
      "outputs": [
        {
          "data": {
            "text/plain": [
              "6"
            ]
          },
          "execution_count": 27,
          "metadata": {},
          "output_type": "execute_result"
        }
      ],
      "source": [
        "arr2[1,2] #arr2[1][2]와 동일"
      ]
    },
    {
      "cell_type": "code",
      "execution_count": null,
      "metadata": {
        "id": "JwhO7MJEc5eX",
        "outputId": "c335e4a0-cd03-4501-b078-52e3c9d7231f"
      },
      "outputs": [
        {
          "data": {
            "text/plain": [
              "array([[  0,   1,   2,   3],\n",
              "       [  4,   5, 100,   7],\n",
              "       [  8,   9,  10,  11],\n",
              "       [ 12,  13,  14,  15]])"
            ]
          },
          "execution_count": 28,
          "metadata": {},
          "output_type": "execute_result"
        }
      ],
      "source": [
        "arr2[1,2] = 100 # 값 할당\n",
        "arr2"
      ]
    },
    {
      "cell_type": "code",
      "execution_count": null,
      "metadata": {
        "id": "rISW6NBfc5eX",
        "outputId": "053dbf03-52b7-4342-dc30-524d9e228665"
      },
      "outputs": [
        {
          "data": {
            "text/plain": [
              "array([[  0,   1,   2,   3],\n",
              "       [  4,   5, 100,   7]])"
            ]
          },
          "execution_count": 29,
          "metadata": {},
          "output_type": "execute_result"
        }
      ],
      "source": [
        "arr2[0:2]"
      ]
    },
    {
      "cell_type": "code",
      "execution_count": null,
      "metadata": {
        "id": "jToGpehmc5eY",
        "outputId": "d97dfd4d-6468-469e-cdec-56297a09eaec"
      },
      "outputs": [
        {
          "data": {
            "text/plain": [
              "array([[  0,   1,   2,   3],\n",
              "       [  4,   5, 100,   7]])"
            ]
          },
          "execution_count": 30,
          "metadata": {},
          "output_type": "execute_result"
        }
      ],
      "source": [
        "arr2[:2] #arr2[0:2]와 동일"
      ]
    },
    {
      "cell_type": "code",
      "execution_count": null,
      "metadata": {
        "id": "fEvqjYHrc5eY",
        "outputId": "2a1f9022-50d5-4ba1-a672-722bed436ce3"
      },
      "outputs": [
        {
          "data": {
            "text/plain": [
              "array([[  2,   3],\n",
              "       [100,   7]])"
            ]
          },
          "execution_count": 31,
          "metadata": {},
          "output_type": "execute_result"
        }
      ],
      "source": [
        "arr2[0:2, 2:4]"
      ]
    },
    {
      "cell_type": "code",
      "execution_count": null,
      "metadata": {
        "id": "ySeXmmkbc5eY",
        "outputId": "6cb1ee92-90f2-413a-8a77-1a60bd6a844a"
      },
      "outputs": [
        {
          "data": {
            "text/plain": [
              "array([[  2,   3],\n",
              "       [100,   7]])"
            ]
          },
          "execution_count": 32,
          "metadata": {},
          "output_type": "execute_result"
        }
      ],
      "source": [
        "arr2[:2, 2:]"
      ]
    },
    {
      "cell_type": "markdown",
      "metadata": {
        "id": "yTWZGMhTc5eY"
      },
      "source": [
        "## ② 불리언 인덱스"
      ]
    },
    {
      "cell_type": "code",
      "execution_count": null,
      "metadata": {
        "id": "RvJZSQQgc5eY",
        "outputId": "5c1d8b72-75d3-4b02-bc21-1b9ad422446f"
      },
      "outputs": [
        {
          "data": {
            "text/plain": [
              "array([80, 90, 70, 65, 85, 95, 90, 80, 75, 80])"
            ]
          },
          "execution_count": 33,
          "metadata": {},
          "output_type": "execute_result"
        }
      ],
      "source": [
        "scores = [80, 90, 70, 65, 85, 95, 90, 80, 75, 80]\n",
        "score_arr = np.array(scores)\n",
        "score_arr"
      ]
    },
    {
      "cell_type": "code",
      "execution_count": null,
      "metadata": {
        "id": "PcgEbUAHc5eY",
        "outputId": "b68acb1b-10b5-4fe3-da4b-d03d0cfcf4f4"
      },
      "outputs": [
        {
          "data": {
            "text/plain": [
              "array([False,  True, False, False, False,  True,  True, False, False,\n",
              "       False])"
            ]
          },
          "execution_count": 34,
          "metadata": {},
          "output_type": "execute_result"
        }
      ],
      "source": [
        "score_arr >= 90"
      ]
    },
    {
      "cell_type": "code",
      "execution_count": null,
      "metadata": {
        "id": "w-yLL2QRc5eY",
        "outputId": "60289467-1297-4544-d2ef-9e50bd522152"
      },
      "outputs": [
        {
          "data": {
            "text/plain": [
              "array([90, 95, 90])"
            ]
          },
          "execution_count": 35,
          "metadata": {},
          "output_type": "execute_result"
        }
      ],
      "source": [
        "score_arr[score_arr >= 90]"
      ]
    },
    {
      "cell_type": "code",
      "execution_count": null,
      "metadata": {
        "id": "_FXl_8EYc5eY",
        "outputId": "64199ef4-c79c-443d-ef08-739be61b66bf"
      },
      "outputs": [
        {
          "data": {
            "text/plain": [
              "array([ 80, 999,  70,  65,  85, 999, 999,  80,  75,  80])"
            ]
          },
          "execution_count": 36,
          "metadata": {},
          "output_type": "execute_result"
        }
      ],
      "source": [
        "score_arr[score_arr >= 90] = 999\n",
        "score_arr"
      ]
    },
    {
      "cell_type": "markdown",
      "metadata": {
        "id": "_5ndS5KPc5eY"
      },
      "source": [
        "# 3.1.4 연산"
      ]
    },
    {
      "cell_type": "markdown",
      "metadata": {
        "id": "7k_8NMgjc5eY"
      },
      "source": [
        "## 기본 사칙 연산"
      ]
    },
    {
      "cell_type": "code",
      "execution_count": null,
      "metadata": {
        "id": "UmpU4h7Qc5eZ",
        "outputId": "cbdcf053-13b7-41d3-8123-be9a96df3806"
      },
      "outputs": [
        {
          "data": {
            "text/plain": [
              "array([1, 2, 3, 4])"
            ]
          },
          "execution_count": 37,
          "metadata": {},
          "output_type": "execute_result"
        }
      ],
      "source": [
        "arr = np.arange(1, 5)\n",
        "arr"
      ]
    },
    {
      "cell_type": "code",
      "execution_count": null,
      "metadata": {
        "id": "L7rM1F21c5eZ",
        "outputId": "ceb1fc28-a3ba-414b-f983-ea2913261d71"
      },
      "outputs": [
        {
          "data": {
            "text/plain": [
              "array([3, 4, 5, 6])"
            ]
          },
          "execution_count": 38,
          "metadata": {},
          "output_type": "execute_result"
        }
      ],
      "source": [
        "arr + 2"
      ]
    },
    {
      "cell_type": "code",
      "execution_count": null,
      "metadata": {
        "id": "1SfOiyURc5eZ",
        "outputId": "87c33226-3588-46c0-88d3-4e7cb67a9558"
      },
      "outputs": [
        {
          "data": {
            "text/plain": [
              "array([2, 4, 6, 8])"
            ]
          },
          "execution_count": 39,
          "metadata": {},
          "output_type": "execute_result"
        }
      ],
      "source": [
        "arr * 2"
      ]
    },
    {
      "cell_type": "code",
      "execution_count": null,
      "metadata": {
        "id": "Xp0PP0AHc5eZ",
        "outputId": "2f1bb8a6-ed6d-4e3c-8ba0-b46a78777d0c"
      },
      "outputs": [
        {
          "data": {
            "text/plain": [
              "[1, 2, 3, 4]"
            ]
          },
          "execution_count": 40,
          "metadata": {},
          "output_type": "execute_result"
        }
      ],
      "source": [
        "list = [1, 2, 3, 4]\n",
        "list"
      ]
    },
    {
      "cell_type": "code",
      "execution_count": null,
      "metadata": {
        "id": "7MRVqAjfc5eZ",
        "outputId": "9b9ae864-1fc0-46a7-8f7f-a72d2895a294"
      },
      "outputs": [
        {
          "data": {
            "text/plain": [
              "[1, 2, 3, 4, 1, 2, 3, 4]"
            ]
          },
          "execution_count": 41,
          "metadata": {},
          "output_type": "execute_result"
        }
      ],
      "source": [
        "list * 2"
      ]
    },
    {
      "cell_type": "code",
      "execution_count": null,
      "metadata": {
        "id": "zwciMFBTc5eZ",
        "outputId": "12be34b3-0721-41c5-ffc5-f067daa87c94"
      },
      "outputs": [
        {
          "data": {
            "text/plain": [
              "array([5, 6, 7, 8])"
            ]
          },
          "execution_count": 42,
          "metadata": {},
          "output_type": "execute_result"
        }
      ],
      "source": [
        "arr1 = np.arange(5, 9)\n",
        "arr1"
      ]
    },
    {
      "cell_type": "code",
      "execution_count": null,
      "metadata": {
        "id": "JzKqSy7Gc5eZ",
        "outputId": "4f1bf9d4-504f-4f40-9d30-81cb040bc205"
      },
      "outputs": [
        {
          "data": {
            "text/plain": [
              "array([ 6,  8, 10, 12])"
            ]
          },
          "execution_count": 43,
          "metadata": {},
          "output_type": "execute_result"
        }
      ],
      "source": [
        "arr + arr1"
      ]
    },
    {
      "cell_type": "code",
      "execution_count": null,
      "metadata": {
        "id": "k8lsHPSjc5eZ",
        "outputId": "73da89e6-a8a5-4ad9-d428-c11dea507581"
      },
      "outputs": [
        {
          "data": {
            "text/plain": [
              "[1, 2, 3, 4, 5, 6, 7, 8]"
            ]
          },
          "execution_count": 44,
          "metadata": {},
          "output_type": "execute_result"
        }
      ],
      "source": [
        "list1 = [5, 6, 7, 8]\n",
        "list + list1"
      ]
    },
    {
      "cell_type": "markdown",
      "metadata": {
        "id": "RKJ5Y8lEc5ea"
      },
      "source": [
        "## 주요 산술 연산 함수"
      ]
    },
    {
      "cell_type": "code",
      "execution_count": null,
      "metadata": {
        "id": "BQsSXw1Ac5ea",
        "outputId": "3d13dee7-eb6e-4972-b63a-a4d7b526797d"
      },
      "outputs": [
        {
          "data": {
            "text/plain": [
              "array([ 1,  4,  9, 16], dtype=int32)"
            ]
          },
          "execution_count": 45,
          "metadata": {},
          "output_type": "execute_result"
        }
      ],
      "source": [
        "# 제곱\n",
        "np.square(arr)"
      ]
    },
    {
      "cell_type": "code",
      "execution_count": null,
      "metadata": {
        "id": "I5CHGJ7ec5ea",
        "outputId": "68d5d75a-29e5-42c9-a85e-182ba1a334d7"
      },
      "outputs": [
        {
          "data": {
            "text/plain": [
              "array([1.        , 1.41421356, 1.73205081, 2.        ])"
            ]
          },
          "execution_count": 46,
          "metadata": {},
          "output_type": "execute_result"
        }
      ],
      "source": [
        "# 제곱근(루트)\n",
        "np.sqrt(arr)"
      ]
    },
    {
      "cell_type": "code",
      "execution_count": null,
      "metadata": {
        "id": "dnFXZVCwc5ea",
        "outputId": "62850b92-2799-4d49-ffbf-ec6e71d5cca0"
      },
      "outputs": [
        {
          "data": {
            "text/plain": [
              "array([ 2.71828183,  7.3890561 , 20.08553692, 54.59815003])"
            ]
          },
          "execution_count": 47,
          "metadata": {},
          "output_type": "execute_result"
        }
      ],
      "source": [
        "# exp(지수승)\n",
        "np.exp(arr)"
      ]
    },
    {
      "cell_type": "code",
      "execution_count": null,
      "metadata": {
        "id": "ATKdROAgc5ea",
        "outputId": "108c8221-0dc4-4426-a8ce-8473dadfe1f0"
      },
      "outputs": [
        {
          "data": {
            "text/plain": [
              "array([0.        , 0.69314718, 1.09861229, 1.38629436])"
            ]
          },
          "execution_count": 48,
          "metadata": {},
          "output_type": "execute_result"
        }
      ],
      "source": [
        "# log\n",
        "np.log(arr)"
      ]
    },
    {
      "cell_type": "code",
      "execution_count": null,
      "metadata": {
        "id": "EhiCJYGhc5ea",
        "outputId": "d3667224-7f58-47ec-b111-da8f5e227285"
      },
      "outputs": [
        {
          "data": {
            "text/plain": [
              "array([ 6,  8, 10, 12])"
            ]
          },
          "execution_count": 49,
          "metadata": {},
          "output_type": "execute_result"
        }
      ],
      "source": [
        "# 더하기\n",
        "np.add(arr, arr1)"
      ]
    },
    {
      "cell_type": "code",
      "execution_count": null,
      "metadata": {
        "id": "s5UK1xLlc5ea",
        "outputId": "1283d9d0-c683-40cf-cf36-b5b750cf1496"
      },
      "outputs": [
        {
          "data": {
            "text/plain": [
              "10"
            ]
          },
          "execution_count": 50,
          "metadata": {},
          "output_type": "execute_result"
        }
      ],
      "source": [
        "#합계\n",
        "np.sum(arr)"
      ]
    },
    {
      "cell_type": "code",
      "execution_count": null,
      "metadata": {
        "id": "osHS_R5Qc5ea",
        "outputId": "c3b5e1ff-35d2-4dd9-b819-a3576f2d8368"
      },
      "outputs": [
        {
          "data": {
            "text/plain": [
              "array([ 1,  3,  6, 10], dtype=int32)"
            ]
          },
          "execution_count": 51,
          "metadata": {},
          "output_type": "execute_result"
        }
      ],
      "source": [
        "#누적합\n",
        "np.cumsum(arr)"
      ]
    },
    {
      "cell_type": "code",
      "execution_count": null,
      "metadata": {
        "id": "0xWayob-c5ea",
        "outputId": "659beee9-196c-4023-e75b-701e6f31b395"
      },
      "outputs": [
        {
          "data": {
            "text/plain": [
              "2.5"
            ]
          },
          "execution_count": 52,
          "metadata": {},
          "output_type": "execute_result"
        }
      ],
      "source": [
        "# 평균\n",
        "np.mean(arr)"
      ]
    },
    {
      "cell_type": "code",
      "execution_count": null,
      "metadata": {
        "id": "CSAlPo5ac5eb",
        "outputId": "27201f7b-48d2-4568-f0a8-55afb33a452e"
      },
      "outputs": [
        {
          "data": {
            "text/plain": [
              "1.25"
            ]
          },
          "execution_count": 53,
          "metadata": {},
          "output_type": "execute_result"
        }
      ],
      "source": [
        "# 편차\n",
        "np.var(arr)"
      ]
    },
    {
      "cell_type": "code",
      "execution_count": null,
      "metadata": {
        "id": "WG4nleWNc5eb",
        "outputId": "f2a282c6-df83-45a6-e9f5-cfee670da06c"
      },
      "outputs": [
        {
          "data": {
            "text/plain": [
              "1.118033988749895"
            ]
          },
          "execution_count": 54,
          "metadata": {},
          "output_type": "execute_result"
        }
      ],
      "source": [
        "# 표준편차\n",
        "np.std(arr)"
      ]
    },
    {
      "cell_type": "code",
      "execution_count": null,
      "metadata": {
        "id": "ba0mfR4zc5eb",
        "outputId": "62e2313a-a562-4213-f3ce-3e97594d0c15"
      },
      "outputs": [
        {
          "data": {
            "text/plain": [
              "1"
            ]
          },
          "execution_count": 55,
          "metadata": {},
          "output_type": "execute_result"
        }
      ],
      "source": [
        "# 최소값\n",
        "np.min(arr)"
      ]
    },
    {
      "cell_type": "code",
      "execution_count": null,
      "metadata": {
        "id": "ceniLvB3c5eb",
        "outputId": "ba958b45-79de-4bd9-c8ed-5f8517f12379"
      },
      "outputs": [
        {
          "data": {
            "text/plain": [
              "4"
            ]
          },
          "execution_count": 56,
          "metadata": {},
          "output_type": "execute_result"
        }
      ],
      "source": [
        "# 최대값\n",
        "np.max(arr)"
      ]
    },
    {
      "cell_type": "code",
      "execution_count": null,
      "metadata": {
        "id": "oGTb3eJyc5eb",
        "outputId": "870e3082-1382-4c21-dbbe-f887400883d8"
      },
      "outputs": [
        {
          "data": {
            "text/plain": [
              "0"
            ]
          },
          "execution_count": 57,
          "metadata": {},
          "output_type": "execute_result"
        }
      ],
      "source": [
        "# 최소값의 인덱스\n",
        "np.argmin(arr)"
      ]
    },
    {
      "cell_type": "code",
      "execution_count": null,
      "metadata": {
        "id": "PpradKO_c5eb",
        "outputId": "ad67dd3f-f652-4049-c89a-76f52b1a2e0f"
      },
      "outputs": [
        {
          "data": {
            "text/plain": [
              "3"
            ]
          },
          "execution_count": 58,
          "metadata": {},
          "output_type": "execute_result"
        }
      ],
      "source": [
        "# 최대값의 인덱스\n",
        "np.argmax(arr)"
      ]
    },
    {
      "cell_type": "markdown",
      "metadata": {
        "id": "0X6yfhYSc5eb"
      },
      "source": [
        "# 3.1.5 변형"
      ]
    },
    {
      "cell_type": "code",
      "execution_count": null,
      "metadata": {
        "id": "buWv0iNCc5eb",
        "outputId": "5f1fff0a-acbe-4ee3-8bf9-0762a0c875d4"
      },
      "outputs": [
        {
          "data": {
            "text/plain": [
              "array([[0, 1, 2, 3, 4],\n",
              "       [5, 6, 7, 8, 9]])"
            ]
          },
          "execution_count": 59,
          "metadata": {},
          "output_type": "execute_result"
        }
      ],
      "source": [
        "arr = np.arange(10).reshape(2,5)\n",
        "arr"
      ]
    },
    {
      "cell_type": "code",
      "execution_count": null,
      "metadata": {
        "id": "OkwI8oeRc5eb",
        "outputId": "b605fcf1-1886-452f-e162-eafcbf1117b7"
      },
      "outputs": [
        {
          "data": {
            "text/plain": [
              "array([[0, 5],\n",
              "       [1, 6],\n",
              "       [2, 7],\n",
              "       [3, 8],\n",
              "       [4, 9]])"
            ]
          },
          "execution_count": 60,
          "metadata": {},
          "output_type": "execute_result"
        }
      ],
      "source": [
        "arr.transpose()"
      ]
    },
    {
      "cell_type": "code",
      "execution_count": null,
      "metadata": {
        "id": "2gMEbA5Oc5ec",
        "outputId": "19b4f5d4-f33e-4b40-e8b5-a3a183abd7a0"
      },
      "outputs": [
        {
          "data": {
            "text/plain": [
              "array([[0, 5],\n",
              "       [1, 6],\n",
              "       [2, 7],\n",
              "       [3, 8],\n",
              "       [4, 9]])"
            ]
          },
          "execution_count": 61,
          "metadata": {},
          "output_type": "execute_result"
        }
      ],
      "source": [
        "arr.T #arr.transpose()와 동일"
      ]
    },
    {
      "cell_type": "code",
      "execution_count": null,
      "metadata": {
        "id": "u9fVGj0Vc5ec",
        "outputId": "b0af3888-4939-41e6-ff03-3c4559b17978"
      },
      "outputs": [
        {
          "data": {
            "text/plain": [
              "array([[[ 0,  1,  2],\n",
              "        [ 3,  4,  5],\n",
              "        [ 6,  7,  8]],\n",
              "\n",
              "       [[ 9, 10, 11],\n",
              "        [12, 13, 14],\n",
              "        [15, 16, 17]],\n",
              "\n",
              "       [[18, 19, 20],\n",
              "        [21, 22, 23],\n",
              "        [24, 25, 26]]])"
            ]
          },
          "execution_count": 62,
          "metadata": {},
          "output_type": "execute_result"
        }
      ],
      "source": [
        "arr3d = np.arange(27).reshape(3,3,3)\n",
        "arr3d"
      ]
    },
    {
      "cell_type": "code",
      "execution_count": null,
      "metadata": {
        "id": "zk6D0BcGc5ec",
        "outputId": "48c32c09-922c-4bc4-a777-c1abba39603a"
      },
      "outputs": [
        {
          "data": {
            "text/plain": [
              "array([[[ 0,  9, 18],\n",
              "        [ 3, 12, 21],\n",
              "        [ 6, 15, 24]],\n",
              "\n",
              "       [[ 1, 10, 19],\n",
              "        [ 4, 13, 22],\n",
              "        [ 7, 16, 25]],\n",
              "\n",
              "       [[ 2, 11, 20],\n",
              "        [ 5, 14, 23],\n",
              "        [ 8, 17, 26]]])"
            ]
          },
          "execution_count": 63,
          "metadata": {},
          "output_type": "execute_result"
        }
      ],
      "source": [
        "arr3d.transpose() #transpose(2,1,0)와 동일"
      ]
    },
    {
      "cell_type": "code",
      "execution_count": null,
      "metadata": {
        "id": "WPB2gtmvc5ec",
        "outputId": "4c96448b-7eed-4627-8854-741436878085"
      },
      "outputs": [
        {
          "data": {
            "text/plain": [
              "array([[[ 0,  1,  2],\n",
              "        [ 9, 10, 11],\n",
              "        [18, 19, 20]],\n",
              "\n",
              "       [[ 3,  4,  5],\n",
              "        [12, 13, 14],\n",
              "        [21, 22, 23]],\n",
              "\n",
              "       [[ 6,  7,  8],\n",
              "        [15, 16, 17],\n",
              "        [24, 25, 26]]])"
            ]
          },
          "execution_count": 64,
          "metadata": {},
          "output_type": "execute_result"
        }
      ],
      "source": [
        "arr3d.transpose(1,0,2)"
      ]
    },
    {
      "cell_type": "markdown",
      "metadata": {
        "id": "ibFlWaNEc5ec"
      },
      "source": [
        "# 3.1.6 저장"
      ]
    },
    {
      "cell_type": "code",
      "execution_count": null,
      "metadata": {
        "id": "KjsLi-iFc5ec",
        "outputId": "8c642729-729a-4f89-aad5-5aaf4561f812"
      },
      "outputs": [
        {
          "data": {
            "text/plain": [
              "array([[0, 1, 2, 3, 4],\n",
              "       [5, 6, 7, 8, 9]])"
            ]
          },
          "execution_count": 65,
          "metadata": {},
          "output_type": "execute_result"
        }
      ],
      "source": [
        "arr = np.arange(10).reshape(2,5)\n",
        "arr"
      ]
    },
    {
      "cell_type": "code",
      "execution_count": null,
      "metadata": {
        "id": "gekPplIhc5ec"
      },
      "outputs": [],
      "source": [
        "np.save('array', arr)"
      ]
    },
    {
      "cell_type": "code",
      "execution_count": null,
      "metadata": {
        "id": "pzciyIajc5ec"
      },
      "outputs": [],
      "source": [
        "load_arr = np.load('array.npy')"
      ]
    },
    {
      "cell_type": "code",
      "execution_count": null,
      "metadata": {
        "id": "EJtn7dbIc5ec",
        "outputId": "353ff1ad-5143-461a-9152-2ca7912ce364"
      },
      "outputs": [
        {
          "data": {
            "text/plain": [
              "array([[0, 1, 2, 3, 4],\n",
              "       [5, 6, 7, 8, 9]])"
            ]
          },
          "execution_count": 68,
          "metadata": {},
          "output_type": "execute_result"
        }
      ],
      "source": [
        "load_arr"
      ]
    },
    {
      "cell_type": "code",
      "execution_count": null,
      "metadata": {
        "id": "CPmj2DXtc5ed"
      },
      "outputs": [],
      "source": []
    }
  ],
  "metadata": {
    "kernelspec": {
      "display_name": "Python 3",
      "language": "python",
      "name": "python3"
    },
    "language_info": {
      "codemirror_mode": {
        "name": "ipython",
        "version": 3
      },
      "file_extension": ".py",
      "mimetype": "text/x-python",
      "name": "python",
      "nbconvert_exporter": "python",
      "pygments_lexer": "ipython3",
      "version": "3.8.5"
    },
    "toc": {
      "base_numbering": 1,
      "nav_menu": {},
      "number_sections": false,
      "sideBar": true,
      "skip_h1_title": false,
      "title_cell": "Table of Contents",
      "title_sidebar": "Contents",
      "toc_cell": false,
      "toc_position": {
        "height": "calc(100% - 180px)",
        "left": "10px",
        "top": "150px",
        "width": "199.825px"
      },
      "toc_section_display": true,
      "toc_window_display": true
    },
    "colab": {
      "provenance": [],
      "include_colab_link": true
    }
  },
  "nbformat": 4,
  "nbformat_minor": 0
}