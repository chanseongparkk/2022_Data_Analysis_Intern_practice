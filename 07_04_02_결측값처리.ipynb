{
  "cells": [
    {
      "cell_type": "markdown",
      "metadata": {
        "id": "view-in-github",
        "colab_type": "text"
      },
      "source": [
        "<a href=\"https://colab.research.google.com/github/chanseongparkk/2022_Data_Analysis_Intern_practice/blob/main/07_04_02_%EA%B2%B0%EC%B8%A1%EA%B0%92%EC%B2%98%EB%A6%AC.ipynb\" target=\"_parent\"><img src=\"https://colab.research.google.com/assets/colab-badge.svg\" alt=\"Open In Colab\"/></a>"
      ]
    },
    {
      "cell_type": "markdown",
      "id": "cbfcdf8b",
      "metadata": {
        "id": "cbfcdf8b"
      },
      "source": [
        "## 결측값 처리"
      ]
    },
    {
      "cell_type": "code",
      "source": [],
      "metadata": {
        "id": "gdyNvQ8Ky1FG"
      },
      "id": "gdyNvQ8Ky1FG",
      "execution_count": null,
      "outputs": []
    },
    {
      "cell_type": "markdown",
      "id": "54038c60",
      "metadata": {
        "id": "54038c60"
      },
      "source": [
        "### 1. 결측값 확인"
      ]
    },
    {
      "cell_type": "code",
      "execution_count": null,
      "id": "9757e484",
      "metadata": {
        "id": "9757e484"
      },
      "outputs": [],
      "source": [
        "# 라이브러리 호출\n",
        "\n",
        "import pandas as pd\n",
        "import numpy as np\n",
        "import matplotlib.pyplot as plt\n",
        "import seaborn as sns\n",
        "\n",
        "# os에 따른 font 깨짐 제거를 위해 font 지정\n",
        "\n",
        "import os\n",
        "\n",
        "if os.name == \"nt\":\n",
        "    font_family = \"Malgun Gothic\"\n",
        "else: #mac os\n",
        "    font_family = \"AppleGothic\"\n",
        "    \n",
        "# - 값이 깨지는 문제 해결을 위해 파라미터값 설정\n",
        "\n",
        "sns.set(font = font_family, rc = {\"axes.unicode_minus\" : False})\n",
        "\n",
        "from sklearn.impute import SimpleImputer\n",
        "from sklearn.linear_model import LinearRegression\n",
        "\n",
        "# warning 제거\n",
        "\n",
        "import warnings\n",
        "warnings.filterwarnings(\"ignore\")"
      ]
    },
    {
      "cell_type": "code",
      "execution_count": null,
      "id": "292348e2",
      "metadata": {
        "id": "292348e2",
        "outputId": "89cd0a71-d6bc-4526-dc07-9a3d712c28a8"
      },
      "outputs": [
        {
          "data": {
            "text/html": [
              "<div>\n",
              "<style scoped>\n",
              "    .dataframe tbody tr th:only-of-type {\n",
              "        vertical-align: middle;\n",
              "    }\n",
              "\n",
              "    .dataframe tbody tr th {\n",
              "        vertical-align: top;\n",
              "    }\n",
              "\n",
              "    .dataframe thead th {\n",
              "        text-align: right;\n",
              "    }\n",
              "</style>\n",
              "<table border=\"1\" class=\"dataframe\">\n",
              "  <thead>\n",
              "    <tr style=\"text-align: right;\">\n",
              "      <th></th>\n",
              "      <th>A열</th>\n",
              "      <th>B열</th>\n",
              "      <th>C열</th>\n",
              "      <th>D열</th>\n",
              "    </tr>\n",
              "  </thead>\n",
              "  <tbody>\n",
              "    <tr>\n",
              "      <th>0</th>\n",
              "      <td>NaN</td>\n",
              "      <td>a</td>\n",
              "      <td>NaN</td>\n",
              "      <td>1</td>\n",
              "    </tr>\n",
              "    <tr>\n",
              "      <th>1</th>\n",
              "      <td>4.0</td>\n",
              "      <td>a</td>\n",
              "      <td>3.5</td>\n",
              "      <td>0</td>\n",
              "    </tr>\n",
              "    <tr>\n",
              "      <th>2</th>\n",
              "      <td>6.0</td>\n",
              "      <td>NaN</td>\n",
              "      <td>-1.5</td>\n",
              "      <td>1</td>\n",
              "    </tr>\n",
              "    <tr>\n",
              "      <th>3</th>\n",
              "      <td>5.0</td>\n",
              "      <td>b</td>\n",
              "      <td>NaN</td>\n",
              "      <td>0</td>\n",
              "    </tr>\n",
              "    <tr>\n",
              "      <th>4</th>\n",
              "      <td>5.0</td>\n",
              "      <td>b</td>\n",
              "      <td>5.5</td>\n",
              "      <td>1</td>\n",
              "    </tr>\n",
              "    <tr>\n",
              "      <th>5</th>\n",
              "      <td>NaN</td>\n",
              "      <td>b</td>\n",
              "      <td>NaN</td>\n",
              "      <td>1</td>\n",
              "    </tr>\n",
              "  </tbody>\n",
              "</table>\n",
              "</div>"
            ],
            "text/plain": [
              "    A열   B열   C열  D열\n",
              "0  NaN    a  NaN   1\n",
              "1  4.0    a  3.5   0\n",
              "2  6.0  NaN -1.5   1\n",
              "3  5.0    b  NaN   0\n",
              "4  5.0    b  5.5   1\n",
              "5  NaN    b  NaN   1"
            ]
          },
          "execution_count": 7,
          "metadata": {},
          "output_type": "execute_result"
        }
      ],
      "source": [
        "# 결측값 데이터 생성\n",
        "\n",
        "### 실습 데이터 생성\n",
        "\n",
        "temp_dict = {\"A열\": [np.nan, 4, 6, 5, 5, np.nan],\n",
        "            \"B열\": [\"a\", \"a\", np.nan, \"b\", \"b\", \"b\"],\n",
        "            \"C열\": [np.nan, 3.5, -1.5, np.nan, 5.5, np.nan],\n",
        "            \"D열\": [1, 0, 1, 0, 1, 1]}\n",
        "\n",
        "missing_data = pd.DataFrame(temp_dict)\n",
        "missing_data"
      ]
    },
    {
      "cell_type": "code",
      "execution_count": null,
      "id": "f4c4b7e7",
      "metadata": {
        "id": "f4c4b7e7",
        "outputId": "abb4b1a6-715a-4bf4-d01f-c01bacbb49fb"
      },
      "outputs": [
        {
          "name": "stdout",
          "output_type": "stream",
          "text": [
            "<class 'pandas.core.frame.DataFrame'>\n",
            "RangeIndex: 6 entries, 0 to 5\n",
            "Data columns (total 4 columns):\n",
            " #   Column  Non-Null Count  Dtype  \n",
            "---  ------  --------------  -----  \n",
            " 0   A열      4 non-null      float64\n",
            " 1   B열      5 non-null      object \n",
            " 2   C열      3 non-null      float64\n",
            " 3   D열      6 non-null      int64  \n",
            "dtypes: float64(2), int64(1), object(1)\n",
            "memory usage: 320.0+ bytes\n"
          ]
        }
      ],
      "source": [
        "# 결측값 데이터 확인\n",
        "\n",
        "missing_data.info()"
      ]
    },
    {
      "cell_type": "code",
      "execution_count": null,
      "id": "2bd29b2e",
      "metadata": {
        "id": "2bd29b2e",
        "outputId": "10b634fb-e1df-4563-a5cd-5d2fde7bf094"
      },
      "outputs": [
        {
          "data": {
            "text/html": [
              "<div>\n",
              "<style scoped>\n",
              "    .dataframe tbody tr th:only-of-type {\n",
              "        vertical-align: middle;\n",
              "    }\n",
              "\n",
              "    .dataframe tbody tr th {\n",
              "        vertical-align: top;\n",
              "    }\n",
              "\n",
              "    .dataframe thead th {\n",
              "        text-align: right;\n",
              "    }\n",
              "</style>\n",
              "<table border=\"1\" class=\"dataframe\">\n",
              "  <thead>\n",
              "    <tr style=\"text-align: right;\">\n",
              "      <th></th>\n",
              "      <th>A열</th>\n",
              "      <th>B열</th>\n",
              "      <th>C열</th>\n",
              "      <th>D열</th>\n",
              "    </tr>\n",
              "  </thead>\n",
              "  <tbody>\n",
              "    <tr>\n",
              "      <th>0</th>\n",
              "      <td>True</td>\n",
              "      <td>False</td>\n",
              "      <td>True</td>\n",
              "      <td>False</td>\n",
              "    </tr>\n",
              "    <tr>\n",
              "      <th>1</th>\n",
              "      <td>False</td>\n",
              "      <td>False</td>\n",
              "      <td>False</td>\n",
              "      <td>False</td>\n",
              "    </tr>\n",
              "    <tr>\n",
              "      <th>2</th>\n",
              "      <td>False</td>\n",
              "      <td>True</td>\n",
              "      <td>False</td>\n",
              "      <td>False</td>\n",
              "    </tr>\n",
              "    <tr>\n",
              "      <th>3</th>\n",
              "      <td>False</td>\n",
              "      <td>False</td>\n",
              "      <td>True</td>\n",
              "      <td>False</td>\n",
              "    </tr>\n",
              "    <tr>\n",
              "      <th>4</th>\n",
              "      <td>False</td>\n",
              "      <td>False</td>\n",
              "      <td>False</td>\n",
              "      <td>False</td>\n",
              "    </tr>\n",
              "    <tr>\n",
              "      <th>5</th>\n",
              "      <td>True</td>\n",
              "      <td>False</td>\n",
              "      <td>True</td>\n",
              "      <td>False</td>\n",
              "    </tr>\n",
              "  </tbody>\n",
              "</table>\n",
              "</div>"
            ],
            "text/plain": [
              "      A열     B열     C열     D열\n",
              "0   True  False   True  False\n",
              "1  False  False  False  False\n",
              "2  False   True  False  False\n",
              "3  False  False   True  False\n",
              "4  False  False  False  False\n",
              "5   True  False   True  False"
            ]
          },
          "execution_count": 10,
          "metadata": {},
          "output_type": "execute_result"
        }
      ],
      "source": [
        "# 결측값 확인\n",
        "\n",
        "missing_data.isna()"
      ]
    },
    {
      "cell_type": "code",
      "execution_count": null,
      "id": "390bceb3",
      "metadata": {
        "id": "390bceb3",
        "outputId": "d6c6848e-db8e-41f5-8eaa-5dfd8af552e3"
      },
      "outputs": [
        {
          "data": {
            "text/plain": [
              "A열    2\n",
              "B열    1\n",
              "C열    3\n",
              "D열    0\n",
              "dtype: int64"
            ]
          },
          "execution_count": 13,
          "metadata": {},
          "output_type": "execute_result"
        }
      ],
      "source": [
        "# 결측값 갯수 확인\n",
        "\n",
        "missing_data.isnull().sum()"
      ]
    },
    {
      "cell_type": "code",
      "execution_count": null,
      "id": "4f8c3a2b",
      "metadata": {
        "id": "4f8c3a2b",
        "outputId": "c3a9e6dd-b4c3-4cd7-f713-b52c6e0f6c1f"
      },
      "outputs": [
        {
          "name": "stdout",
          "output_type": "stream",
          "text": [
            "2\n",
            "1\n",
            "3\n",
            "0\n"
          ]
        }
      ],
      "source": [
        "# 속성별 결측값 갯수 확인\n",
        "\n",
        "print(missing_data.A열.isna().sum())\n",
        "print(missing_data.B열.isna().sum())\n",
        "print(missing_data.C열.isna().sum())\n",
        "print(missing_data.D열.isna().sum())"
      ]
    },
    {
      "cell_type": "code",
      "execution_count": null,
      "id": "2544868f",
      "metadata": {
        "id": "2544868f",
        "outputId": "736eebee-509e-4803-ff1e-01a97d0a3bd8"
      },
      "outputs": [
        {
          "data": {
            "text/plain": [
              "<AxesSubplot:>"
            ]
          },
          "execution_count": 18,
          "metadata": {},
          "output_type": "execute_result"
        },
        {
          "data": {
            "image/png": "[encoded data removed]",
            "text/plain": [
              "<Figure size 720x360 with 1 Axes>"
            ]
          },
          "metadata": {},
          "output_type": "display_data"
        }
      ],
      "source": [
        "# 결측값 시각화: 결측값 많은 순으로 정렬\n",
        "\n",
        "missing_data.isnull().sum().sort_values().plot.barh(figsize = (10,5))"
      ]
    },
    {
      "cell_type": "markdown",
      "id": "2bd86b7c",
      "metadata": {
        "id": "2bd86b7c"
      },
      "source": [
        "### 2. 결측치 처리(삭제)"
      ]
    },
    {
      "cell_type": "code",
      "execution_count": null,
      "id": "9b2fd6ca",
      "metadata": {
        "id": "9b2fd6ca",
        "outputId": "45d8527a-87d7-414a-e2ec-203577931837"
      },
      "outputs": [
        {
          "data": {
            "text/html": [
              "<div>\n",
              "<style scoped>\n",
              "    .dataframe tbody tr th:only-of-type {\n",
              "        vertical-align: middle;\n",
              "    }\n",
              "\n",
              "    .dataframe tbody tr th {\n",
              "        vertical-align: top;\n",
              "    }\n",
              "\n",
              "    .dataframe thead th {\n",
              "        text-align: right;\n",
              "    }\n",
              "</style>\n",
              "<table border=\"1\" class=\"dataframe\">\n",
              "  <thead>\n",
              "    <tr style=\"text-align: right;\">\n",
              "      <th></th>\n",
              "      <th>A열</th>\n",
              "      <th>B열</th>\n",
              "      <th>C열</th>\n",
              "      <th>D열</th>\n",
              "    </tr>\n",
              "  </thead>\n",
              "  <tbody>\n",
              "    <tr>\n",
              "      <th>1</th>\n",
              "      <td>4.0</td>\n",
              "      <td>a</td>\n",
              "      <td>3.5</td>\n",
              "      <td>0</td>\n",
              "    </tr>\n",
              "    <tr>\n",
              "      <th>4</th>\n",
              "      <td>5.0</td>\n",
              "      <td>b</td>\n",
              "      <td>5.5</td>\n",
              "      <td>1</td>\n",
              "    </tr>\n",
              "  </tbody>\n",
              "</table>\n",
              "</div>"
            ],
            "text/plain": [
              "    A열 B열   C열  D열\n",
              "1  4.0  a  3.5   0\n",
              "4  5.0  b  5.5   1"
            ]
          },
          "execution_count": 19,
          "metadata": {},
          "output_type": "execute_result"
        }
      ],
      "source": [
        "# 결측값이 들어가있는 행 제거\n",
        "\n",
        "missing_data.dropna(axis = 0)"
      ]
    },
    {
      "cell_type": "code",
      "execution_count": null,
      "id": "0d1bfae3",
      "metadata": {
        "id": "0d1bfae3",
        "outputId": "d4b4a04b-a9a4-4c8c-ed7e-e5036df3e03f"
      },
      "outputs": [
        {
          "data": {
            "text/html": [
              "<div>\n",
              "<style scoped>\n",
              "    .dataframe tbody tr th:only-of-type {\n",
              "        vertical-align: middle;\n",
              "    }\n",
              "\n",
              "    .dataframe tbody tr th {\n",
              "        vertical-align: top;\n",
              "    }\n",
              "\n",
              "    .dataframe thead th {\n",
              "        text-align: right;\n",
              "    }\n",
              "</style>\n",
              "<table border=\"1\" class=\"dataframe\">\n",
              "  <thead>\n",
              "    <tr style=\"text-align: right;\">\n",
              "      <th></th>\n",
              "      <th>D열</th>\n",
              "    </tr>\n",
              "  </thead>\n",
              "  <tbody>\n",
              "    <tr>\n",
              "      <th>0</th>\n",
              "      <td>1</td>\n",
              "    </tr>\n",
              "    <tr>\n",
              "      <th>1</th>\n",
              "      <td>0</td>\n",
              "    </tr>\n",
              "    <tr>\n",
              "      <th>2</th>\n",
              "      <td>1</td>\n",
              "    </tr>\n",
              "    <tr>\n",
              "      <th>3</th>\n",
              "      <td>0</td>\n",
              "    </tr>\n",
              "    <tr>\n",
              "      <th>4</th>\n",
              "      <td>1</td>\n",
              "    </tr>\n",
              "    <tr>\n",
              "      <th>5</th>\n",
              "      <td>1</td>\n",
              "    </tr>\n",
              "  </tbody>\n",
              "</table>\n",
              "</div>"
            ],
            "text/plain": [
              "   D열\n",
              "0   1\n",
              "1   0\n",
              "2   1\n",
              "3   0\n",
              "4   1\n",
              "5   1"
            ]
          },
          "execution_count": 20,
          "metadata": {},
          "output_type": "execute_result"
        }
      ],
      "source": [
        "# 결측값이 들어가있는 열 제거\n",
        "\n",
        "missing_data.dropna(axis = 1)"
      ]
    },
    {
      "cell_type": "code",
      "execution_count": null,
      "id": "4a6f74d7",
      "metadata": {
        "id": "4a6f74d7",
        "outputId": "8c278965-c48c-4ce2-a6ff-90589bbe8158"
      },
      "outputs": [
        {
          "data": {
            "text/html": [
              "<div>\n",
              "<style scoped>\n",
              "    .dataframe tbody tr th:only-of-type {\n",
              "        vertical-align: middle;\n",
              "    }\n",
              "\n",
              "    .dataframe tbody tr th {\n",
              "        vertical-align: top;\n",
              "    }\n",
              "\n",
              "    .dataframe thead th {\n",
              "        text-align: right;\n",
              "    }\n",
              "</style>\n",
              "<table border=\"1\" class=\"dataframe\">\n",
              "  <thead>\n",
              "    <tr style=\"text-align: right;\">\n",
              "      <th></th>\n",
              "      <th>B열</th>\n",
              "      <th>D열</th>\n",
              "    </tr>\n",
              "  </thead>\n",
              "  <tbody>\n",
              "    <tr>\n",
              "      <th>0</th>\n",
              "      <td>a</td>\n",
              "      <td>1</td>\n",
              "    </tr>\n",
              "    <tr>\n",
              "      <th>1</th>\n",
              "      <td>a</td>\n",
              "      <td>0</td>\n",
              "    </tr>\n",
              "    <tr>\n",
              "      <th>2</th>\n",
              "      <td>NaN</td>\n",
              "      <td>1</td>\n",
              "    </tr>\n",
              "    <tr>\n",
              "      <th>3</th>\n",
              "      <td>b</td>\n",
              "      <td>0</td>\n",
              "    </tr>\n",
              "    <tr>\n",
              "      <th>4</th>\n",
              "      <td>b</td>\n",
              "      <td>1</td>\n",
              "    </tr>\n",
              "    <tr>\n",
              "      <th>5</th>\n",
              "      <td>b</td>\n",
              "      <td>1</td>\n",
              "    </tr>\n",
              "  </tbody>\n",
              "</table>\n",
              "</div>"
            ],
            "text/plain": [
              "    B열  D열\n",
              "0    a   1\n",
              "1    a   0\n",
              "2  NaN   1\n",
              "3    b   0\n",
              "4    b   1\n",
              "5    b   1"
            ]
          },
          "execution_count": 21,
          "metadata": {},
          "output_type": "execute_result"
        }
      ],
      "source": [
        "# thresh 파라미터 이용\n",
        "\n",
        "missing_data.dropna(thresh = 5, axis = 1) #결측값 제거 후 5개 미만으로 남는 열 삭제"
      ]
    },
    {
      "cell_type": "markdown",
      "id": "c822fe2f",
      "metadata": {
        "id": "c822fe2f"
      },
      "source": [
        "### 3. 결측값 처리(대치법)"
      ]
    },
    {
      "cell_type": "markdown",
      "id": "6a045795",
      "metadata": {
        "id": "6a045795"
      },
      "source": [
        "#### 3-1 fillna(): 특정 값으로 na 대체"
      ]
    },
    {
      "cell_type": "code",
      "execution_count": null,
      "id": "36885aa1",
      "metadata": {
        "id": "36885aa1",
        "outputId": "b5da2d17-c8a0-40d0-eeb4-616c5849bb0d"
      },
      "outputs": [
        {
          "data": {
            "text/plain": [
              "0    0.0\n",
              "1    4.0\n",
              "2    6.0\n",
              "3    5.0\n",
              "4    5.0\n",
              "5    0.0\n",
              "Name: A열, dtype: float64"
            ]
          },
          "execution_count": 22,
          "metadata": {},
          "output_type": "execute_result"
        }
      ],
      "source": [
        "\n",
        "\n",
        "### 특정 값으로 채우기: 0으로 채우기\n",
        "\n",
        "missing_data[\"A열\"].fillna(0)\n",
        "missing_data[\"A열\"].replace(np.nan, 0) #둘 다 같음"
      ]
    },
    {
      "cell_type": "code",
      "execution_count": null,
      "id": "cf10602f",
      "metadata": {
        "id": "cf10602f",
        "outputId": "159ae4f3-b6f7-4624-9c2f-b3929c891922"
      },
      "outputs": [
        {
          "data": {
            "text/plain": [
              "0    a\n",
              "1    a\n",
              "2    a\n",
              "3    b\n",
              "4    b\n",
              "5    b\n",
              "Name: B열, dtype: object"
            ]
          },
          "execution_count": 23,
          "metadata": {},
          "output_type": "execute_result"
        }
      ],
      "source": [
        "### 이전 값으로 채우기\n",
        "\n",
        "missing_data[\"B열\"].fillna(method=\"ffill\")"
      ]
    },
    {
      "cell_type": "code",
      "execution_count": null,
      "id": "cc43f966",
      "metadata": {
        "id": "cc43f966",
        "outputId": "36c4ed0d-1f6a-4cdd-92fc-9ae45603c979"
      },
      "outputs": [
        {
          "data": {
            "text/plain": [
              "0    3.5\n",
              "1    3.5\n",
              "2   -1.5\n",
              "3    5.5\n",
              "4    5.5\n",
              "5    NaN\n",
              "Name: C열, dtype: float64"
            ]
          },
          "execution_count": 24,
          "metadata": {},
          "output_type": "execute_result"
        }
      ],
      "source": [
        "### 이후 값으로 채우기\n",
        "\n",
        "missing_data[\"C열\"].fillna(method=\"bfill\")"
      ]
    },
    {
      "cell_type": "code",
      "execution_count": null,
      "id": "5a5b77d7",
      "metadata": {
        "id": "5a5b77d7",
        "outputId": "a2f96a00-b762-4649-d616-19f2986d87f9"
      },
      "outputs": [
        {
          "data": {
            "text/html": [
              "<div>\n",
              "<style scoped>\n",
              "    .dataframe tbody tr th:only-of-type {\n",
              "        vertical-align: middle;\n",
              "    }\n",
              "\n",
              "    .dataframe tbody tr th {\n",
              "        vertical-align: top;\n",
              "    }\n",
              "\n",
              "    .dataframe thead th {\n",
              "        text-align: right;\n",
              "    }\n",
              "</style>\n",
              "<table border=\"1\" class=\"dataframe\">\n",
              "  <thead>\n",
              "    <tr style=\"text-align: right;\">\n",
              "      <th></th>\n",
              "      <th>A열</th>\n",
              "      <th>B열</th>\n",
              "      <th>C열</th>\n",
              "      <th>D열</th>\n",
              "    </tr>\n",
              "  </thead>\n",
              "  <tbody>\n",
              "    <tr>\n",
              "      <th>0</th>\n",
              "      <td>5.0</td>\n",
              "      <td>a</td>\n",
              "      <td>2.5</td>\n",
              "      <td>1</td>\n",
              "    </tr>\n",
              "    <tr>\n",
              "      <th>1</th>\n",
              "      <td>4.0</td>\n",
              "      <td>a</td>\n",
              "      <td>3.5</td>\n",
              "      <td>0</td>\n",
              "    </tr>\n",
              "    <tr>\n",
              "      <th>2</th>\n",
              "      <td>6.0</td>\n",
              "      <td>NaN</td>\n",
              "      <td>-1.5</td>\n",
              "      <td>1</td>\n",
              "    </tr>\n",
              "    <tr>\n",
              "      <th>3</th>\n",
              "      <td>5.0</td>\n",
              "      <td>b</td>\n",
              "      <td>2.5</td>\n",
              "      <td>0</td>\n",
              "    </tr>\n",
              "    <tr>\n",
              "      <th>4</th>\n",
              "      <td>5.0</td>\n",
              "      <td>b</td>\n",
              "      <td>5.5</td>\n",
              "      <td>1</td>\n",
              "    </tr>\n",
              "    <tr>\n",
              "      <th>5</th>\n",
              "      <td>5.0</td>\n",
              "      <td>b</td>\n",
              "      <td>2.5</td>\n",
              "      <td>1</td>\n",
              "    </tr>\n",
              "  </tbody>\n",
              "</table>\n",
              "</div>"
            ],
            "text/plain": [
              "    A열   B열   C열  D열\n",
              "0  5.0    a  2.5   1\n",
              "1  4.0    a  3.5   0\n",
              "2  6.0  NaN -1.5   1\n",
              "3  5.0    b  2.5   0\n",
              "4  5.0    b  5.5   1\n",
              "5  5.0    b  2.5   1"
            ]
          },
          "execution_count": 28,
          "metadata": {},
          "output_type": "execute_result"
        }
      ],
      "source": [
        "### 결측값을 속성별 평균으로 대체하기\n",
        "\n",
        "missing_data.fillna(missing_data.mean())"
      ]
    },
    {
      "cell_type": "markdown",
      "id": "185209c7",
      "metadata": {
        "id": "185209c7"
      },
      "source": [
        "#### 3-2 SimpleImputer(): sklearn의 열의 평균이나 중앙값, 최빈값으로 대체하게 해주는 클래스\n",
        "- strategy(most_frequent: 최빈값, mean: 평균값, median: 중앙값)"
      ]
    },
    {
      "cell_type": "code",
      "execution_count": null,
      "id": "e625b843",
      "metadata": {
        "id": "e625b843"
      },
      "outputs": [],
      "source": [
        "df = missing_data.copy()\n",
        "\n",
        "# SimpleImputer 생성\n",
        "\n",
        "imputer = SimpleImputer(strategy = \"most_frequent\")\n",
        "\n"
      ]
    },
    {
      "cell_type": "code",
      "execution_count": null,
      "id": "1c4c0e0d",
      "metadata": {
        "collapsed": true,
        "id": "1c4c0e0d",
        "outputId": "50136dc2-aae0-408b-c78e-1152de1f0c95"
      },
      "outputs": [
        {
          "data": {
            "text/html": [
              "<div>\n",
              "<style scoped>\n",
              "    .dataframe tbody tr th:only-of-type {\n",
              "        vertical-align: middle;\n",
              "    }\n",
              "\n",
              "    .dataframe tbody tr th {\n",
              "        vertical-align: top;\n",
              "    }\n",
              "\n",
              "    .dataframe thead th {\n",
              "        text-align: right;\n",
              "    }\n",
              "</style>\n",
              "<table border=\"1\" class=\"dataframe\">\n",
              "  <thead>\n",
              "    <tr style=\"text-align: right;\">\n",
              "      <th></th>\n",
              "      <th>A열</th>\n",
              "      <th>B열</th>\n",
              "      <th>C열</th>\n",
              "      <th>D열</th>\n",
              "    </tr>\n",
              "  </thead>\n",
              "  <tbody>\n",
              "    <tr>\n",
              "      <th>0</th>\n",
              "      <td>5.0</td>\n",
              "      <td>a</td>\n",
              "      <td>NaN</td>\n",
              "      <td>1</td>\n",
              "    </tr>\n",
              "    <tr>\n",
              "      <th>1</th>\n",
              "      <td>4.0</td>\n",
              "      <td>a</td>\n",
              "      <td>3.5</td>\n",
              "      <td>0</td>\n",
              "    </tr>\n",
              "    <tr>\n",
              "      <th>2</th>\n",
              "      <td>6.0</td>\n",
              "      <td>NaN</td>\n",
              "      <td>-1.5</td>\n",
              "      <td>1</td>\n",
              "    </tr>\n",
              "    <tr>\n",
              "      <th>3</th>\n",
              "      <td>5.0</td>\n",
              "      <td>b</td>\n",
              "      <td>NaN</td>\n",
              "      <td>0</td>\n",
              "    </tr>\n",
              "    <tr>\n",
              "      <th>4</th>\n",
              "      <td>5.0</td>\n",
              "      <td>b</td>\n",
              "      <td>5.5</td>\n",
              "      <td>1</td>\n",
              "    </tr>\n",
              "    <tr>\n",
              "      <th>5</th>\n",
              "      <td>5.0</td>\n",
              "      <td>b</td>\n",
              "      <td>NaN</td>\n",
              "      <td>1</td>\n",
              "    </tr>\n",
              "  </tbody>\n",
              "</table>\n",
              "</div>"
            ],
            "text/plain": [
              "    A열   B열   C열  D열\n",
              "0  5.0    a  NaN   1\n",
              "1  4.0    a  3.5   0\n",
              "2  6.0  NaN -1.5   1\n",
              "3  5.0    b  NaN   0\n",
              "4  5.0    b  5.5   1\n",
              "5  5.0    b  NaN   1"
            ]
          },
          "execution_count": 31,
          "metadata": {},
          "output_type": "execute_result"
        }
      ],
      "source": [
        "# A열의 최빈값을 결측치에 대체\n",
        "\n",
        "df[\"A열\"] = imputer.fit_transform(df[[\"A열\"]])\n"
      ]
    },
    {
      "cell_type": "code",
      "execution_count": null,
      "id": "70c95d1c",
      "metadata": {
        "id": "70c95d1c",
        "outputId": "7f327343-1e5c-459c-ef34-364ca7e41c0e"
      },
      "outputs": [
        {
          "data": {
            "text/html": [
              "<div>\n",
              "<style scoped>\n",
              "    .dataframe tbody tr th:only-of-type {\n",
              "        vertical-align: middle;\n",
              "    }\n",
              "\n",
              "    .dataframe tbody tr th {\n",
              "        vertical-align: top;\n",
              "    }\n",
              "\n",
              "    .dataframe thead th {\n",
              "        text-align: right;\n",
              "    }\n",
              "</style>\n",
              "<table border=\"1\" class=\"dataframe\">\n",
              "  <thead>\n",
              "    <tr style=\"text-align: right;\">\n",
              "      <th></th>\n",
              "      <th>A열</th>\n",
              "      <th>B열</th>\n",
              "      <th>C열</th>\n",
              "      <th>D열</th>\n",
              "    </tr>\n",
              "  </thead>\n",
              "  <tbody>\n",
              "    <tr>\n",
              "      <th>0</th>\n",
              "      <td>5.0</td>\n",
              "      <td>a</td>\n",
              "      <td>NaN</td>\n",
              "      <td>1</td>\n",
              "    </tr>\n",
              "    <tr>\n",
              "      <th>1</th>\n",
              "      <td>4.0</td>\n",
              "      <td>a</td>\n",
              "      <td>3.5</td>\n",
              "      <td>0</td>\n",
              "    </tr>\n",
              "    <tr>\n",
              "      <th>2</th>\n",
              "      <td>6.0</td>\n",
              "      <td>NaN</td>\n",
              "      <td>-1.5</td>\n",
              "      <td>1</td>\n",
              "    </tr>\n",
              "    <tr>\n",
              "      <th>3</th>\n",
              "      <td>5.0</td>\n",
              "      <td>b</td>\n",
              "      <td>NaN</td>\n",
              "      <td>0</td>\n",
              "    </tr>\n",
              "    <tr>\n",
              "      <th>4</th>\n",
              "      <td>5.0</td>\n",
              "      <td>b</td>\n",
              "      <td>5.5</td>\n",
              "      <td>1</td>\n",
              "    </tr>\n",
              "    <tr>\n",
              "      <th>5</th>\n",
              "      <td>5.0</td>\n",
              "      <td>b</td>\n",
              "      <td>NaN</td>\n",
              "      <td>1</td>\n",
              "    </tr>\n",
              "  </tbody>\n",
              "</table>\n",
              "</div>"
            ],
            "text/plain": [
              "    A열   B열   C열  D열\n",
              "0  5.0    a  NaN   1\n",
              "1  4.0    a  3.5   0\n",
              "2  6.0  NaN -1.5   1\n",
              "3  5.0    b  NaN   0\n",
              "4  5.0    b  5.5   1\n",
              "5  5.0    b  NaN   1"
            ]
          },
          "execution_count": 32,
          "metadata": {},
          "output_type": "execute_result"
        }
      ],
      "source": [
        "df"
      ]
    },
    {
      "cell_type": "code",
      "execution_count": null,
      "id": "ee697fbc",
      "metadata": {
        "id": "ee697fbc"
      },
      "outputs": [],
      "source": [
        "# 나머지 열의 결측값을 최빈값으로 대체\n",
        "\n",
        "df = pd.DataFrame(imputer.fit_transform(df),columns = df.columns)"
      ]
    },
    {
      "cell_type": "code",
      "execution_count": null,
      "id": "2b8a4b7b",
      "metadata": {
        "id": "2b8a4b7b",
        "outputId": "d16ae24d-7826-4f86-ec58-dc15a778beec"
      },
      "outputs": [
        {
          "data": {
            "text/html": [
              "<div>\n",
              "<style scoped>\n",
              "    .dataframe tbody tr th:only-of-type {\n",
              "        vertical-align: middle;\n",
              "    }\n",
              "\n",
              "    .dataframe tbody tr th {\n",
              "        vertical-align: top;\n",
              "    }\n",
              "\n",
              "    .dataframe thead th {\n",
              "        text-align: right;\n",
              "    }\n",
              "</style>\n",
              "<table border=\"1\" class=\"dataframe\">\n",
              "  <thead>\n",
              "    <tr style=\"text-align: right;\">\n",
              "      <th></th>\n",
              "      <th>A열</th>\n",
              "      <th>B열</th>\n",
              "      <th>C열</th>\n",
              "      <th>D열</th>\n",
              "    </tr>\n",
              "  </thead>\n",
              "  <tbody>\n",
              "    <tr>\n",
              "      <th>0</th>\n",
              "      <td>5.0</td>\n",
              "      <td>a</td>\n",
              "      <td>-1.5</td>\n",
              "      <td>1</td>\n",
              "    </tr>\n",
              "    <tr>\n",
              "      <th>1</th>\n",
              "      <td>4.0</td>\n",
              "      <td>a</td>\n",
              "      <td>3.5</td>\n",
              "      <td>0</td>\n",
              "    </tr>\n",
              "    <tr>\n",
              "      <th>2</th>\n",
              "      <td>6.0</td>\n",
              "      <td>b</td>\n",
              "      <td>-1.5</td>\n",
              "      <td>1</td>\n",
              "    </tr>\n",
              "    <tr>\n",
              "      <th>3</th>\n",
              "      <td>5.0</td>\n",
              "      <td>b</td>\n",
              "      <td>-1.5</td>\n",
              "      <td>0</td>\n",
              "    </tr>\n",
              "    <tr>\n",
              "      <th>4</th>\n",
              "      <td>5.0</td>\n",
              "      <td>b</td>\n",
              "      <td>5.5</td>\n",
              "      <td>1</td>\n",
              "    </tr>\n",
              "    <tr>\n",
              "      <th>5</th>\n",
              "      <td>5.0</td>\n",
              "      <td>b</td>\n",
              "      <td>-1.5</td>\n",
              "      <td>1</td>\n",
              "    </tr>\n",
              "  </tbody>\n",
              "</table>\n",
              "</div>"
            ],
            "text/plain": [
              "    A열 B열   C열 D열\n",
              "0  5.0  a -1.5  1\n",
              "1  4.0  a  3.5  0\n",
              "2  6.0  b -1.5  1\n",
              "3  5.0  b -1.5  0\n",
              "4  5.0  b  5.5  1\n",
              "5  5.0  b -1.5  1"
            ]
          },
          "execution_count": 34,
          "metadata": {},
          "output_type": "execute_result"
        }
      ],
      "source": [
        "df"
      ]
    },
    {
      "cell_type": "markdown",
      "id": "4b6fe341",
      "metadata": {
        "id": "4b6fe341"
      },
      "source": [
        "#### 3-3 linear_model(): sklearn의 선형회귀법을 이용하여 값을 대체(조건부 평균 대체)"
      ]
    },
    {
      "cell_type": "code",
      "execution_count": null,
      "id": "9db30255",
      "metadata": {
        "id": "9db30255"
      },
      "outputs": [],
      "source": [
        "data = pd.read_csv(\"http://archive.ics.uci.edu/ml/machine-learning-databases/abalone/abalone.data\",\n",
        "                  header = None,\n",
        "                  names = [\"sex\", \"length\", \"diameter\", \"height\",\n",
        "                          \"whole_weight\", \"shucked_weight\",\n",
        "                          \"viscera_weight\", \"shell_weight\",\"rings\"])\n",
        "\n",
        "# 20개의 테스트 데이터만 저장\n",
        "\n",
        "df_missing = data.copy()[:20]"
      ]
    },
    {
      "cell_type": "code",
      "execution_count": null,
      "id": "4525ceb2",
      "metadata": {
        "id": "4525ceb2"
      },
      "outputs": [],
      "source": [
        "# 결측값 데이터 생성\n",
        "df_missing.loc[0:4,\"whole_weight\"] = np.nan"
      ]
    },
    {
      "cell_type": "code",
      "execution_count": null,
      "id": "fff97c9d",
      "metadata": {
        "id": "fff97c9d",
        "outputId": "9d5ac84e-088c-4dfb-f224-8c6395dded4e"
      },
      "outputs": [
        {
          "data": {
            "text/html": [
              "<div>\n",
              "<style scoped>\n",
              "    .dataframe tbody tr th:only-of-type {\n",
              "        vertical-align: middle;\n",
              "    }\n",
              "\n",
              "    .dataframe tbody tr th {\n",
              "        vertical-align: top;\n",
              "    }\n",
              "\n",
              "    .dataframe thead th {\n",
              "        text-align: right;\n",
              "    }\n",
              "</style>\n",
              "<table border=\"1\" class=\"dataframe\">\n",
              "  <thead>\n",
              "    <tr style=\"text-align: right;\">\n",
              "      <th></th>\n",
              "      <th>sex</th>\n",
              "      <th>length</th>\n",
              "      <th>diameter</th>\n",
              "      <th>height</th>\n",
              "      <th>whole_weight</th>\n",
              "      <th>shucked_weight</th>\n",
              "      <th>viscera_weight</th>\n",
              "      <th>shell_weight</th>\n",
              "      <th>rings</th>\n",
              "    </tr>\n",
              "  </thead>\n",
              "  <tbody>\n",
              "    <tr>\n",
              "      <th>0</th>\n",
              "      <td>M</td>\n",
              "      <td>0.455</td>\n",
              "      <td>0.365</td>\n",
              "      <td>0.095</td>\n",
              "      <td>NaN</td>\n",
              "      <td>0.2245</td>\n",
              "      <td>0.1010</td>\n",
              "      <td>0.150</td>\n",
              "      <td>15</td>\n",
              "    </tr>\n",
              "    <tr>\n",
              "      <th>1</th>\n",
              "      <td>M</td>\n",
              "      <td>0.350</td>\n",
              "      <td>0.265</td>\n",
              "      <td>0.090</td>\n",
              "      <td>NaN</td>\n",
              "      <td>0.0995</td>\n",
              "      <td>0.0485</td>\n",
              "      <td>0.070</td>\n",
              "      <td>7</td>\n",
              "    </tr>\n",
              "    <tr>\n",
              "      <th>2</th>\n",
              "      <td>F</td>\n",
              "      <td>0.530</td>\n",
              "      <td>0.420</td>\n",
              "      <td>0.135</td>\n",
              "      <td>NaN</td>\n",
              "      <td>0.2565</td>\n",
              "      <td>0.1415</td>\n",
              "      <td>0.210</td>\n",
              "      <td>9</td>\n",
              "    </tr>\n",
              "    <tr>\n",
              "      <th>3</th>\n",
              "      <td>M</td>\n",
              "      <td>0.440</td>\n",
              "      <td>0.365</td>\n",
              "      <td>0.125</td>\n",
              "      <td>NaN</td>\n",
              "      <td>0.2155</td>\n",
              "      <td>0.1140</td>\n",
              "      <td>0.155</td>\n",
              "      <td>10</td>\n",
              "    </tr>\n",
              "    <tr>\n",
              "      <th>4</th>\n",
              "      <td>I</td>\n",
              "      <td>0.330</td>\n",
              "      <td>0.255</td>\n",
              "      <td>0.080</td>\n",
              "      <td>NaN</td>\n",
              "      <td>0.0895</td>\n",
              "      <td>0.0395</td>\n",
              "      <td>0.055</td>\n",
              "      <td>7</td>\n",
              "    </tr>\n",
              "    <tr>\n",
              "      <th>5</th>\n",
              "      <td>I</td>\n",
              "      <td>0.425</td>\n",
              "      <td>0.300</td>\n",
              "      <td>0.095</td>\n",
              "      <td>0.3515</td>\n",
              "      <td>0.1410</td>\n",
              "      <td>0.0775</td>\n",
              "      <td>0.120</td>\n",
              "      <td>8</td>\n",
              "    </tr>\n",
              "    <tr>\n",
              "      <th>6</th>\n",
              "      <td>F</td>\n",
              "      <td>0.530</td>\n",
              "      <td>0.415</td>\n",
              "      <td>0.150</td>\n",
              "      <td>0.7775</td>\n",
              "      <td>0.2370</td>\n",
              "      <td>0.1415</td>\n",
              "      <td>0.330</td>\n",
              "      <td>20</td>\n",
              "    </tr>\n",
              "    <tr>\n",
              "      <th>7</th>\n",
              "      <td>F</td>\n",
              "      <td>0.545</td>\n",
              "      <td>0.425</td>\n",
              "      <td>0.125</td>\n",
              "      <td>0.7680</td>\n",
              "      <td>0.2940</td>\n",
              "      <td>0.1495</td>\n",
              "      <td>0.260</td>\n",
              "      <td>16</td>\n",
              "    </tr>\n",
              "    <tr>\n",
              "      <th>8</th>\n",
              "      <td>M</td>\n",
              "      <td>0.475</td>\n",
              "      <td>0.370</td>\n",
              "      <td>0.125</td>\n",
              "      <td>0.5095</td>\n",
              "      <td>0.2165</td>\n",
              "      <td>0.1125</td>\n",
              "      <td>0.165</td>\n",
              "      <td>9</td>\n",
              "    </tr>\n",
              "    <tr>\n",
              "      <th>9</th>\n",
              "      <td>F</td>\n",
              "      <td>0.550</td>\n",
              "      <td>0.440</td>\n",
              "      <td>0.150</td>\n",
              "      <td>0.8945</td>\n",
              "      <td>0.3145</td>\n",
              "      <td>0.1510</td>\n",
              "      <td>0.320</td>\n",
              "      <td>19</td>\n",
              "    </tr>\n",
              "  </tbody>\n",
              "</table>\n",
              "</div>"
            ],
            "text/plain": [
              "  sex  length  diameter  height  whole_weight  shucked_weight  viscera_weight  \\\n",
              "0   M   0.455     0.365   0.095           NaN          0.2245          0.1010   \n",
              "1   M   0.350     0.265   0.090           NaN          0.0995          0.0485   \n",
              "2   F   0.530     0.420   0.135           NaN          0.2565          0.1415   \n",
              "3   M   0.440     0.365   0.125           NaN          0.2155          0.1140   \n",
              "4   I   0.330     0.255   0.080           NaN          0.0895          0.0395   \n",
              "5   I   0.425     0.300   0.095        0.3515          0.1410          0.0775   \n",
              "6   F   0.530     0.415   0.150        0.7775          0.2370          0.1415   \n",
              "7   F   0.545     0.425   0.125        0.7680          0.2940          0.1495   \n",
              "8   M   0.475     0.370   0.125        0.5095          0.2165          0.1125   \n",
              "9   F   0.550     0.440   0.150        0.8945          0.3145          0.1510   \n",
              "\n",
              "   shell_weight  rings  \n",
              "0         0.150     15  \n",
              "1         0.070      7  \n",
              "2         0.210      9  \n",
              "3         0.155     10  \n",
              "4         0.055      7  \n",
              "5         0.120      8  \n",
              "6         0.330     20  \n",
              "7         0.260     16  \n",
              "8         0.165      9  \n",
              "9         0.320     19  "
            ]
          },
          "execution_count": 39,
          "metadata": {},
          "output_type": "execute_result"
        }
      ],
      "source": [
        "df_missing.head(10)"
      ]
    },
    {
      "cell_type": "code",
      "execution_count": null,
      "id": "4e8d05db",
      "metadata": {
        "id": "4e8d05db"
      },
      "outputs": [],
      "source": [
        "# 학습데이터 생성: X,y에 결측치 삭제\n",
        "\n",
        "X = df_missing.dropna(axis = 0)[[\"diameter\",\"height\",\"shell_weight\"]]\n",
        "y = df_missing.dropna(axis = 0)[\"whole_weight\"]"
      ]
    },
    {
      "cell_type": "code",
      "execution_count": null,
      "id": "b65f65dc",
      "metadata": {
        "id": "b65f65dc",
        "outputId": "c492695d-7047-49ff-e804-452ac911e10b"
      },
      "outputs": [
        {
          "data": {
            "text/html": [
              "<div>\n",
              "<style scoped>\n",
              "    .dataframe tbody tr th:only-of-type {\n",
              "        vertical-align: middle;\n",
              "    }\n",
              "\n",
              "    .dataframe tbody tr th {\n",
              "        vertical-align: top;\n",
              "    }\n",
              "\n",
              "    .dataframe thead th {\n",
              "        text-align: right;\n",
              "    }\n",
              "</style>\n",
              "<table border=\"1\" class=\"dataframe\">\n",
              "  <thead>\n",
              "    <tr style=\"text-align: right;\">\n",
              "      <th></th>\n",
              "      <th>diameter</th>\n",
              "      <th>height</th>\n",
              "      <th>shell_weight</th>\n",
              "    </tr>\n",
              "  </thead>\n",
              "  <tbody>\n",
              "    <tr>\n",
              "      <th>5</th>\n",
              "      <td>0.300</td>\n",
              "      <td>0.095</td>\n",
              "      <td>0.120</td>\n",
              "    </tr>\n",
              "    <tr>\n",
              "      <th>6</th>\n",
              "      <td>0.415</td>\n",
              "      <td>0.150</td>\n",
              "      <td>0.330</td>\n",
              "    </tr>\n",
              "    <tr>\n",
              "      <th>7</th>\n",
              "      <td>0.425</td>\n",
              "      <td>0.125</td>\n",
              "      <td>0.260</td>\n",
              "    </tr>\n",
              "    <tr>\n",
              "      <th>8</th>\n",
              "      <td>0.370</td>\n",
              "      <td>0.125</td>\n",
              "      <td>0.165</td>\n",
              "    </tr>\n",
              "    <tr>\n",
              "      <th>9</th>\n",
              "      <td>0.440</td>\n",
              "      <td>0.150</td>\n",
              "      <td>0.320</td>\n",
              "    </tr>\n",
              "  </tbody>\n",
              "</table>\n",
              "</div>"
            ],
            "text/plain": [
              "   diameter  height  shell_weight\n",
              "5     0.300   0.095         0.120\n",
              "6     0.415   0.150         0.330\n",
              "7     0.425   0.125         0.260\n",
              "8     0.370   0.125         0.165\n",
              "9     0.440   0.150         0.320"
            ]
          },
          "execution_count": 50,
          "metadata": {},
          "output_type": "execute_result"
        }
      ],
      "source": [
        "X.head()"
      ]
    },
    {
      "cell_type": "code",
      "execution_count": null,
      "id": "ecfb66a6",
      "metadata": {
        "id": "ecfb66a6",
        "outputId": "3f0180b1-bb09-4969-d3fc-99c91bd5c147"
      },
      "outputs": [
        {
          "data": {
            "text/plain": [
              "array([0.49254286, 0.18873668, 0.68747377, 0.50646044, 0.14810905,\n",
              "       0.31971105, 0.81030386, 0.7493438 , 0.52804836, 0.85355676,\n",
              "       0.6024405 , 0.44821428, 0.5794571 , 0.65250514, 0.51008432,\n",
              "       0.67516872, 0.26825093, 0.41836777, 0.2830785 , 0.35896888])"
            ]
          },
          "execution_count": 58,
          "metadata": {},
          "output_type": "execute_result"
        }
      ],
      "source": [
        "#선형회귀모델 생성\n",
        "\n",
        "reg = LinearRegression()\n",
        "\n",
        "reg_m = reg.fit(X,y)\n",
        "\n",
        "# 선형회귀모델로 'whole_weight' 추정값 계산\n",
        "\n",
        "y_pred = reg.predict(df_missing.loc[:,[\"diameter\",\"height\",\"shell_weight\"]])\n",
        "\n",
        "y_pred"
      ]
    },
    {
      "cell_type": "code",
      "execution_count": null,
      "id": "90107728",
      "metadata": {
        "id": "90107728",
        "outputId": "25d85ae8-2e4a-4064-c5ce-cdd5f393f7c9"
      },
      "outputs": [
        {
          "data": {
            "text/html": [
              "<div>\n",
              "<style scoped>\n",
              "    .dataframe tbody tr th:only-of-type {\n",
              "        vertical-align: middle;\n",
              "    }\n",
              "\n",
              "    .dataframe tbody tr th {\n",
              "        vertical-align: top;\n",
              "    }\n",
              "\n",
              "    .dataframe thead th {\n",
              "        text-align: right;\n",
              "    }\n",
              "</style>\n",
              "<table border=\"1\" class=\"dataframe\">\n",
              "  <thead>\n",
              "    <tr style=\"text-align: right;\">\n",
              "      <th></th>\n",
              "      <th>sex</th>\n",
              "      <th>length</th>\n",
              "      <th>diameter</th>\n",
              "      <th>height</th>\n",
              "      <th>whole_weight</th>\n",
              "      <th>shucked_weight</th>\n",
              "      <th>viscera_weight</th>\n",
              "      <th>shell_weight</th>\n",
              "      <th>rings</th>\n",
              "    </tr>\n",
              "  </thead>\n",
              "  <tbody>\n",
              "    <tr>\n",
              "      <th>0</th>\n",
              "      <td>M</td>\n",
              "      <td>0.455</td>\n",
              "      <td>0.365</td>\n",
              "      <td>0.095</td>\n",
              "      <td>0.492543</td>\n",
              "      <td>0.2245</td>\n",
              "      <td>0.1010</td>\n",
              "      <td>0.150</td>\n",
              "      <td>15</td>\n",
              "    </tr>\n",
              "    <tr>\n",
              "      <th>1</th>\n",
              "      <td>M</td>\n",
              "      <td>0.350</td>\n",
              "      <td>0.265</td>\n",
              "      <td>0.090</td>\n",
              "      <td>0.188737</td>\n",
              "      <td>0.0995</td>\n",
              "      <td>0.0485</td>\n",
              "      <td>0.070</td>\n",
              "      <td>7</td>\n",
              "    </tr>\n",
              "    <tr>\n",
              "      <th>2</th>\n",
              "      <td>F</td>\n",
              "      <td>0.530</td>\n",
              "      <td>0.420</td>\n",
              "      <td>0.135</td>\n",
              "      <td>0.687474</td>\n",
              "      <td>0.2565</td>\n",
              "      <td>0.1415</td>\n",
              "      <td>0.210</td>\n",
              "      <td>9</td>\n",
              "    </tr>\n",
              "    <tr>\n",
              "      <th>3</th>\n",
              "      <td>M</td>\n",
              "      <td>0.440</td>\n",
              "      <td>0.365</td>\n",
              "      <td>0.125</td>\n",
              "      <td>0.506460</td>\n",
              "      <td>0.2155</td>\n",
              "      <td>0.1140</td>\n",
              "      <td>0.155</td>\n",
              "      <td>10</td>\n",
              "    </tr>\n",
              "    <tr>\n",
              "      <th>4</th>\n",
              "      <td>I</td>\n",
              "      <td>0.330</td>\n",
              "      <td>0.255</td>\n",
              "      <td>0.080</td>\n",
              "      <td>0.148109</td>\n",
              "      <td>0.0895</td>\n",
              "      <td>0.0395</td>\n",
              "      <td>0.055</td>\n",
              "      <td>7</td>\n",
              "    </tr>\n",
              "    <tr>\n",
              "      <th>5</th>\n",
              "      <td>I</td>\n",
              "      <td>0.425</td>\n",
              "      <td>0.300</td>\n",
              "      <td>0.095</td>\n",
              "      <td>0.351500</td>\n",
              "      <td>0.1410</td>\n",
              "      <td>0.0775</td>\n",
              "      <td>0.120</td>\n",
              "      <td>8</td>\n",
              "    </tr>\n",
              "    <tr>\n",
              "      <th>6</th>\n",
              "      <td>F</td>\n",
              "      <td>0.530</td>\n",
              "      <td>0.415</td>\n",
              "      <td>0.150</td>\n",
              "      <td>0.777500</td>\n",
              "      <td>0.2370</td>\n",
              "      <td>0.1415</td>\n",
              "      <td>0.330</td>\n",
              "      <td>20</td>\n",
              "    </tr>\n",
              "    <tr>\n",
              "      <th>7</th>\n",
              "      <td>F</td>\n",
              "      <td>0.545</td>\n",
              "      <td>0.425</td>\n",
              "      <td>0.125</td>\n",
              "      <td>0.768000</td>\n",
              "      <td>0.2940</td>\n",
              "      <td>0.1495</td>\n",
              "      <td>0.260</td>\n",
              "      <td>16</td>\n",
              "    </tr>\n",
              "    <tr>\n",
              "      <th>8</th>\n",
              "      <td>M</td>\n",
              "      <td>0.475</td>\n",
              "      <td>0.370</td>\n",
              "      <td>0.125</td>\n",
              "      <td>0.509500</td>\n",
              "      <td>0.2165</td>\n",
              "      <td>0.1125</td>\n",
              "      <td>0.165</td>\n",
              "      <td>9</td>\n",
              "    </tr>\n",
              "    <tr>\n",
              "      <th>9</th>\n",
              "      <td>F</td>\n",
              "      <td>0.550</td>\n",
              "      <td>0.440</td>\n",
              "      <td>0.150</td>\n",
              "      <td>0.894500</td>\n",
              "      <td>0.3145</td>\n",
              "      <td>0.1510</td>\n",
              "      <td>0.320</td>\n",
              "      <td>19</td>\n",
              "    </tr>\n",
              "    <tr>\n",
              "      <th>10</th>\n",
              "      <td>F</td>\n",
              "      <td>0.525</td>\n",
              "      <td>0.380</td>\n",
              "      <td>0.140</td>\n",
              "      <td>0.606500</td>\n",
              "      <td>0.1940</td>\n",
              "      <td>0.1475</td>\n",
              "      <td>0.210</td>\n",
              "      <td>14</td>\n",
              "    </tr>\n",
              "    <tr>\n",
              "      <th>11</th>\n",
              "      <td>M</td>\n",
              "      <td>0.430</td>\n",
              "      <td>0.350</td>\n",
              "      <td>0.110</td>\n",
              "      <td>0.406000</td>\n",
              "      <td>0.1675</td>\n",
              "      <td>0.0810</td>\n",
              "      <td>0.135</td>\n",
              "      <td>10</td>\n",
              "    </tr>\n",
              "    <tr>\n",
              "      <th>12</th>\n",
              "      <td>M</td>\n",
              "      <td>0.490</td>\n",
              "      <td>0.380</td>\n",
              "      <td>0.135</td>\n",
              "      <td>0.541500</td>\n",
              "      <td>0.2175</td>\n",
              "      <td>0.0950</td>\n",
              "      <td>0.190</td>\n",
              "      <td>11</td>\n",
              "    </tr>\n",
              "    <tr>\n",
              "      <th>13</th>\n",
              "      <td>F</td>\n",
              "      <td>0.535</td>\n",
              "      <td>0.405</td>\n",
              "      <td>0.145</td>\n",
              "      <td>0.684500</td>\n",
              "      <td>0.2725</td>\n",
              "      <td>0.1710</td>\n",
              "      <td>0.205</td>\n",
              "      <td>10</td>\n",
              "    </tr>\n",
              "    <tr>\n",
              "      <th>14</th>\n",
              "      <td>F</td>\n",
              "      <td>0.470</td>\n",
              "      <td>0.355</td>\n",
              "      <td>0.100</td>\n",
              "      <td>0.475500</td>\n",
              "      <td>0.1675</td>\n",
              "      <td>0.0805</td>\n",
              "      <td>0.185</td>\n",
              "      <td>10</td>\n",
              "    </tr>\n",
              "    <tr>\n",
              "      <th>15</th>\n",
              "      <td>M</td>\n",
              "      <td>0.500</td>\n",
              "      <td>0.400</td>\n",
              "      <td>0.130</td>\n",
              "      <td>0.664500</td>\n",
              "      <td>0.2580</td>\n",
              "      <td>0.1330</td>\n",
              "      <td>0.240</td>\n",
              "      <td>12</td>\n",
              "    </tr>\n",
              "    <tr>\n",
              "      <th>16</th>\n",
              "      <td>I</td>\n",
              "      <td>0.355</td>\n",
              "      <td>0.280</td>\n",
              "      <td>0.085</td>\n",
              "      <td>0.290500</td>\n",
              "      <td>0.0950</td>\n",
              "      <td>0.0395</td>\n",
              "      <td>0.115</td>\n",
              "      <td>7</td>\n",
              "    </tr>\n",
              "    <tr>\n",
              "      <th>17</th>\n",
              "      <td>F</td>\n",
              "      <td>0.440</td>\n",
              "      <td>0.340</td>\n",
              "      <td>0.100</td>\n",
              "      <td>0.451000</td>\n",
              "      <td>0.1880</td>\n",
              "      <td>0.0870</td>\n",
              "      <td>0.130</td>\n",
              "      <td>10</td>\n",
              "    </tr>\n",
              "    <tr>\n",
              "      <th>18</th>\n",
              "      <td>M</td>\n",
              "      <td>0.365</td>\n",
              "      <td>0.295</td>\n",
              "      <td>0.080</td>\n",
              "      <td>0.255500</td>\n",
              "      <td>0.0970</td>\n",
              "      <td>0.0430</td>\n",
              "      <td>0.100</td>\n",
              "      <td>7</td>\n",
              "    </tr>\n",
              "    <tr>\n",
              "      <th>19</th>\n",
              "      <td>M</td>\n",
              "      <td>0.450</td>\n",
              "      <td>0.320</td>\n",
              "      <td>0.100</td>\n",
              "      <td>0.381000</td>\n",
              "      <td>0.1705</td>\n",
              "      <td>0.0750</td>\n",
              "      <td>0.115</td>\n",
              "      <td>9</td>\n",
              "    </tr>\n",
              "  </tbody>\n",
              "</table>\n",
              "</div>"
            ],
            "text/plain": [
              "   sex  length  diameter  height  whole_weight  shucked_weight  \\\n",
              "0    M   0.455     0.365   0.095      0.492543          0.2245   \n",
              "1    M   0.350     0.265   0.090      0.188737          0.0995   \n",
              "2    F   0.530     0.420   0.135      0.687474          0.2565   \n",
              "3    M   0.440     0.365   0.125      0.506460          0.2155   \n",
              "4    I   0.330     0.255   0.080      0.148109          0.0895   \n",
              "5    I   0.425     0.300   0.095      0.351500          0.1410   \n",
              "6    F   0.530     0.415   0.150      0.777500          0.2370   \n",
              "7    F   0.545     0.425   0.125      0.768000          0.2940   \n",
              "8    M   0.475     0.370   0.125      0.509500          0.2165   \n",
              "9    F   0.550     0.440   0.150      0.894500          0.3145   \n",
              "10   F   0.525     0.380   0.140      0.606500          0.1940   \n",
              "11   M   0.430     0.350   0.110      0.406000          0.1675   \n",
              "12   M   0.490     0.380   0.135      0.541500          0.2175   \n",
              "13   F   0.535     0.405   0.145      0.684500          0.2725   \n",
              "14   F   0.470     0.355   0.100      0.475500          0.1675   \n",
              "15   M   0.500     0.400   0.130      0.664500          0.2580   \n",
              "16   I   0.355     0.280   0.085      0.290500          0.0950   \n",
              "17   F   0.440     0.340   0.100      0.451000          0.1880   \n",
              "18   M   0.365     0.295   0.080      0.255500          0.0970   \n",
              "19   M   0.450     0.320   0.100      0.381000          0.1705   \n",
              "\n",
              "    viscera_weight  shell_weight  rings  \n",
              "0           0.1010         0.150     15  \n",
              "1           0.0485         0.070      7  \n",
              "2           0.1415         0.210      9  \n",
              "3           0.1140         0.155     10  \n",
              "4           0.0395         0.055      7  \n",
              "5           0.0775         0.120      8  \n",
              "6           0.1415         0.330     20  \n",
              "7           0.1495         0.260     16  \n",
              "8           0.1125         0.165      9  \n",
              "9           0.1510         0.320     19  \n",
              "10          0.1475         0.210     14  \n",
              "11          0.0810         0.135     10  \n",
              "12          0.0950         0.190     11  \n",
              "13          0.1710         0.205     10  \n",
              "14          0.0805         0.185     10  \n",
              "15          0.1330         0.240     12  \n",
              "16          0.0395         0.115      7  \n",
              "17          0.0870         0.130     10  \n",
              "18          0.0430         0.100      7  \n",
              "19          0.0750         0.115      9  "
            ]
          },
          "execution_count": 61,
          "metadata": {},
          "output_type": "execute_result"
        }
      ],
      "source": [
        "## 선형회귀 모델의 예측값을 결측값에 대체\n",
        "\n",
        "## fillna()함수 이용\n",
        "# faltten: 다차원->1차원으로 평탄화해수는 함수\n",
        "\n",
        "df_missing[\"whole_weight\"].fillna(pd.Series(y_pred.flatten()),inplace = True) #inplace = True의 경우 df_missing에 바로 결측치 대체가 된다.\n",
        "\n",
        "## 결과확인\n",
        "df_missing"
      ]
    }
  ],
  "metadata": {
    "kernelspec": {
      "display_name": "Python 3 (ipykernel)",
      "language": "python",
      "name": "python3"
    },
    "language_info": {
      "codemirror_mode": {
        "name": "ipython",
        "version": 3
      },
      "file_extension": ".py",
      "mimetype": "text/x-python",
      "name": "python",
      "nbconvert_exporter": "python",
      "pygments_lexer": "ipython3",
      "version": "3.9.12"
    },
    "colab": {
      "provenance": [],
      "include_colab_link": true
    }
  },
  "nbformat": 4,
  "nbformat_minor": 5
}