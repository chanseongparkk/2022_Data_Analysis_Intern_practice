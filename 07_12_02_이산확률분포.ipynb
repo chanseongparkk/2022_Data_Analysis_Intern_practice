{
  "nbformat": 4,
  "nbformat_minor": 0,
  "metadata": {
    "colab": {
      "provenance": [],
      "authorship_tag": "ABX9TyOPjRKSj9wvOKCwLh/oZaT2",
      "include_colab_link": true
    },
    "kernelspec": {
      "name": "python3",
      "display_name": "Python 3"
    },
    "language_info": {
      "name": "python"
    }
  },
  "cells": [
    {
      "cell_type": "markdown",
      "metadata": {
        "id": "view-in-github",
        "colab_type": "text"
      },
      "source": [
        "<a href=\"https://colab.research.google.com/github/chanseongparkk/2022_Data_Analysis_Intern_practice/blob/main/07_12_02_%EC%9D%B4%EC%82%B0%ED%99%95%EB%A5%A0%EB%B6%84%ED%8F%AC.ipynb\" target=\"_parent\"><img src=\"https://colab.research.google.com/assets/colab-badge.svg\" alt=\"Open In Colab\"/></a>"
      ]
    },
    {
      "cell_type": "markdown",
      "source": [
        "## 이산확률분포 실습"
      ],
      "metadata": {
        "id": "Cw916AEc-viX"
      }
    },
    {
      "cell_type": "code",
      "execution_count": null,
      "metadata": {
        "id": "SR159-49tNlw"
      },
      "outputs": [],
      "source": [
        "# 패키지 임포트\n",
        "import pandas as pd\n",
        "import numpy as np\n",
        "from scipy import stats\n",
        "\n",
        "import matplotlib.pyplot as plt\n",
        "import seaborn as sns\n",
        "%matplotlib inline\n",
        "\n",
        "\n",
        "# os에 따른 font 깨짐 제거를 위해 font 지정\n",
        "\n",
        "import os\n",
        "\n",
        "if os.name == \"nt\":\n",
        "    font_family = \"Malgun Gothic\"\n",
        "else: #mac os\n",
        "    font_family = \"AppleGothic\"\n",
        "    \n",
        "# - 값이 깨지는 문제 해결을 위해 파라미터값 설정\n",
        "\n",
        "sns.set(font = font_family, rc = {\"axes.unicode_minus\" : False})\n",
        "\n",
        "import warnings\n",
        "warnings.filterwarnings(\"ignore\")"
      ]
    },
    {
      "cell_type": "markdown",
      "source": [
        "### 1. 베르누이분포\n",
        "\n",
        "* 확률론과 통계학에서 매 시행마다 오직 두가지의 가능한 결과만 일어난다고 할 때, 이러한 실험을 1회 시행하여 일어난 두가지 결과에 의해 그 값이 각각 0과 1로 결정나는 확률분포\n",
        "* stats.bernoulli() : 베르누이 확률 변수 클래스"
      ],
      "metadata": {
        "id": "0rsMQCJw-4SX"
      }
    },
    {
      "cell_type": "code",
      "source": [
        "# 베르누이 분포 정의\n",
        "\n",
        "mu = 0.7\n",
        "bern = stats.bernoulli(mu)"
      ],
      "metadata": {
        "id": "e1fEiZSD-86m"
      },
      "execution_count": null,
      "outputs": []
    },
    {
      "cell_type": "code",
      "source": [
        "## 확률질량함수 계산 및 시각화\n",
        "\n",
        "b_x = [0,1]\n",
        "bern_pmf = bern.pmf(b_x)\n",
        "\n",
        "# 시각화\n",
        "\n",
        "plt.bar(b_x, bern_pmf)\n",
        "plt.xlim(-1,2)\n",
        "plt.ylim(0,1)\n",
        "plt.xticks([0,1],[\"x = 0, x = 1\"])\n",
        "plt.xlabel(\"표본값\")\n",
        "plt.ylabel(\"P(x)\")\n",
        "plt.title(\"베르누이 확률변수의 확률질량함수\")\n",
        "plt.show()"
      ],
      "metadata": {
        "colab": {
          "base_uri": "https://localhost:8080/",
          "height": 336
        },
        "id": "48ZKo8AM-tEv",
        "outputId": "ed959ae2-7950-4bf4-bbed-07267077c0bc"
      },
      "execution_count": null,
      "outputs": [
        {
          "output_type": "stream",
          "name": "stderr",
          "text": [
            "findfont: Font family ['AppleGothic'] not found. Falling back to DejaVu Sans.\n",
            "findfont: Font family ['AppleGothic'] not found. Falling back to DejaVu Sans.\n"
          ]
        },
        {
          "output_type": "display_data",
          "data": {
            "text/plain": [
              "<Figure size 432x288 with 1 Axes>"
            ],
            "image/png": "[encoded data removed]"
          },
          "metadata": {
            "needs_background": "light"
          }
        }
      ]
    },
    {
      "cell_type": "code",
      "source": [
        "# 베르누이 검정을 위한 베르누이 샘플 100개 생성\n",
        "\n",
        "x_sample_bern = bern.rvs(100, random_state = 0)\n",
        "x_sample_bern.shape"
      ],
      "metadata": {
        "colab": {
          "base_uri": "https://localhost:8080/"
        },
        "id": "Z7q_IZHpAG7n",
        "outputId": "54b39387-df4d-4173-d0de-a7443ddcf715"
      },
      "execution_count": null,
      "outputs": [
        {
          "output_type": "execute_result",
          "data": {
            "text/plain": [
              "(100,)"
            ]
          },
          "metadata": {},
          "execution_count": 29
        }
      ]
    },
    {
      "cell_type": "code",
      "source": [
        "# 베르누이 시뮬레이션\n",
        "\n",
        "y_bern = np.bincount(x_sample_bern, minlength = 2) / float(len(x_sample_bern))\n",
        "\n",
        "df_bern = pd.DataFrame(\n",
        "    {\"결과\" : bern_pmf,\n",
        "     \"검증(시뮬레이션)\" : y_bern}\n",
        ")\n",
        "df_bern.index = [0,1]\n",
        "df_bern"
      ],
      "metadata": {
        "colab": {
          "base_uri": "https://localhost:8080/",
          "height": 112
        },
        "id": "i5-b0FD2ATkl",
        "outputId": "7513daca-1c42-499b-8d03-f1130a30b2d5"
      },
      "execution_count": null,
      "outputs": [
        {
          "output_type": "execute_result",
          "data": {
            "text/plain": [
              "    결과  검증(시뮬레이션)\n",
              "0  0.3       0.23\n",
              "1  0.7       0.77"
            ],
            "text/html": [
              "\n",
              "  <div id=\"df-f81c9078-a679-49a2-a21b-279737cbaaaf\">\n",
              "    <div class=\"colab-df-container\">\n",
              "      <div>\n",
              "<style scoped>\n",
              "    .dataframe tbody tr th:only-of-type {\n",
              "        vertical-align: middle;\n",
              "    }\n",
              "\n",
              "    .dataframe tbody tr th {\n",
              "        vertical-align: top;\n",
              "    }\n",
              "\n",
              "    .dataframe thead th {\n",
              "        text-align: right;\n",
              "    }\n",
              "</style>\n",
              "<table border=\"1\" class=\"dataframe\">\n",
              "  <thead>\n",
              "    <tr style=\"text-align: right;\">\n",
              "      <th></th>\n",
              "      <th>결과</th>\n",
              "      <th>검증(시뮬레이션)</th>\n",
              "    </tr>\n",
              "  </thead>\n",
              "  <tbody>\n",
              "    <tr>\n",
              "      <th>0</th>\n",
              "      <td>0.3</td>\n",
              "      <td>0.23</td>\n",
              "    </tr>\n",
              "    <tr>\n",
              "      <th>1</th>\n",
              "      <td>0.7</td>\n",
              "      <td>0.77</td>\n",
              "    </tr>\n",
              "  </tbody>\n",
              "</table>\n",
              "</div>\n",
              "      <button class=\"colab-df-convert\" onclick=\"convertToInteractive('df-f81c9078-a679-49a2-a21b-279737cbaaaf')\"\n",
              "              title=\"Convert this dataframe to an interactive table.\"\n",
              "              style=\"display:none;\">\n",
              "        \n",
              "  <svg xmlns=\"http://www.w3.org/2000/svg\" height=\"24px\"viewBox=\"0 0 24 24\"\n",
              "       width=\"24px\">\n",
              "    <path d=\"M0 0h24v24H0V0z\" fill=\"none\"/>\n",
              "    <path d=\"M18.56 5.44l.94 2.06.94-2.06 2.06-.94-2.06-.94-.94-2.06-.94 2.06-2.06.94zm-11 1L8.5 8.5l.94-2.06 2.06-.94-2.06-.94L8.5 2.5l-.94 2.06-2.06.94zm10 10l.94 2.06.94-2.06 2.06-.94-2.06-.94-.94-2.06-.94 2.06-2.06.94z\"/><path d=\"M17.41 7.96l-1.37-1.37c-.4-.4-.92-.59-1.43-.59-.52 0-1.04.2-1.43.59L10.3 9.45l-7.72 7.72c-.78.78-.78 2.05 0 2.83L4 21.41c.39.39.9.59 1.41.59.51 0 1.02-.2 1.41-.59l7.78-7.78 2.81-2.81c.8-.78.8-2.07 0-2.86zM5.41 20L4 18.59l7.72-7.72 1.47 1.35L5.41 20z\"/>\n",
              "  </svg>\n",
              "      </button>\n",
              "      \n",
              "  <style>\n",
              "    .colab-df-container {\n",
              "      display:flex;\n",
              "      flex-wrap:wrap;\n",
              "      gap: 12px;\n",
              "    }\n",
              "\n",
              "    .colab-df-convert {\n",
              "      background-color: #E8F0FE;\n",
              "      border: none;\n",
              "      border-radius: 50%;\n",
              "      cursor: pointer;\n",
              "      display: none;\n",
              "      fill: #1967D2;\n",
              "      height: 32px;\n",
              "      padding: 0 0 0 0;\n",
              "      width: 32px;\n",
              "    }\n",
              "\n",
              "    .colab-df-convert:hover {\n",
              "      background-color: #E2EBFA;\n",
              "      box-shadow: 0px 1px 2px rgba(60, 64, 67, 0.3), 0px 1px 3px 1px rgba(60, 64, 67, 0.15);\n",
              "      fill: #174EA6;\n",
              "    }\n",
              "\n",
              "    [theme=dark] .colab-df-convert {\n",
              "      background-color: #3B4455;\n",
              "      fill: #D2E3FC;\n",
              "    }\n",
              "\n",
              "    [theme=dark] .colab-df-convert:hover {\n",
              "      background-color: #434B5C;\n",
              "      box-shadow: 0px 1px 3px 1px rgba(0, 0, 0, 0.15);\n",
              "      filter: drop-shadow(0px 1px 2px rgba(0, 0, 0, 0.3));\n",
              "      fill: #FFFFFF;\n",
              "    }\n",
              "  </style>\n",
              "\n",
              "      <script>\n",
              "        const buttonEl =\n",
              "          document.querySelector('#df-f81c9078-a679-49a2-a21b-279737cbaaaf button.colab-df-convert');\n",
              "        buttonEl.style.display =\n",
              "          google.colab.kernel.accessAllowed ? 'block' : 'none';\n",
              "\n",
              "        async function convertToInteractive(key) {\n",
              "          const element = document.querySelector('#df-f81c9078-a679-49a2-a21b-279737cbaaaf');\n",
              "          const dataTable =\n",
              "            await google.colab.kernel.invokeFunction('convertToInteractive',\n",
              "                                                     [key], {});\n",
              "          if (!dataTable) return;\n",
              "\n",
              "          const docLinkHtml = 'Like what you see? Visit the ' +\n",
              "            '<a target=\"_blank\" href=https://colab.research.google.com/notebooks/data_table.ipynb>data table notebook</a>'\n",
              "            + ' to learn more about interactive tables.';\n",
              "          element.innerHTML = '';\n",
              "          dataTable['output_type'] = 'display_data';\n",
              "          await google.colab.output.renderOutput(dataTable, element);\n",
              "          const docLink = document.createElement('div');\n",
              "          docLink.innerHTML = docLinkHtml;\n",
              "          element.appendChild(docLink);\n",
              "        }\n",
              "      </script>\n",
              "    </div>\n",
              "  </div>\n",
              "  "
            ]
          },
          "metadata": {},
          "execution_count": 30
        }
      ]
    },
    {
      "cell_type": "markdown",
      "source": [
        "### 2. 이항분포\n",
        "\n",
        "* **성공**에 해당하는 사상이 출현할 확률이 p인 똑같은 베르누이 시행을 독립적으로 n번 반복 시행행하여 일어난 두가지 결과에 의해 그 값이 각각 0,1로 결정되는 확률분포\n",
        "\n",
        "* stats.binom.pmf(성공횟수, n = 실험횟수, p = 성공확률)"
      ],
      "metadata": {
        "id": "351aTgaeAwfL"
      }
    },
    {
      "cell_type": "code",
      "source": [
        "### scipy 이항분포 확률질량함수 계산\n",
        "\n",
        "# 0.3 확률을 갖는 15회의 실험에서 3회 성공할 확률 반환\n",
        "\n",
        "print(\"k = 3, n = 15, p = 0.3의 PMF : \", stats.binom.pmf(k = 3, n = 15, p = 0.3))\n",
        "\n",
        "# # 0.3 확률을 갖는 15회의 실험에서 0-4회 성공할 확률의 누적값 반환\n",
        "\n",
        "print(\"k = 0-4, n = 15, p = 0.3의 PMF : \", stats.binom.cdf(k = 4, n = 15, p = 0.3))"
      ],
      "metadata": {
        "colab": {
          "base_uri": "https://localhost:8080/"
        },
        "id": "jofkJ_9gAvy8",
        "outputId": "4d091f2f-68b5-43ef-e227-a53a3ea49317"
      },
      "execution_count": null,
      "outputs": [
        {
          "output_type": "stream",
          "name": "stdout",
          "text": [
            "k = 3, n = 15, p = 0.3의 PMF :  0.17004021326428578\n",
            "k = 0-4, n = 15, p = 0.3의 PMF :  0.5154910592268429\n"
          ]
        }
      ]
    },
    {
      "cell_type": "code",
      "source": [
        "# p의 확률을 갖는 n회의 시행에서 k회 성공할 확률을 반환하는 함수 생성\n",
        "\n",
        "def bion_dist(k, n, p):\n",
        "  pmf_bion = stats.binom.pmf(k,n,p)\n",
        "  return pmf_bion"
      ],
      "metadata": {
        "id": "_Lgb33j_Bw_j"
      },
      "execution_count": null,
      "outputs": []
    },
    {
      "cell_type": "code",
      "source": [
        "# 0-15 범위 생성: 성공 횟수\n",
        "\n",
        "x = np.arange(0,16)\n",
        "\n",
        "# 확률질량함수의 값 array\n",
        "\n",
        "pdf_result = [bion_dist(k,15,0.3) for k in range(0,16)]\n",
        "\n",
        "# 시각화\n",
        "\n",
        "plt.title(\"확률질량함수\")\n",
        "plt.ylim(0, 0.3)\n",
        "plt.text(12.5, 0.28, \"n, p = 15, 0.3\")\n",
        "plt.bar(x, pdf_result, color = \"mediumaquamarine\")\n",
        "#plt.plot(x, pdf_result, color = \"lightcoral\")\n",
        "plt.show()"
      ],
      "metadata": {
        "colab": {
          "base_uri": "https://localhost:8080/",
          "height": 301
        },
        "id": "CSWrBv17CEqF",
        "outputId": "65dedfb8-59c0-4dff-858a-8e9c43a6e3d7"
      },
      "execution_count": null,
      "outputs": [
        {
          "output_type": "stream",
          "name": "stderr",
          "text": [
            "findfont: Font family ['AppleGothic'] not found. Falling back to DejaVu Sans.\n"
          ]
        },
        {
          "output_type": "display_data",
          "data": {
            "text/plain": [
              "<Figure size 432x288 with 1 Axes>"
            ],
            "image/png": "[encoded data removed]"
          },
          "metadata": {
            "needs_background": "light"
          }
        }
      ]
    },
    {
      "cell_type": "markdown",
      "source": [
        "### 3. 포아송분포\n",
        "\n",
        "* 어떤 단위시간동안 발생한 사건 횟수를 x라고 했을때의 확률분포\n",
        "* stats.poisson.pmf(n = 시행수, lamb = 평균발생수(기대값) )\n",
        "* n회의 사건이 일어날 확률을 반환"
      ],
      "metadata": {
        "id": "-1Egu-WLDMVq"
      }
    },
    {
      "cell_type": "code",
      "source": [
        "# scipy의 포아송 함수\n",
        "# 3번의 시행에서 평균 사건수(2회)에 대한 발생 확률\n",
        "stats.poisson.pmf(3, 2, loc = 0)"
      ],
      "metadata": {
        "colab": {
          "base_uri": "https://localhost:8080/"
        },
        "id": "VvASi-L4DGWb",
        "outputId": "4a24a0b3-d022-4521-a19b-6752f3e4e9ce"
      },
      "execution_count": null,
      "outputs": [
        {
          "output_type": "execute_result",
          "data": {
            "text/plain": [
              "0.18044704431548356"
            ]
          },
          "metadata": {},
          "execution_count": 13
        }
      ]
    },
    {
      "cell_type": "code",
      "source": [
        "# n번의 시행에서 평균 사건 수에 대한 발생 확률 함수\n",
        "\n",
        "def pois_dist(n, lamb):\n",
        "  pmf_poi = stats.poisson.pmf(n, lamb, loc = 0)\n",
        "  return pmf_poi"
      ],
      "metadata": {
        "id": "JzBGf9V3D4Hp"
      },
      "execution_count": null,
      "outputs": []
    },
    {
      "cell_type": "code",
      "source": [
        "# 확률질량함수의 값 array\n",
        "\n",
        "x = np.arange(0,41)\n",
        "poi_pdf_result = [pois_dist(n,10) for n in range(0,41)]\n",
        "\n",
        "# 시각화\n",
        "\n",
        "plt.ylim(0, 0.15)\n",
        "plt.text(33.5, 0.14, \"람다 = 10\")\n",
        "plt.bar(x, poi_pdf_result)\n",
        "plt.show()"
      ],
      "metadata": {
        "colab": {
          "base_uri": "https://localhost:8080/",
          "height": 268
        },
        "id": "7BH4goL-ENsZ",
        "outputId": "c73c6638-2b47-4c07-a048-3694ea32b0a2"
      },
      "execution_count": null,
      "outputs": [
        {
          "output_type": "display_data",
          "data": {
            "text/plain": [
              "<Figure size 432x288 with 1 Axes>"
            ],
            "image/png": "[encoded data removed]"
          },
          "metadata": {
            "needs_background": "light"
          }
        }
      ]
    },
    {
      "cell_type": "code",
      "source": [
        "## 기대값에 따른 포아송분포 차이 확인\n",
        "\n",
        "x = np.arange(0,41)\n",
        "\n",
        "fig = plt.figure(figsize = (10,10))\n",
        "\n",
        "fig.add_subplot(3,1,1)\n",
        "pmf_poin1 = np.array([pois_dist(n,10) for n in range(0,41)])\n",
        "plt.ylim(0,0.15)\n",
        "plt.text(33.5, 0.12, \"람다 = 10\")\n",
        "plt.bar(x, pmf_poin1, color= \"lightcoral\")\n",
        "\n",
        "fig.add_subplot(3,1,2)\n",
        "pmf_poin1 = np.array([pois_dist(n,15) for n in range(0,41)])\n",
        "plt.ylim(0,0.15)\n",
        "plt.text(33.5, 0.12, \"람다 = 15\")\n",
        "plt.bar(x, pmf_poin1, color= \"mediumaquamarine\")\n",
        "\n",
        "fig.add_subplot(3,1,3)\n",
        "pmf_poin1 = np.array([pois_dist(n,20) for n in range(0,41)])\n",
        "plt.ylim(0,0.15)\n",
        "plt.text(33.5, 0.12, \"람다 = 20\")\n",
        "plt.bar(x, pmf_poin1, color= \"royalblue\")"
      ],
      "metadata": {
        "colab": {
          "base_uri": "https://localhost:8080/",
          "height": 615
        },
        "id": "gLbxq4NNEyag",
        "outputId": "7902cabb-ae0c-411c-82ad-dcc75e8b08de"
      },
      "execution_count": null,
      "outputs": [
        {
          "output_type": "execute_result",
          "data": {
            "text/plain": [
              "<BarContainer object of 41 artists>"
            ]
          },
          "metadata": {},
          "execution_count": 20
        },
        {
          "output_type": "display_data",
          "data": {
            "text/plain": [
              "<Figure size 720x720 with 3 Axes>"
            ],
            "image/png": "[encoded data removed]"
          },
          "metadata": {
            "needs_background": "light"
          }
        }
      ]
    }
  ]
}