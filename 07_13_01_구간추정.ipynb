{
  "nbformat": 4,
  "nbformat_minor": 0,
  "metadata": {
    "colab": {
      "provenance": [],
      "authorship_tag": "ABX9TyOdr0QIApnWt2VumUf1z2om",
      "include_colab_link": true
    },
    "kernelspec": {
      "name": "python3",
      "display_name": "Python 3"
    },
    "language_info": {
      "name": "python"
    }
  },
  "cells": [
    {
      "cell_type": "markdown",
      "metadata": {
        "id": "view-in-github",
        "colab_type": "text"
      },
      "source": [
        "<a href=\"https://colab.research.google.com/github/chanseongparkk/2022_Data_Analysis_Intern_practice/blob/main/07_13_01_%EA%B5%AC%EA%B0%84%EC%B6%94%EC%A0%95.ipynb\" target=\"_parent\"><img src=\"https://colab.research.google.com/assets/colab-badge.svg\" alt=\"Open In Colab\"/></a>"
      ]
    },
    {
      "cell_type": "markdown",
      "source": [
        "### 1. 모평균의 신뢰구간 추정\n",
        "샘플 수 < 30, t-통계량 이용"
      ],
      "metadata": {
        "id": "WSWSPlv86UkZ"
      }
    },
    {
      "cell_type": "code",
      "source": [
        "# 패키지 임포트\n",
        "import pandas as pd\n",
        "import numpy as np\n",
        "from scipy import stats\n",
        "import math\n",
        "\n",
        "import matplotlib.pyplot as plt\n",
        "import seaborn as sns\n",
        "%matplotlib inline\n",
        "\n",
        "\n",
        "# os에 따른 font 깨짐 제거를 위해 font 지정\n",
        "\n",
        "import os\n",
        "\n",
        "if os.name == \"nt\":\n",
        "    font_family = \"Malgun Gothic\"\n",
        "else: #mac os\n",
        "    font_family = \"AppleGothic\"\n",
        "    \n",
        "# - 값이 깨지는 문제 해결을 위해 파라미터값 설정\n",
        "\n",
        "sns.set(font = font_family, rc = {\"axes.unicode_minus\" : False})\n",
        "\n",
        "import warnings\n",
        "warnings.filterwarnings(\"ignore\")"
      ],
      "metadata": {
        "id": "xte06DmX7EFn"
      },
      "execution_count": null,
      "outputs": []
    },
    {
      "cell_type": "code",
      "source": [
        "np.random.seed(100)\n",
        "\n",
        "math_score = pd.DataFrame(np.random.randint(25, 101, size = 500),columns = [\"점수\"])"
      ],
      "metadata": {
        "id": "MMdlgYgD7Y1A"
      },
      "execution_count": null,
      "outputs": []
    },
    {
      "cell_type": "code",
      "source": [
        "# 데이터 확인\n",
        "\n",
        "scores = np.array(math_score.점수)\n",
        "scores[:5]"
      ],
      "metadata": {
        "colab": {
          "base_uri": "https://localhost:8080/"
        },
        "id": "qg8g3KqZ7fcG",
        "outputId": "fb9af061-dc1f-40db-f891-8f4162d58ce7"
      },
      "execution_count": null,
      "outputs": [
        {
          "output_type": "execute_result",
          "data": {
            "text/plain": [
              "array([33, 49, 92, 73, 35])"
            ]
          },
          "metadata": {},
          "execution_count": 6
        }
      ]
    },
    {
      "cell_type": "code",
      "source": [
        "# 20개 샘플 추출(복원추출)\n",
        "\n",
        "sample = np.random.choice(scores, 20)"
      ],
      "metadata": {
        "id": "hrz345wF7cC-"
      },
      "execution_count": null,
      "outputs": []
    },
    {
      "cell_type": "code",
      "source": [
        "# 20개의 표본 100번 추출\n",
        "\n",
        "n = 20\n",
        "nSample = 100\n",
        "\n",
        "sample_mean = np.array([np.random.choice(scores,n,i).mean() for i in range(nSample)])"
      ],
      "metadata": {
        "id": "19-Twrcs6_kn"
      },
      "execution_count": null,
      "outputs": []
    },
    {
      "cell_type": "code",
      "execution_count": null,
      "metadata": {
        "id": "97NCgfdU18B7",
        "colab": {
          "base_uri": "https://localhost:8080/"
        },
        "outputId": "40220a76-de11-4e27-e49d-e3087c096c68"
      },
      "outputs": [
        {
          "output_type": "execute_result",
          "data": {
            "text/plain": [
              "2.093024054408263"
            ]
          },
          "metadata": {},
          "execution_count": 1
        }
      ],
      "source": [
        "from scipy.stats import t\n",
        "\n",
        "t_95 = t.ppf(1 - (1 - 0.95) / 2, df = 19)\n",
        "\n",
        "t_95"
      ]
    },
    {
      "cell_type": "code",
      "source": [
        "# 20개의 표본 100개 추출\n",
        "# 95% 신뢰구간 추정: t통계량 2.093\n",
        "\n",
        "sMean = sample_mean.mean()\n",
        "sStd = sample_mean.std()\n",
        "\n",
        "Low_c = sMean - t_95 * (sStd / math.sqrt(n))\n",
        "Upper_c = sMean + t_95 * (sStd / math.sqrt(n))\n",
        "\n",
        "print(Low_c)\n",
        "print(Upper_c)\n",
        "\n",
        "# 모평균의 95% 신뢰구간은 약 59.4 ~ 64.0점이다(추정값)\n",
        "\n",
        "print(\"신뢰구간 :\", round(Low_c,3), \"~\",  round(Upper_c,3))"
      ],
      "metadata": {
        "colab": {
          "base_uri": "https://localhost:8080/"
        },
        "id": "CHxPUQ-A6q2g",
        "outputId": "f4956173-1d94-42dd-d055-5172088bd1fa"
      },
      "execution_count": null,
      "outputs": [
        {
          "output_type": "stream",
          "name": "stdout",
          "text": [
            "59.36743544301041\n",
            "64.03456455698958\n",
            "신뢰구간 : 59.367 ~ 64.035\n"
          ]
        }
      ]
    },
    {
      "cell_type": "markdown",
      "source": [
        "### 2. 모평균의 신뢰구간 추정\n",
        "\n",
        "샘플 수 >= 30, Z-통계량"
      ],
      "metadata": {
        "id": "KW0hJhJz8aPf"
      }
    },
    {
      "cell_type": "code",
      "source": [
        "# 30개의 표본 1개 추출\n",
        "# 95% 신뢰구간 추정: z통계량 1.96\n",
        "\n",
        "z_n = 30\n",
        "sample1 = np.random.choice(scores, z_n)\n",
        "z_sMean = sample1.mean()\n",
        "z_sStd = sample1.std()\n",
        "\n",
        "print('모평균 : ', scores.mean())\n",
        "print('표본평균 : ', z_sMean)\n",
        "print('모편차 : ', scores.std())\n",
        "print('표본편차 : ', z_sStd)"
      ],
      "metadata": {
        "colab": {
          "base_uri": "https://localhost:8080/"
        },
        "id": "fh73HIKk8TSf",
        "outputId": "448045ae-8b28-4550-83a4-0b37e0a4eefa"
      },
      "execution_count": null,
      "outputs": [
        {
          "output_type": "stream",
          "name": "stdout",
          "text": [
            "모평균 :  61.58\n",
            "표본평균 :  62.3\n",
            "모편차 :  21.491849617936563\n",
            "표본편차 :  21.75492281454169\n"
          ]
        }
      ]
    },
    {
      "cell_type": "code",
      "source": [
        "# 임계값\n",
        "z_95 = stats.norm.ppf(1 - (1 - 0.95) / 2) #양측검정\n",
        "# stats.norm.ppf(0.95) #단측검정\n",
        "\n",
        "print(z_95)"
      ],
      "metadata": {
        "colab": {
          "base_uri": "https://localhost:8080/"
        },
        "id": "4RytrDmp9SXv",
        "outputId": "87d8a49e-e7b3-4eab-fd03-3da7923f8da4"
      },
      "execution_count": null,
      "outputs": [
        {
          "output_type": "stream",
          "name": "stdout",
          "text": [
            "1.959963984540054\n"
          ]
        }
      ]
    },
    {
      "cell_type": "code",
      "source": [
        "L_value_1 = round(z_sMean - z_95 * (scores.std() / math.sqrt(z_n)),2)\n",
        "U_value_1 = round(z_sMean + z_95 * (scores.std() / math.sqrt(z_n)),2)\n",
        "print(L_value_1)\n",
        "print(U_value_1)\n",
        "\n",
        "print(\"신뢰구간 : \", L_value_1, \"~\", U_value_1)"
      ],
      "metadata": {
        "colab": {
          "base_uri": "https://localhost:8080/"
        },
        "id": "hq2uoPPP9lQX",
        "outputId": "eba9d95c-dafb-4c2c-a476-4a208692688e"
      },
      "execution_count": null,
      "outputs": [
        {
          "output_type": "stream",
          "name": "stdout",
          "text": [
            "54.61\n",
            "69.99\n",
            "신뢰구간 :  54.61 ~ 69.99\n"
          ]
        }
      ]
    },
    {
      "cell_type": "markdown",
      "source": [
        "### 3. 예제\n",
        "* 어느 고등학교 남학생 49명의 제자리에서 멀리뛰기 기록은 평균이 205cm, 표준편차가 5cm이었다. 이 학교 남학생들의 제자리 멀리뛰기 기록에 대한 모평균 m의 95% 신뢰구간을 구하라"
      ],
      "metadata": {
        "id": "i7Pa7j_6-P1m"
      }
    },
    {
      "cell_type": "code",
      "source": [
        "# 모평균, 모표준편차, 표본 수\n",
        "\n",
        "mStd = 5\n",
        "mMean = 205\n",
        "n = 49\n",
        "\n",
        "# z통계량 : 1.96\n",
        "\n",
        "z_95_1 = stats.norm.ppf(1 - (1 - 0.95) / 2) # 신뢰구간\n",
        "\n",
        "# 신뢰구간 계산\n",
        "\n",
        "L_value = round(mMean - z_95_1 * (mStd / math.sqrt(n)), 2)\n",
        "U_value = round(mMean + z_95_1 * (mStd / math.sqrt(n)), 2)\n",
        "\n",
        "print(\"신뢰구간 : \", L_value, \"~\", U_value)\n",
        "print(\"신뢰구간범위 : \", round(U_value - L_value, 3)) \n",
        "\n",
        "print(\"{} < {} < {}\".format(L_value, mMean, U_value))"
      ],
      "metadata": {
        "colab": {
          "base_uri": "https://localhost:8080/"
        },
        "id": "dj36n4xP-PbY",
        "outputId": "4a9e62a5-12ba-4bcb-e791-abf5ddda6a63"
      },
      "execution_count": null,
      "outputs": [
        {
          "output_type": "stream",
          "name": "stdout",
          "text": [
            "신뢰구간 :  203.6 ~ 206.4\n",
            "신뢰구간범위 :  2.8\n",
            "203.6 < 205 < 206.4\n"
          ]
        }
      ]
    },
    {
      "cell_type": "code",
      "source": [
        "# 시각화\n",
        "\n",
        "standard_norm = stats.norm(205, 5)\n",
        "\n",
        "x = np.linspace(130, 280, 100)\n",
        "\n",
        "plt.vlines(L_value, 0 ,standard_norm.pdf(L_value), color = \"b\")\n",
        "plt.vlines(U_value, 0 ,standard_norm.pdf(L_value), color = \"b\")\n",
        "plt.plot(x, standard_norm.pdf(x), \"b--\", lw = 2, alpha = 0.6, label = 'norm pdf')\n",
        "\n",
        "plt.title('신뢰구간 시각화')\n",
        "plt.legend()\n",
        "plt.show()"
      ],
      "metadata": {
        "colab": {
          "base_uri": "https://localhost:8080/",
          "height": 284
        },
        "id": "rrY8C6ct_Tso",
        "outputId": "6cc6b637-a93b-460f-914f-7a9683cb84d3"
      },
      "execution_count": null,
      "outputs": [
        {
          "output_type": "display_data",
          "data": {
            "text/plain": [
              "<Figure size 432x288 with 1 Axes>"
            ],
            "image/png": "[encoded data removed]"
          },
          "metadata": {}
        }
      ]
    }
  ]
}