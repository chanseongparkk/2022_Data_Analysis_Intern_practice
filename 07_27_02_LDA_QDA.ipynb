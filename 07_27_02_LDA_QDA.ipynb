{
  "nbformat": 4,
  "nbformat_minor": 0,
  "metadata": {
    "colab": {
      "provenance": [],
      "authorship_tag": "ABX9TyMhIUrkx2LeNVEY7I7bdL5t",
      "include_colab_link": true
    },
    "kernelspec": {
      "name": "python3",
      "display_name": "Python 3"
    },
    "language_info": {
      "name": "python"
    }
  },
  "cells": [
    {
      "cell_type": "markdown",
      "metadata": {
        "id": "view-in-github",
        "colab_type": "text"
      },
      "source": [
        "<a href=\"https://colab.research.google.com/github/chanseongparkk/2022_Data_Analysis_Intern_practice/blob/main/07_27_02_LDA_QDA.ipynb\" target=\"_parent\"><img src=\"https://colab.research.google.com/assets/colab-badge.svg\" alt=\"Open In Colab\"/></a>"
      ]
    },
    {
      "cell_type": "code",
      "execution_count": null,
      "metadata": {
        "id": "VSUH0EpJ2ONd"
      },
      "outputs": [],
      "source": [
        "# 패키지 임포트\n",
        "import os\n",
        "import warnings\n",
        "# FutureWarning 제거\n",
        "warnings.simplefilter(action='ignore', category=FutureWarning) \n",
        "import pandas as pd # pandas package\n",
        "import numpy as np # numpy package \n",
        "import scipy as sp # Scipy Package \n",
        "from scipy import stats # Scipy Package \n",
        "from sklearn import datasets # sklearn dataset \n",
        "from sklearn.model_selection import train_test_split # 데이터셋 분리\n",
        "# 시각화 패키지\n",
        "import matplotlib.pyplot as plt # matplotlib 시각화 패키지\n",
        "import seaborn as sns\n",
        "%matplotlib inline\n",
        "# os에 따른 Font 깨짐 제거를 위해 Font 지정\n",
        "import os\n",
        "if os.name == 'nt' : # Windows OS \n",
        " font_family = \"Malgun Gothic\"\n",
        "else: # MAC OS \n",
        " font_family = \"AppleGothic\"\n",
        "# - 값이 깨지는 문제 해결을 위해 파라미터값 설정\n",
        "sns.set(font=font_family, rc ={\"axes.unicode_minus\" : False})"
      ]
    },
    {
      "cell_type": "markdown",
      "source": [
        "### LDA"
      ],
      "metadata": {
        "id": "cf8InROu30d0"
      }
    },
    {
      "cell_type": "code",
      "source": [
        "## dataset load\n",
        "from sklearn import datasets\n",
        "\n",
        "data = datasets.load_iris()\n",
        "\n",
        "t_input_data = data.data\n",
        "\n",
        "target_data = data.target\n",
        "\n",
        "flowers = data.target_names"
      ],
      "metadata": {
        "id": "TftT4uz13K99"
      },
      "execution_count": null,
      "outputs": []
    },
    {
      "cell_type": "code",
      "source": [
        "feature_names = data.feature_names\n",
        "\n",
        "iris_df = pd.DataFrame(t_input_data, columns = feature_names)\n",
        "iris_df[\"species\"] = target_data\n",
        "\n",
        "iris_df.head()"
      ],
      "metadata": {
        "colab": {
          "base_uri": "https://localhost:8080/",
          "height": 206
        },
        "id": "RNTn-f223yHc",
        "outputId": "c9309ec0-9503-4436-9e63-5d962e242c77"
      },
      "execution_count": null,
      "outputs": [
        {
          "output_type": "execute_result",
          "data": {
            "text/plain": [
              "   sepal length (cm)  sepal width (cm)  petal length (cm)  petal width (cm)  \\\n",
              "0                5.1               3.5                1.4               0.2   \n",
              "1                4.9               3.0                1.4               0.2   \n",
              "2                4.7               3.2                1.3               0.2   \n",
              "3                4.6               3.1                1.5               0.2   \n",
              "4                5.0               3.6                1.4               0.2   \n",
              "\n",
              "   species  \n",
              "0        0  \n",
              "1        0  \n",
              "2        0  \n",
              "3        0  \n",
              "4        0  "
            ],
            "text/html": [
              "\n",
              "  <div id=\"df-5db9dff3-9cca-4bad-a1cc-fa344bb3e6a1\">\n",
              "    <div class=\"colab-df-container\">\n",
              "      <div>\n",
              "<style scoped>\n",
              "    .dataframe tbody tr th:only-of-type {\n",
              "        vertical-align: middle;\n",
              "    }\n",
              "\n",
              "    .dataframe tbody tr th {\n",
              "        vertical-align: top;\n",
              "    }\n",
              "\n",
              "    .dataframe thead th {\n",
              "        text-align: right;\n",
              "    }\n",
              "</style>\n",
              "<table border=\"1\" class=\"dataframe\">\n",
              "  <thead>\n",
              "    <tr style=\"text-align: right;\">\n",
              "      <th></th>\n",
              "      <th>sepal length (cm)</th>\n",
              "      <th>sepal width (cm)</th>\n",
              "      <th>petal length (cm)</th>\n",
              "      <th>petal width (cm)</th>\n",
              "      <th>species</th>\n",
              "    </tr>\n",
              "  </thead>\n",
              "  <tbody>\n",
              "    <tr>\n",
              "      <th>0</th>\n",
              "      <td>5.1</td>\n",
              "      <td>3.5</td>\n",
              "      <td>1.4</td>\n",
              "      <td>0.2</td>\n",
              "      <td>0</td>\n",
              "    </tr>\n",
              "    <tr>\n",
              "      <th>1</th>\n",
              "      <td>4.9</td>\n",
              "      <td>3.0</td>\n",
              "      <td>1.4</td>\n",
              "      <td>0.2</td>\n",
              "      <td>0</td>\n",
              "    </tr>\n",
              "    <tr>\n",
              "      <th>2</th>\n",
              "      <td>4.7</td>\n",
              "      <td>3.2</td>\n",
              "      <td>1.3</td>\n",
              "      <td>0.2</td>\n",
              "      <td>0</td>\n",
              "    </tr>\n",
              "    <tr>\n",
              "      <th>3</th>\n",
              "      <td>4.6</td>\n",
              "      <td>3.1</td>\n",
              "      <td>1.5</td>\n",
              "      <td>0.2</td>\n",
              "      <td>0</td>\n",
              "    </tr>\n",
              "    <tr>\n",
              "      <th>4</th>\n",
              "      <td>5.0</td>\n",
              "      <td>3.6</td>\n",
              "      <td>1.4</td>\n",
              "      <td>0.2</td>\n",
              "      <td>0</td>\n",
              "    </tr>\n",
              "  </tbody>\n",
              "</table>\n",
              "</div>\n",
              "      <button class=\"colab-df-convert\" onclick=\"convertToInteractive('df-5db9dff3-9cca-4bad-a1cc-fa344bb3e6a1')\"\n",
              "              title=\"Convert this dataframe to an interactive table.\"\n",
              "              style=\"display:none;\">\n",
              "        \n",
              "  <svg xmlns=\"http://www.w3.org/2000/svg\" height=\"24px\"viewBox=\"0 0 24 24\"\n",
              "       width=\"24px\">\n",
              "    <path d=\"M0 0h24v24H0V0z\" fill=\"none\"/>\n",
              "    <path d=\"M18.56 5.44l.94 2.06.94-2.06 2.06-.94-2.06-.94-.94-2.06-.94 2.06-2.06.94zm-11 1L8.5 8.5l.94-2.06 2.06-.94-2.06-.94L8.5 2.5l-.94 2.06-2.06.94zm10 10l.94 2.06.94-2.06 2.06-.94-2.06-.94-.94-2.06-.94 2.06-2.06.94z\"/><path d=\"M17.41 7.96l-1.37-1.37c-.4-.4-.92-.59-1.43-.59-.52 0-1.04.2-1.43.59L10.3 9.45l-7.72 7.72c-.78.78-.78 2.05 0 2.83L4 21.41c.39.39.9.59 1.41.59.51 0 1.02-.2 1.41-.59l7.78-7.78 2.81-2.81c.8-.78.8-2.07 0-2.86zM5.41 20L4 18.59l7.72-7.72 1.47 1.35L5.41 20z\"/>\n",
              "  </svg>\n",
              "      </button>\n",
              "      \n",
              "  <style>\n",
              "    .colab-df-container {\n",
              "      display:flex;\n",
              "      flex-wrap:wrap;\n",
              "      gap: 12px;\n",
              "    }\n",
              "\n",
              "    .colab-df-convert {\n",
              "      background-color: #E8F0FE;\n",
              "      border: none;\n",
              "      border-radius: 50%;\n",
              "      cursor: pointer;\n",
              "      display: none;\n",
              "      fill: #1967D2;\n",
              "      height: 32px;\n",
              "      padding: 0 0 0 0;\n",
              "      width: 32px;\n",
              "    }\n",
              "\n",
              "    .colab-df-convert:hover {\n",
              "      background-color: #E2EBFA;\n",
              "      box-shadow: 0px 1px 2px rgba(60, 64, 67, 0.3), 0px 1px 3px 1px rgba(60, 64, 67, 0.15);\n",
              "      fill: #174EA6;\n",
              "    }\n",
              "\n",
              "    [theme=dark] .colab-df-convert {\n",
              "      background-color: #3B4455;\n",
              "      fill: #D2E3FC;\n",
              "    }\n",
              "\n",
              "    [theme=dark] .colab-df-convert:hover {\n",
              "      background-color: #434B5C;\n",
              "      box-shadow: 0px 1px 3px 1px rgba(0, 0, 0, 0.15);\n",
              "      filter: drop-shadow(0px 1px 2px rgba(0, 0, 0, 0.3));\n",
              "      fill: #FFFFFF;\n",
              "    }\n",
              "  </style>\n",
              "\n",
              "      <script>\n",
              "        const buttonEl =\n",
              "          document.querySelector('#df-5db9dff3-9cca-4bad-a1cc-fa344bb3e6a1 button.colab-df-convert');\n",
              "        buttonEl.style.display =\n",
              "          google.colab.kernel.accessAllowed ? 'block' : 'none';\n",
              "\n",
              "        async function convertToInteractive(key) {\n",
              "          const element = document.querySelector('#df-5db9dff3-9cca-4bad-a1cc-fa344bb3e6a1');\n",
              "          const dataTable =\n",
              "            await google.colab.kernel.invokeFunction('convertToInteractive',\n",
              "                                                     [key], {});\n",
              "          if (!dataTable) return;\n",
              "\n",
              "          const docLinkHtml = 'Like what you see? Visit the ' +\n",
              "            '<a target=\"_blank\" href=https://colab.research.google.com/notebooks/data_table.ipynb>data table notebook</a>'\n",
              "            + ' to learn more about interactive tables.';\n",
              "          element.innerHTML = '';\n",
              "          dataTable['output_type'] = 'display_data';\n",
              "          await google.colab.output.renderOutput(dataTable, element);\n",
              "          const docLink = document.createElement('div');\n",
              "          docLink.innerHTML = docLinkHtml;\n",
              "          element.appendChild(docLink);\n",
              "        }\n",
              "      </script>\n",
              "    </div>\n",
              "  </div>\n",
              "  "
            ]
          },
          "metadata": {},
          "execution_count": 5
        }
      ]
    },
    {
      "cell_type": "code",
      "source": [
        "# train test split\n",
        "\n",
        "input_data = t_input_data[:,:3]\n",
        "train_input, test_input, train_target, test_target = train_test_split(input_data, target_data,\n",
        "                                                                      test_size = 0.1, random_state = 1)"
      ],
      "metadata": {
        "id": "9X_18-z04M8E"
      },
      "execution_count": null,
      "outputs": []
    },
    {
      "cell_type": "code",
      "source": [
        "# LDA library\n",
        "\n",
        "from sklearn.discriminant_analysis import LinearDiscriminantAnalysis\n",
        "\n",
        "# train LDA\n",
        "\n",
        "lda = LinearDiscriminantAnalysis(store_covariance = True).fit(train_input, train_target) # 공분산 저장"
      ],
      "metadata": {
        "id": "f8AR4N164p_l"
      },
      "execution_count": null,
      "outputs": []
    },
    {
      "cell_type": "code",
      "source": [
        "#수행 후 3개의 차원이 2개로 줄어든 것을 확인\n",
        "print(train_input.shape)\n",
        "l_trans = lda.transform(train_input)\n",
        "l_trans.shape"
      ],
      "metadata": {
        "colab": {
          "base_uri": "https://localhost:8080/"
        },
        "id": "m-I92BN25Dt0",
        "outputId": "4819e8e6-8c50-497c-de7a-6145306f637b"
      },
      "execution_count": null,
      "outputs": [
        {
          "output_type": "stream",
          "name": "stdout",
          "text": [
            "(135, 3)\n"
          ]
        },
        {
          "output_type": "execute_result",
          "data": {
            "text/plain": [
              "(135, 2)"
            ]
          },
          "metadata": {},
          "execution_count": 8
        }
      ]
    },
    {
      "cell_type": "code",
      "source": [
        "## 시각화\n",
        "lda_columns=['lda_component_1','lda_component_2']\n",
        "irisDF_lda = pd.DataFrame(l_trans, columns=lda_columns)\n",
        "irisDF_lda['target']=train_target\n",
        "# print(l_transf)\n",
        "# setosa는 세모, versicolor는 네모, virginica는 동그라미로 표현\n",
        "markers=['^', 's', 'o']\n",
        "for i, marker in enumerate(markers):\n",
        " x_axis_data = irisDF_lda[irisDF_lda['target']==i]['lda_component_1']\n",
        " y_axis_data = irisDF_lda[irisDF_lda['target']==i]['lda_component_2']\n",
        "plt.scatter(x_axis_data, y_axis_data, marker=marker,label=data.target_names[i])\n",
        "plt.legend(loc='upper right')\n",
        "plt.xlabel('lda_component_1')\n",
        "plt.ylabel('lda_component_2')\n",
        "plt.show()"
      ],
      "metadata": {
        "colab": {
          "base_uri": "https://localhost:8080/",
          "height": 340
        },
        "id": "-BMS3X_w5mGN",
        "outputId": "43ad0a7d-3d08-4056-a2d8-4ff049c51297"
      },
      "execution_count": null,
      "outputs": [
        {
          "output_type": "stream",
          "name": "stderr",
          "text": [
            "WARNING:matplotlib.font_manager:findfont: Font family ['AppleGothic'] not found. Falling back to DejaVu Sans.\n",
            "WARNING:matplotlib.font_manager:findfont: Font family ['AppleGothic'] not found. Falling back to DejaVu Sans.\n"
          ]
        },
        {
          "output_type": "display_data",
          "data": {
            "text/plain": [
              "<Figure size 432x288 with 1 Axes>"
            ],
            "image/png": "[encoded data removed]"
          },
          "metadata": {
            "needs_background": "light"
          }
        }
      ]
    },
    {
      "cell_type": "code",
      "source": [
        "## test data prediction\n",
        "l_pred = lda.predict(test_input)\n",
        "l_pred"
      ],
      "metadata": {
        "colab": {
          "base_uri": "https://localhost:8080/"
        },
        "id": "37nmH5Et53Nc",
        "outputId": "ed80d5ab-f6c9-4052-e8c2-4b41f26d3ebd"
      },
      "execution_count": null,
      "outputs": [
        {
          "output_type": "execute_result",
          "data": {
            "text/plain": [
              "array([0, 1, 1, 0, 2, 1, 1, 0, 0, 2, 1, 0, 2, 1, 1])"
            ]
          },
          "metadata": {},
          "execution_count": 13
        }
      ]
    },
    {
      "cell_type": "code",
      "source": [
        "## test data accuracy \n",
        "print(lda.score(test_input, test_target),\"\\n\")\n",
        "\n",
        "# 특정값 예측 결과 확인\n",
        "print(test_input[:5])\n",
        "print(test_target[:5])\n",
        "print(lda.predict(test_input[:5]))\n",
        "print(lda.predict_proba(test_input)[:5])"
      ],
      "metadata": {
        "colab": {
          "base_uri": "https://localhost:8080/"
        },
        "id": "WGRmjVbc5_e0",
        "outputId": "3b5b6f21-a8be-4d6f-bd0a-7f7e533abcb9"
      },
      "execution_count": null,
      "outputs": [
        {
          "output_type": "stream",
          "name": "stdout",
          "text": [
            "0.9333333333333333 \n",
            "\n",
            "[[5.8 4.  1.2]\n",
            " [5.1 2.5 3. ]\n",
            " [6.6 3.  4.4]\n",
            " [5.4 3.9 1.3]\n",
            " [7.9 3.8 6.4]]\n",
            "[0 1 1 0 2]\n",
            "[0 1 1 0 2]\n",
            "[[1.00000000e+00 1.00916754e-28 5.63950656e-47]\n",
            " [4.33772101e-07 9.99999514e-01 5.25284715e-08]\n",
            " [6.28716857e-15 9.99682837e-01 3.17162767e-04]\n",
            " [1.00000000e+00 9.84799614e-25 1.72284295e-41]\n",
            " [2.06902324e-34 1.01924266e-04 9.99898076e-01]]\n"
          ]
        }
      ]
    },
    {
      "cell_type": "code",
      "source": [
        "## 성능평가, 혼동행렬\n",
        "from sklearn.metrics import confusion_matrix\n",
        "confusion_matrix(test_target, l_pred)"
      ],
      "metadata": {
        "colab": {
          "base_uri": "https://localhost:8080/"
        },
        "id": "Xy8AY51a63oV",
        "outputId": "ad97da30-8b20-42b0-a633-9cc838a1ce46"
      },
      "execution_count": null,
      "outputs": [
        {
          "output_type": "execute_result",
          "data": {
            "text/plain": [
              "array([[5, 0, 0],\n",
              "       [0, 6, 0],\n",
              "       [0, 1, 3]])"
            ]
          },
          "metadata": {},
          "execution_count": 19
        }
      ]
    },
    {
      "cell_type": "code",
      "source": [
        "# 사전 확률\n",
        "lda.priors_"
      ],
      "metadata": {
        "colab": {
          "base_uri": "https://localhost:8080/"
        },
        "id": "lF64x7im7Cvt",
        "outputId": "d0b3c419-1de0-45d1-a3e0-de6b438d1cb9"
      },
      "execution_count": null,
      "outputs": [
        {
          "output_type": "execute_result",
          "data": {
            "text/plain": [
              "array([0.33333333, 0.32592593, 0.34074074])"
            ]
          },
          "metadata": {},
          "execution_count": 21
        }
      ]
    },
    {
      "cell_type": "code",
      "source": [
        "# 클래스별 평균\n",
        "lda.means_"
      ],
      "metadata": {
        "colab": {
          "base_uri": "https://localhost:8080/"
        },
        "id": "Of4JHQ3d7JLu",
        "outputId": "3aa06c2e-632b-462a-d30a-da8a563ee15c"
      },
      "execution_count": null,
      "outputs": [
        {
          "output_type": "execute_result",
          "data": {
            "text/plain": [
              "array([[4.97555556, 3.39111111, 1.45333333],\n",
              "       [5.92727273, 2.74772727, 4.26590909],\n",
              "       [6.53478261, 2.94782609, 5.5326087 ]])"
            ]
          },
          "metadata": {},
          "execution_count": 23
        }
      ]
    },
    {
      "cell_type": "code",
      "source": [
        "# 독립변수 공분산\n",
        "lda.covariance_"
      ],
      "metadata": {
        "colab": {
          "base_uri": "https://localhost:8080/"
        },
        "id": "AGcstdBC7OyN",
        "outputId": "dfff7cb8-a534-4f51-a459-320e905efddc"
      },
      "execution_count": null,
      "outputs": [
        {
          "output_type": "execute_result",
          "data": {
            "text/plain": [
              "array([[0.25151653, 0.07826984, 0.16368446],\n",
              "       [0.07826984, 0.10756296, 0.04919396],\n",
              "       [0.16368446, 0.04919396, 0.17668112]])"
            ]
          },
          "metadata": {},
          "execution_count": 24
        }
      ]
    },
    {
      "cell_type": "code",
      "source": [
        "## 분류 리포트\n",
        "from sklearn.metrics import classification_report\n",
        "\n",
        "print(classification_report(test_target, l_pred))"
      ],
      "metadata": {
        "colab": {
          "base_uri": "https://localhost:8080/"
        },
        "id": "oXEj8Oje7XmE",
        "outputId": "dbdde6dd-fedb-4849-e7a6-26a3a179702b"
      },
      "execution_count": null,
      "outputs": [
        {
          "output_type": "stream",
          "name": "stdout",
          "text": [
            "              precision    recall  f1-score   support\n",
            "\n",
            "           0       1.00      1.00      1.00         5\n",
            "           1       0.86      1.00      0.92         6\n",
            "           2       1.00      0.75      0.86         4\n",
            "\n",
            "    accuracy                           0.93        15\n",
            "   macro avg       0.95      0.92      0.93        15\n",
            "weighted avg       0.94      0.93      0.93        15\n",
            "\n"
          ]
        }
      ]
    },
    {
      "cell_type": "code",
      "source": [
        "# ROC curve\n",
        "\n",
        "from sklearn.preprocessing import label_binarize\n",
        "\n",
        "lda_train_vec = label_binarize(train_target, classes = [0, 1, 2])\n",
        "\n",
        "from sklearn.metrics import roc_curve\n",
        "\n",
        "for i in range(3):\n",
        "  lda = LinearDiscriminantAnalysis().fit(train_input, lda_train_vec[:,i])\n",
        "  fpr, tpr, thr = roc_curve(lda_train_vec[:,i],lda.predict_proba(train_input)[:,1])\n",
        "  plt.plot(fpr,tpr)\n",
        "\n",
        "plt.show()"
      ],
      "metadata": {
        "colab": {
          "base_uri": "https://localhost:8080/",
          "height": 268
        },
        "id": "FFcC1xDa7hdV",
        "outputId": "f066c0a9-6d25-464e-c528-2ccb016a4748"
      },
      "execution_count": null,
      "outputs": [
        {
          "output_type": "display_data",
          "data": {
            "text/plain": [
              "<Figure size 432x288 with 1 Axes>"
            ],
            "image/png": "[encoded data removed]"
          },
          "metadata": {
            "needs_background": "light"
          }
        }
      ]
    },
    {
      "cell_type": "markdown",
      "source": [
        "### QDA"
      ],
      "metadata": {
        "id": "d2F6zXjl8Mc8"
      }
    },
    {
      "cell_type": "code",
      "source": [
        "### QDA import\n",
        "\n",
        "from sklearn.discriminant_analysis import QuadraticDiscriminantAnalysis\n",
        "\n",
        "# QDA train\n",
        "qda = QuadraticDiscriminantAnalysis(store_covariance=True).fit(train_input, train_target)\n",
        "\n",
        "# predict\n",
        "y2_pred = qda.predict(test_input)"
      ],
      "metadata": {
        "id": "LzgNcsQs8LfF"
      },
      "execution_count": null,
      "outputs": []
    },
    {
      "cell_type": "code",
      "source": [
        "# 결과 측정\n",
        "print(qda.score(test_input, test_target))\n",
        "\n",
        "print(test_input[:5])\n",
        "print(test_target[:5])\n",
        "print(qda.predict(test_input[:5]))\n",
        "print(qda.predict_proba(test_input)[:5])"
      ],
      "metadata": {
        "colab": {
          "base_uri": "https://localhost:8080/"
        },
        "id": "LctUOywo8qMG",
        "outputId": "16077e89-84f4-49de-f30a-8ba8432d7f56"
      },
      "execution_count": null,
      "outputs": [
        {
          "output_type": "stream",
          "name": "stdout",
          "text": [
            "0.9333333333333333\n",
            "[[5.8 4.  1.2]\n",
            " [5.1 2.5 3. ]\n",
            " [6.6 3.  4.4]\n",
            " [5.4 3.9 1.3]\n",
            " [7.9 3.8 6.4]]\n",
            "[0 1 1 0 2]\n",
            "[0 1 1 0 2]\n",
            "[[1.00000000e+000 1.47416908e-033 1.80019547e-046]\n",
            " [1.28636834e-023 9.99995490e-001 4.51028882e-006]\n",
            " [8.80326122e-080 9.99774984e-001 2.25016220e-004]\n",
            " [1.00000000e+000 5.08491425e-030 7.35720444e-040]\n",
            " [4.29933249e-215 1.45529755e-003 9.98544702e-001]]\n"
          ]
        }
      ]
    },
    {
      "cell_type": "code",
      "source": [
        "confusion_matrix(test_target, y2_pred)"
      ],
      "metadata": {
        "colab": {
          "base_uri": "https://localhost:8080/"
        },
        "id": "W_gGJ4bO85nl",
        "outputId": "4ba5a122-9f55-4330-823a-8bc65ffa9478"
      },
      "execution_count": null,
      "outputs": [
        {
          "output_type": "execute_result",
          "data": {
            "text/plain": [
              "array([[5, 0, 0],\n",
              "       [0, 6, 0],\n",
              "       [0, 1, 3]])"
            ]
          },
          "metadata": {},
          "execution_count": 30
        }
      ]
    },
    {
      "cell_type": "code",
      "source": [
        "# 사전 확률\n",
        "qda.priors_"
      ],
      "metadata": {
        "colab": {
          "base_uri": "https://localhost:8080/"
        },
        "id": "DneDKI8L9AAM",
        "outputId": "3e1f4943-a2c8-4be1-ea07-4cc2cc267f8b"
      },
      "execution_count": null,
      "outputs": [
        {
          "output_type": "execute_result",
          "data": {
            "text/plain": [
              "array([0.33333333, 0.32592593, 0.34074074])"
            ]
          },
          "metadata": {},
          "execution_count": 31
        }
      ]
    },
    {
      "cell_type": "code",
      "source": [
        "# 클래스 별 평균\n",
        "qda.means_"
      ],
      "metadata": {
        "colab": {
          "base_uri": "https://localhost:8080/"
        },
        "id": "cCprkVyq9D_T",
        "outputId": "1179ef9a-5fe3-4b2e-e90d-0fc09e024c55"
      },
      "execution_count": null,
      "outputs": [
        {
          "output_type": "execute_result",
          "data": {
            "text/plain": [
              "array([[4.97555556, 3.39111111, 1.45333333],\n",
              "       [5.92727273, 2.74772727, 4.26590909],\n",
              "       [6.53478261, 2.94782609, 5.5326087 ]])"
            ]
          },
          "metadata": {},
          "execution_count": 32
        }
      ]
    },
    {
      "cell_type": "code",
      "source": [
        "# 독립변수 공분산\n",
        "qda.covariance_"
      ],
      "metadata": {
        "colab": {
          "base_uri": "https://localhost:8080/"
        },
        "id": "JMHgjgFN9H1T",
        "outputId": "b60c69d6-a71a-487a-9011-7ea49b8b19f3"
      },
      "execution_count": null,
      "outputs": [
        {
          "output_type": "execute_result",
          "data": {
            "text/plain": [
              "[array([[0.11370707, 0.08818687, 0.02201515],\n",
              "        [0.08818687, 0.13673737, 0.01230303],\n",
              "        [0.02201515, 0.01230303, 0.02527273]]),\n",
              " array([[0.26621564, 0.07820296, 0.1746723 ],\n",
              "        [0.07820296, 0.09743658, 0.07701374],\n",
              "        [0.1746723 , 0.07701374, 0.20695032]]),\n",
              " array([[0.38898551, 0.07385507, 0.30261836],\n",
              "        [0.07385507, 0.09588406, 0.06196135],\n",
              "        [0.30261836, 0.06196135, 0.30757971]])]"
            ]
          },
          "metadata": {},
          "execution_count": 33
        }
      ]
    },
    {
      "cell_type": "code",
      "source": [
        "print(classification_report(test_target, y2_pred))"
      ],
      "metadata": {
        "colab": {
          "base_uri": "https://localhost:8080/"
        },
        "id": "AqcSRmEu9Lej",
        "outputId": "e963c41c-6816-4e7b-d931-f3d6664e4c71"
      },
      "execution_count": null,
      "outputs": [
        {
          "output_type": "stream",
          "name": "stdout",
          "text": [
            "              precision    recall  f1-score   support\n",
            "\n",
            "           0       1.00      1.00      1.00         5\n",
            "           1       0.86      1.00      0.92         6\n",
            "           2       1.00      0.75      0.86         4\n",
            "\n",
            "    accuracy                           0.93        15\n",
            "   macro avg       0.95      0.92      0.93        15\n",
            "weighted avg       0.94      0.93      0.93        15\n",
            "\n"
          ]
        }
      ]
    },
    {
      "cell_type": "code",
      "source": [
        "# ROC curve\n",
        "\n",
        "from sklearn.preprocessing import label_binarize\n",
        "\n",
        "y2_vec = label_binarize(train_target, classes = [0, 1, 2])\n",
        "\n",
        "from sklearn.metrics import roc_curve\n",
        "\n",
        "for i in range(3):\n",
        "  qda = QuadraticDiscriminantAnalysis().fit(train_input, y2_vec[:,i])\n",
        "  fpr, tpr, thr = roc_curve(y2_vec[:,i],qda.predict_proba(train_input)[:,1])\n",
        "  plt.plot(fpr,tpr)\n",
        "\n",
        "plt.show()"
      ],
      "metadata": {
        "colab": {
          "base_uri": "https://localhost:8080/",
          "height": 268
        },
        "id": "DmyfoVZn9PlT",
        "outputId": "766d61f1-4663-4362-e407-f055be97bdf7"
      },
      "execution_count": null,
      "outputs": [
        {
          "output_type": "display_data",
          "data": {
            "text/plain": [
              "<Figure size 432x288 with 1 Axes>"
            ],
            "image/png": "[encoded data removed]"
          },
          "metadata": {
            "needs_background": "light"
          }
        }
      ]
    }
  ]
}