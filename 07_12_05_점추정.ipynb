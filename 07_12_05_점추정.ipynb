{
  "nbformat": 4,
  "nbformat_minor": 0,
  "metadata": {
    "colab": {
      "provenance": [],
      "authorship_tag": "ABX9TyPF5zUHmoRFHSSI5yIksXVz",
      "include_colab_link": true
    },
    "kernelspec": {
      "name": "python3",
      "display_name": "Python 3"
    },
    "language_info": {
      "name": "python"
    }
  },
  "cells": [
    {
      "cell_type": "markdown",
      "metadata": {
        "id": "view-in-github",
        "colab_type": "text"
      },
      "source": [
        "<a href=\"https://colab.research.google.com/github/chanseongparkk/2022_Data_Analysis_Intern_practice/blob/main/07_12_05_%EC%A0%90%EC%B6%94%EC%A0%95.ipynb\" target=\"_parent\"><img src=\"https://colab.research.google.com/assets/colab-badge.svg\" alt=\"Open In Colab\"/></a>"
      ]
    },
    {
      "cell_type": "code",
      "execution_count": null,
      "metadata": {
        "id": "KnR9NWjvtLuy"
      },
      "outputs": [],
      "source": [
        "# 패키지 임포트\n",
        "import pandas as pd\n",
        "import numpy as np\n",
        "from scipy import stats\n",
        "import math\n",
        "\n",
        "import matplotlib.pyplot as plt\n",
        "import seaborn as sns\n",
        "%matplotlib inline\n",
        "\n",
        "\n",
        "# os에 따른 font 깨짐 제거를 위해 font 지정\n",
        "\n",
        "import os\n",
        "\n",
        "if os.name == \"nt\":\n",
        "    font_family = \"Malgun Gothic\"\n",
        "else: #mac os\n",
        "    font_family = \"AppleGothic\"\n",
        "    \n",
        "# - 값이 깨지는 문제 해결을 위해 파라미터값 설정\n",
        "\n",
        "sns.set(font = font_family, rc = {\"axes.unicode_minus\" : False})\n",
        "\n",
        "import warnings\n",
        "warnings.filterwarnings(\"ignore\")"
      ]
    },
    {
      "cell_type": "markdown",
      "source": [
        "### 1. 평균의 점추정"
      ],
      "metadata": {
        "id": "7OajTAMTHzbh"
      }
    },
    {
      "cell_type": "markdown",
      "source": [
        "#### 1-1 데이터 생성"
      ],
      "metadata": {
        "id": "8FA6WZmGH3Mh"
      }
    },
    {
      "cell_type": "code",
      "source": [
        "np.random.seed(100)\n",
        "\n",
        "math_score = pd.DataFrame(np.random.randint(25, 101, size = 500),columns = [\"점수\"])"
      ],
      "metadata": {
        "id": "ewOV0s45H5CR"
      },
      "execution_count": null,
      "outputs": []
    },
    {
      "cell_type": "markdown",
      "source": [
        "#### 1-2 데이터 탐색"
      ],
      "metadata": {
        "id": "ZrlisFDzIKlp"
      }
    },
    {
      "cell_type": "code",
      "source": [
        "# 요약정보\n",
        "\n",
        "math_score.describe()"
      ],
      "metadata": {
        "colab": {
          "base_uri": "https://localhost:8080/",
          "height": 300
        },
        "id": "UfuN_64cINEp",
        "outputId": "5e19f930-cb94-48fe-dfeb-8d0a90d01eff"
      },
      "execution_count": null,
      "outputs": [
        {
          "output_type": "execute_result",
          "data": {
            "text/plain": [
              "               점수\n",
              "count  500.000000\n",
              "mean    61.580000\n",
              "std     21.513374\n",
              "min     25.000000\n",
              "25%     42.000000\n",
              "50%     62.500000\n",
              "75%     79.000000\n",
              "max    100.000000"
            ],
            "text/html": [
              "\n",
              "  <div id=\"df-c81fe371-154b-409c-8c3c-3461c41dac21\">\n",
              "    <div class=\"colab-df-container\">\n",
              "      <div>\n",
              "<style scoped>\n",
              "    .dataframe tbody tr th:only-of-type {\n",
              "        vertical-align: middle;\n",
              "    }\n",
              "\n",
              "    .dataframe tbody tr th {\n",
              "        vertical-align: top;\n",
              "    }\n",
              "\n",
              "    .dataframe thead th {\n",
              "        text-align: right;\n",
              "    }\n",
              "</style>\n",
              "<table border=\"1\" class=\"dataframe\">\n",
              "  <thead>\n",
              "    <tr style=\"text-align: right;\">\n",
              "      <th></th>\n",
              "      <th>점수</th>\n",
              "    </tr>\n",
              "  </thead>\n",
              "  <tbody>\n",
              "    <tr>\n",
              "      <th>count</th>\n",
              "      <td>500.000000</td>\n",
              "    </tr>\n",
              "    <tr>\n",
              "      <th>mean</th>\n",
              "      <td>61.580000</td>\n",
              "    </tr>\n",
              "    <tr>\n",
              "      <th>std</th>\n",
              "      <td>21.513374</td>\n",
              "    </tr>\n",
              "    <tr>\n",
              "      <th>min</th>\n",
              "      <td>25.000000</td>\n",
              "    </tr>\n",
              "    <tr>\n",
              "      <th>25%</th>\n",
              "      <td>42.000000</td>\n",
              "    </tr>\n",
              "    <tr>\n",
              "      <th>50%</th>\n",
              "      <td>62.500000</td>\n",
              "    </tr>\n",
              "    <tr>\n",
              "      <th>75%</th>\n",
              "      <td>79.000000</td>\n",
              "    </tr>\n",
              "    <tr>\n",
              "      <th>max</th>\n",
              "      <td>100.000000</td>\n",
              "    </tr>\n",
              "  </tbody>\n",
              "</table>\n",
              "</div>\n",
              "      <button class=\"colab-df-convert\" onclick=\"convertToInteractive('df-c81fe371-154b-409c-8c3c-3461c41dac21')\"\n",
              "              title=\"Convert this dataframe to an interactive table.\"\n",
              "              style=\"display:none;\">\n",
              "        \n",
              "  <svg xmlns=\"http://www.w3.org/2000/svg\" height=\"24px\"viewBox=\"0 0 24 24\"\n",
              "       width=\"24px\">\n",
              "    <path d=\"M0 0h24v24H0V0z\" fill=\"none\"/>\n",
              "    <path d=\"M18.56 5.44l.94 2.06.94-2.06 2.06-.94-2.06-.94-.94-2.06-.94 2.06-2.06.94zm-11 1L8.5 8.5l.94-2.06 2.06-.94-2.06-.94L8.5 2.5l-.94 2.06-2.06.94zm10 10l.94 2.06.94-2.06 2.06-.94-2.06-.94-.94-2.06-.94 2.06-2.06.94z\"/><path d=\"M17.41 7.96l-1.37-1.37c-.4-.4-.92-.59-1.43-.59-.52 0-1.04.2-1.43.59L10.3 9.45l-7.72 7.72c-.78.78-.78 2.05 0 2.83L4 21.41c.39.39.9.59 1.41.59.51 0 1.02-.2 1.41-.59l7.78-7.78 2.81-2.81c.8-.78.8-2.07 0-2.86zM5.41 20L4 18.59l7.72-7.72 1.47 1.35L5.41 20z\"/>\n",
              "  </svg>\n",
              "      </button>\n",
              "      \n",
              "  <style>\n",
              "    .colab-df-container {\n",
              "      display:flex;\n",
              "      flex-wrap:wrap;\n",
              "      gap: 12px;\n",
              "    }\n",
              "\n",
              "    .colab-df-convert {\n",
              "      background-color: #E8F0FE;\n",
              "      border: none;\n",
              "      border-radius: 50%;\n",
              "      cursor: pointer;\n",
              "      display: none;\n",
              "      fill: #1967D2;\n",
              "      height: 32px;\n",
              "      padding: 0 0 0 0;\n",
              "      width: 32px;\n",
              "    }\n",
              "\n",
              "    .colab-df-convert:hover {\n",
              "      background-color: #E2EBFA;\n",
              "      box-shadow: 0px 1px 2px rgba(60, 64, 67, 0.3), 0px 1px 3px 1px rgba(60, 64, 67, 0.15);\n",
              "      fill: #174EA6;\n",
              "    }\n",
              "\n",
              "    [theme=dark] .colab-df-convert {\n",
              "      background-color: #3B4455;\n",
              "      fill: #D2E3FC;\n",
              "    }\n",
              "\n",
              "    [theme=dark] .colab-df-convert:hover {\n",
              "      background-color: #434B5C;\n",
              "      box-shadow: 0px 1px 3px 1px rgba(0, 0, 0, 0.15);\n",
              "      filter: drop-shadow(0px 1px 2px rgba(0, 0, 0, 0.3));\n",
              "      fill: #FFFFFF;\n",
              "    }\n",
              "  </style>\n",
              "\n",
              "      <script>\n",
              "        const buttonEl =\n",
              "          document.querySelector('#df-c81fe371-154b-409c-8c3c-3461c41dac21 button.colab-df-convert');\n",
              "        buttonEl.style.display =\n",
              "          google.colab.kernel.accessAllowed ? 'block' : 'none';\n",
              "\n",
              "        async function convertToInteractive(key) {\n",
              "          const element = document.querySelector('#df-c81fe371-154b-409c-8c3c-3461c41dac21');\n",
              "          const dataTable =\n",
              "            await google.colab.kernel.invokeFunction('convertToInteractive',\n",
              "                                                     [key], {});\n",
              "          if (!dataTable) return;\n",
              "\n",
              "          const docLinkHtml = 'Like what you see? Visit the ' +\n",
              "            '<a target=\"_blank\" href=https://colab.research.google.com/notebooks/data_table.ipynb>data table notebook</a>'\n",
              "            + ' to learn more about interactive tables.';\n",
              "          element.innerHTML = '';\n",
              "          dataTable['output_type'] = 'display_data';\n",
              "          await google.colab.output.renderOutput(dataTable, element);\n",
              "          const docLink = document.createElement('div');\n",
              "          docLink.innerHTML = docLinkHtml;\n",
              "          element.appendChild(docLink);\n",
              "        }\n",
              "      </script>\n",
              "    </div>\n",
              "  </div>\n",
              "  "
            ]
          },
          "metadata": {},
          "execution_count": 4
        }
      ]
    },
    {
      "cell_type": "code",
      "source": [
        "# 데이터 확인\n",
        "\n",
        "scores = np.array(math_score.점수)\n",
        "scores[:5]"
      ],
      "metadata": {
        "colab": {
          "base_uri": "https://localhost:8080/"
        },
        "id": "KBJkPLzZIRJx",
        "outputId": "d92f9e49-3dea-4b09-b8fa-5cdf41d85122"
      },
      "execution_count": null,
      "outputs": [
        {
          "output_type": "execute_result",
          "data": {
            "text/plain": [
              "array([33, 49, 92, 73, 35])"
            ]
          },
          "metadata": {},
          "execution_count": 6
        }
      ]
    },
    {
      "cell_type": "code",
      "source": [
        "# 20개 샘플 추출(복원추출)\n",
        "\n",
        "sample = np.random.choice(scores, 20)\n",
        "print(sample)\n",
        "print(sample.mean())\n",
        "print(sample.var())\n",
        "print(sample.std())"
      ],
      "metadata": {
        "colab": {
          "base_uri": "https://localhost:8080/"
        },
        "id": "13q-4eL3IaXx",
        "outputId": "4171df9e-9029-4662-85a6-dc2145d6a702"
      },
      "execution_count": null,
      "outputs": [
        {
          "output_type": "stream",
          "name": "stdout",
          "text": [
            "[85 91 85 81 64 96 83 68 53 52 61 80 89 32 95 64 81 72 94 92]\n",
            "75.9\n",
            "282.29\n",
            "16.801488029338355\n"
          ]
        }
      ]
    },
    {
      "cell_type": "code",
      "source": [
        "# 표본에 따라 평균오차 확인\n",
        "\n",
        "for i in range(10):\n",
        "  sample1 = np.random.choice(scores, 20)\n",
        "  print(i+1, \"표본평균\", sample1.mean())"
      ],
      "metadata": {
        "colab": {
          "base_uri": "https://localhost:8080/"
        },
        "id": "__V0-HKqIqhp",
        "outputId": "ebcc0e28-6171-4075-e86b-23ffd449047f"
      },
      "execution_count": null,
      "outputs": [
        {
          "output_type": "stream",
          "name": "stdout",
          "text": [
            "1 표본평균 67.0\n",
            "2 표본평균 61.55\n",
            "3 표본평균 59.55\n",
            "4 표본평균 62.6\n",
            "5 표본평균 57.95\n",
            "6 표본평균 57.8\n",
            "7 표본평균 59.85\n",
            "8 표본평균 65.05\n",
            "9 표본평균 60.0\n",
            "10 표본평균 63.05\n"
          ]
        }
      ]
    },
    {
      "cell_type": "code",
      "source": [
        "# 모집단 데이터 분포 확인\n",
        "\n",
        "plt.xlabel(\"score\")\n",
        "plt.ylabel('relative frequency')\n",
        "plt.hist(scores, bins = 100, range = (0,100), density = True) #density = True면 상대도수\n",
        "plt.xlim(20,100)\n",
        "plt.show()"
      ],
      "metadata": {
        "colab": {
          "base_uri": "https://localhost:8080/",
          "height": 320
        },
        "id": "LNJbma0sI7JQ",
        "outputId": "d3671bed-64fc-4590-851d-2fbece495369"
      },
      "execution_count": null,
      "outputs": [
        {
          "output_type": "stream",
          "name": "stderr",
          "text": [
            "findfont: Font family ['AppleGothic'] not found. Falling back to DejaVu Sans.\n",
            "findfont: Font family ['AppleGothic'] not found. Falling back to DejaVu Sans.\n"
          ]
        },
        {
          "output_type": "display_data",
          "data": {
            "text/plain": [
              "<Figure size 432x288 with 1 Axes>"
            ],
            "image/png": "[encoded data removed]"
          },
          "metadata": {
            "needs_background": "light"
          }
        }
      ]
    },
    {
      "cell_type": "code",
      "source": [
        "# 샘플2 1000개 생성하여 분포 확인\n",
        "\n",
        "sample_score = np.random.choice(scores, 200) "
      ],
      "metadata": {
        "id": "0AZEEfAaJRix"
      },
      "execution_count": null,
      "outputs": []
    },
    {
      "cell_type": "code",
      "source": [
        "plt.hist(sample_score, bins = 100, range = (0,100), density = True)\n",
        "plt.xlim(20, 100)\n",
        "plt.show()"
      ],
      "metadata": {
        "colab": {
          "base_uri": "https://localhost:8080/",
          "height": 268
        },
        "id": "kURtqN40JcKB",
        "outputId": "619814e9-6b93-444f-8950-9daf12db7a84"
      },
      "execution_count": null,
      "outputs": [
        {
          "output_type": "display_data",
          "data": {
            "text/plain": [
              "<Figure size 432x288 with 1 Axes>"
            ],
            "image/png": "[encoded data removed]"
          },
          "metadata": {
            "needs_background": "light"
          }
        }
      ]
    },
    {
      "cell_type": "markdown",
      "source": [
        "#### 1-3 모평균 점추정"
      ],
      "metadata": {
        "id": "gKzsD3GlJq25"
      }
    },
    {
      "cell_type": "code",
      "source": [
        "# 20개의 표본 100번 추출\n",
        "\n",
        "n = 20\n",
        "nSample = 100\n",
        "\n",
        "sample_mean = np.array([np.random.choice(scores,n,i).mean() for i in range(nSample)])"
      ],
      "metadata": {
        "id": "Pol9kiQCJn1Z"
      },
      "execution_count": null,
      "outputs": []
    },
    {
      "cell_type": "code",
      "source": [
        "sample_mean"
      ],
      "metadata": {
        "id": "0Tugrf6dKJmP"
      },
      "execution_count": null,
      "outputs": []
    },
    {
      "cell_type": "code",
      "source": [
        "# 모평균\n",
        "print(\"모평균 : \", scores.mean())\n",
        "\n",
        "# 표본평균의 평균\n",
        "print(\"표본평균의 평균 : \", sample_mean.mean())\n",
        "\n",
        "# 모분산/n\n",
        "print(\"모분산/n : \", scores.var()/n)\n",
        "\n",
        "# 표본평균의 분산\n",
        "print(\"표본평균의 분산 : \", sample_mean.var())\n",
        "\n",
        "# 표본평균의 편차\n",
        "print(\"표본평균의 편차 : \", sample_mean.std())\n",
        "\n",
        "# 표준오차\n",
        "print(\"표준오차 : \", scores.std()/math.sqrt(n))"
      ],
      "metadata": {
        "colab": {
          "base_uri": "https://localhost:8080/"
        },
        "id": "BWAOV967KQVg",
        "outputId": "4d427538-2a16-40bf-ce2a-8dfdb7c6db13"
      },
      "execution_count": null,
      "outputs": [
        {
          "output_type": "stream",
          "name": "stdout",
          "text": [
            "모평균 :  61.58\n",
            "표본평균의 평균 :  61.71939999999999\n",
            "모분산/n :  23.09498\n",
            "표본평균의 분산 :  23.14865364\n",
            "표본평균의 편차 :  4.811304775214308\n",
            "표준오차 :  4.805723670790903\n"
          ]
        }
      ]
    }
  ]
}