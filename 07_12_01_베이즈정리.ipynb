{
  "nbformat": 4,
  "nbformat_minor": 0,
  "metadata": {
    "colab": {
      "provenance": [],
      "authorship_tag": "ABX9TyOVRFBWqVqPNT6pF/UDgWZ/",
      "include_colab_link": true
    },
    "kernelspec": {
      "name": "python3",
      "display_name": "Python 3"
    },
    "language_info": {
      "name": "python"
    }
  },
  "cells": [
    {
      "cell_type": "markdown",
      "metadata": {
        "id": "view-in-github",
        "colab_type": "text"
      },
      "source": [
        "<a href=\"https://colab.research.google.com/github/chanseongparkk/2022_Data_Analysis_Intern_practice/blob/main/07_12_01_%EB%B2%A0%EC%9D%B4%EC%A6%88%EC%A0%95%EB%A6%AC.ipynb\" target=\"_parent\"><img src=\"https://colab.research.google.com/assets/colab-badge.svg\" alt=\"Open In Colab\"/></a>"
      ]
    },
    {
      "cell_type": "markdown",
      "source": [
        "## 베이즈 정리\n",
        "* 알고자 하는 것: 흡연자 중 30대일 확률\n",
        "* 원인: 나이, 결과: 흡연자\n",
        "* 조건부확률 P(흡연자 | 나이그룹)"
      ],
      "metadata": {
        "id": "v0D8sSpoxbIz"
      }
    },
    {
      "cell_type": "code",
      "execution_count": null,
      "metadata": {
        "id": "7mpkWmZRtN9H"
      },
      "outputs": [],
      "source": [
        "import pandas as pd\n",
        "\n",
        "smoke_data = pd.DataFrame(\n",
        "    {\"나이그룹\" : [\"10\", \"10\", \"10\", \"10\", \"10\", \"10\", \"10\", \"10\", \"10\", \"10\",\n",
        "              \"20\", \"20\", \"20\", \"20\", \"20\", \"20\", \"20\", \"20\", \"20\", \"20\",\n",
        "              \"30\", \"30\", \"30\", \"30\", \"30\", \"30\", \"30\", \"30\", \"30\", \"30\"],\n",
        "      \n",
        "      \"흡연여부\" : [\"유\", \"유\", \"무\", \"무\", \"무\", \"무\", \"무\", \"무\", \"무\", \"무\",\n",
        "                \"유\", \"유\", \"유\", \"유\", \"유\", \"무\", \"무\", \"무\", \"무\", \"무\",\n",
        "                \"유\", \"유\", \"유\", \"유\", \"유\", \"유\", \"유\", \"무\", \"무\", \"무\"]\n",
        "    }\n",
        ")"
      ]
    },
    {
      "cell_type": "code",
      "source": [
        "### 계산하기 위한 교차표\n",
        "\n",
        "data_crosstab = pd.crosstab(smoke_data.나이그룹,\n",
        "                            smoke_data.흡연여부, margins = False)\n",
        "\n",
        "data_crosstab"
      ],
      "metadata": {
        "colab": {
          "base_uri": "https://localhost:8080/",
          "height": 175
        },
        "id": "RS9I0d_8ys9F",
        "outputId": "400b65e4-883b-46ef-fdc2-113d654a67ff"
      },
      "execution_count": null,
      "outputs": [
        {
          "output_type": "execute_result",
          "data": {
            "text/plain": [
              "흡연여부  무  유\n",
              "나이그룹      \n",
              "10    8  2\n",
              "20    5  5\n",
              "30    3  7"
            ],
            "text/html": [
              "\n",
              "  <div id=\"df-9edf30e1-e830-4331-ab51-a36d456a3418\">\n",
              "    <div class=\"colab-df-container\">\n",
              "      <div>\n",
              "<style scoped>\n",
              "    .dataframe tbody tr th:only-of-type {\n",
              "        vertical-align: middle;\n",
              "    }\n",
              "\n",
              "    .dataframe tbody tr th {\n",
              "        vertical-align: top;\n",
              "    }\n",
              "\n",
              "    .dataframe thead th {\n",
              "        text-align: right;\n",
              "    }\n",
              "</style>\n",
              "<table border=\"1\" class=\"dataframe\">\n",
              "  <thead>\n",
              "    <tr style=\"text-align: right;\">\n",
              "      <th>흡연여부</th>\n",
              "      <th>무</th>\n",
              "      <th>유</th>\n",
              "    </tr>\n",
              "    <tr>\n",
              "      <th>나이그룹</th>\n",
              "      <th></th>\n",
              "      <th></th>\n",
              "    </tr>\n",
              "  </thead>\n",
              "  <tbody>\n",
              "    <tr>\n",
              "      <th>10</th>\n",
              "      <td>8</td>\n",
              "      <td>2</td>\n",
              "    </tr>\n",
              "    <tr>\n",
              "      <th>20</th>\n",
              "      <td>5</td>\n",
              "      <td>5</td>\n",
              "    </tr>\n",
              "    <tr>\n",
              "      <th>30</th>\n",
              "      <td>3</td>\n",
              "      <td>7</td>\n",
              "    </tr>\n",
              "  </tbody>\n",
              "</table>\n",
              "</div>\n",
              "      <button class=\"colab-df-convert\" onclick=\"convertToInteractive('df-9edf30e1-e830-4331-ab51-a36d456a3418')\"\n",
              "              title=\"Convert this dataframe to an interactive table.\"\n",
              "              style=\"display:none;\">\n",
              "        \n",
              "  <svg xmlns=\"http://www.w3.org/2000/svg\" height=\"24px\"viewBox=\"0 0 24 24\"\n",
              "       width=\"24px\">\n",
              "    <path d=\"M0 0h24v24H0V0z\" fill=\"none\"/>\n",
              "    <path d=\"M18.56 5.44l.94 2.06.94-2.06 2.06-.94-2.06-.94-.94-2.06-.94 2.06-2.06.94zm-11 1L8.5 8.5l.94-2.06 2.06-.94-2.06-.94L8.5 2.5l-.94 2.06-2.06.94zm10 10l.94 2.06.94-2.06 2.06-.94-2.06-.94-.94-2.06-.94 2.06-2.06.94z\"/><path d=\"M17.41 7.96l-1.37-1.37c-.4-.4-.92-.59-1.43-.59-.52 0-1.04.2-1.43.59L10.3 9.45l-7.72 7.72c-.78.78-.78 2.05 0 2.83L4 21.41c.39.39.9.59 1.41.59.51 0 1.02-.2 1.41-.59l7.78-7.78 2.81-2.81c.8-.78.8-2.07 0-2.86zM5.41 20L4 18.59l7.72-7.72 1.47 1.35L5.41 20z\"/>\n",
              "  </svg>\n",
              "      </button>\n",
              "      \n",
              "  <style>\n",
              "    .colab-df-container {\n",
              "      display:flex;\n",
              "      flex-wrap:wrap;\n",
              "      gap: 12px;\n",
              "    }\n",
              "\n",
              "    .colab-df-convert {\n",
              "      background-color: #E8F0FE;\n",
              "      border: none;\n",
              "      border-radius: 50%;\n",
              "      cursor: pointer;\n",
              "      display: none;\n",
              "      fill: #1967D2;\n",
              "      height: 32px;\n",
              "      padding: 0 0 0 0;\n",
              "      width: 32px;\n",
              "    }\n",
              "\n",
              "    .colab-df-convert:hover {\n",
              "      background-color: #E2EBFA;\n",
              "      box-shadow: 0px 1px 2px rgba(60, 64, 67, 0.3), 0px 1px 3px 1px rgba(60, 64, 67, 0.15);\n",
              "      fill: #174EA6;\n",
              "    }\n",
              "\n",
              "    [theme=dark] .colab-df-convert {\n",
              "      background-color: #3B4455;\n",
              "      fill: #D2E3FC;\n",
              "    }\n",
              "\n",
              "    [theme=dark] .colab-df-convert:hover {\n",
              "      background-color: #434B5C;\n",
              "      box-shadow: 0px 1px 3px 1px rgba(0, 0, 0, 0.15);\n",
              "      filter: drop-shadow(0px 1px 2px rgba(0, 0, 0, 0.3));\n",
              "      fill: #FFFFFF;\n",
              "    }\n",
              "  </style>\n",
              "\n",
              "      <script>\n",
              "        const buttonEl =\n",
              "          document.querySelector('#df-9edf30e1-e830-4331-ab51-a36d456a3418 button.colab-df-convert');\n",
              "        buttonEl.style.display =\n",
              "          google.colab.kernel.accessAllowed ? 'block' : 'none';\n",
              "\n",
              "        async function convertToInteractive(key) {\n",
              "          const element = document.querySelector('#df-9edf30e1-e830-4331-ab51-a36d456a3418');\n",
              "          const dataTable =\n",
              "            await google.colab.kernel.invokeFunction('convertToInteractive',\n",
              "                                                     [key], {});\n",
              "          if (!dataTable) return;\n",
              "\n",
              "          const docLinkHtml = 'Like what you see? Visit the ' +\n",
              "            '<a target=\"_blank\" href=https://colab.research.google.com/notebooks/data_table.ipynb>data table notebook</a>'\n",
              "            + ' to learn more about interactive tables.';\n",
              "          element.innerHTML = '';\n",
              "          dataTable['output_type'] = 'display_data';\n",
              "          await google.colab.output.renderOutput(dataTable, element);\n",
              "          const docLink = document.createElement('div');\n",
              "          docLink.innerHTML = docLinkHtml;\n",
              "          element.appendChild(docLink);\n",
              "        }\n",
              "      </script>\n",
              "    </div>\n",
              "  </div>\n",
              "  "
            ]
          },
          "metadata": {},
          "execution_count": 2
        }
      ]
    },
    {
      "cell_type": "code",
      "source": [
        "### 확률 계산\n",
        "\n",
        "p_10 = data_crosstab.loc[\"10\"].sum()/data_crosstab.values.sum()\n",
        "print(\"10대 확률 : \",p_10 )\n",
        "p_20 = data_crosstab.loc[\"20\"].sum()/data_crosstab.values.sum()\n",
        "print(\"20대 확률 : \",p_20 )\n",
        "p_30 = data_crosstab.loc[\"30\"].sum()/data_crosstab.values.sum()\n",
        "print(\"30대 확률 : \",p_30 )\n",
        "\n",
        "p_smok = data_crosstab[\"유\"].sum()/data_crosstab.values.sum()\n",
        "print(\"흡연 확률 : \",p_smok )\n",
        "p_non_smok = data_crosstab[\"무\"].sum()/data_crosstab.values.sum()\n",
        "print(\"비흡연 확률 : \",p_non_smok )"
      ],
      "metadata": {
        "colab": {
          "base_uri": "https://localhost:8080/"
        },
        "id": "oRi_ctYdzETE",
        "outputId": "f309b9b7-bad3-4626-b120-cdc4c48793ae"
      },
      "execution_count": null,
      "outputs": [
        {
          "output_type": "stream",
          "name": "stdout",
          "text": [
            "10대 확률 :  0.3333333333333333\n",
            "20대 확률 :  0.3333333333333333\n",
            "30대 확률 :  0.3333333333333333\n",
            "흡연 확률 :  0.4666666666666667\n",
            "비흡연 확률 :  0.5333333333333333\n"
          ]
        }
      ]
    },
    {
      "cell_type": "code",
      "source": [
        "### 조건부 확률\n",
        "\n",
        "p_smok_given_10 = data_crosstab.loc[\"10\"][\"유\"]/data_crosstab.loc[\"10\"].sum()\n",
        "print(\"P(흡연 | 10대) : \", p_smok_given_10) \n",
        "p_smok_given_20 = data_crosstab.loc[\"20\"][\"유\"]/data_crosstab.loc[\"20\"].sum()\n",
        "print(\"P(흡연 | 20대) : \", p_smok_given_20) \n",
        "p_smok_given_30 = data_crosstab.loc[\"30\"][\"유\"]/data_crosstab.loc[\"30\"].sum()\n",
        "print(\"P(흡연 | 30대) : \", p_smok_given_30) "
      ],
      "metadata": {
        "colab": {
          "base_uri": "https://localhost:8080/"
        },
        "id": "Dh0hI6Gazzz0",
        "outputId": "e4ef08e7-3abe-43c4-86b7-ea957ce14ee2"
      },
      "execution_count": null,
      "outputs": [
        {
          "output_type": "stream",
          "name": "stdout",
          "text": [
            "P(흡연 | 10대) :  0.2\n",
            "P(흡연 | 20대) :  0.5\n",
            "P(흡연 | 30대) :  0.7\n"
          ]
        }
      ]
    },
    {
      "cell_type": "code",
      "source": [
        "### 전확률\n",
        "\n",
        "total_p = (p_10 * p_smok_given_10) + (p_20 * p_smok_given_20) + (p_30 * p_smok_given_30)\n",
        "print(\"전확률 : \", total_p)\n",
        "\n",
        "### P(30대) * P(흡연 | 30대) 흡연자 중 30대일 확률\n",
        "\n",
        "p_30_smoke_given_30 = (p_30 * p_smok_given_30)\n",
        "print(\"P(30대) * P(흡연 | 30대) : \", p_30_smoke_given_30)"
      ],
      "metadata": {
        "colab": {
          "base_uri": "https://localhost:8080/"
        },
        "id": "kyGQzPya0ZPj",
        "outputId": "8bae8991-2a4a-4b78-e0aa-87333067afa1"
      },
      "execution_count": null,
      "outputs": [
        {
          "output_type": "stream",
          "name": "stdout",
          "text": [
            "전확률 :  0.4666666666666667\n",
            "P(30대) * P(흡연 | 30대) :  0.2333333333333333\n"
          ]
        }
      ]
    },
    {
      "cell_type": "code",
      "source": [
        "### 나이브 베이즈\n",
        "\n",
        "from sklearn.datasets import load_iris\n",
        "from sklearn.model_selection import train_test_split\n",
        "from sklearn.naive_bayes import GaussianNB\n",
        "\n",
        "# iris data \n",
        "\n",
        "X, y = load_iris(return_X_y = True)\n",
        "\n",
        "# train test split\n",
        "\n",
        "X_train, X_test, y_train, y_test = train_test_split(X, y, test_size = 0.5, random_state = 0)\n",
        "\n",
        "# 가우시안 나이브베이즈 모델 생성\n",
        "\n",
        "nb = GaussianNB()\n",
        "\n",
        "# 모델링\n",
        "\n",
        "nb.fit(X_train, y_train)\n",
        "\n",
        "# test data 예측\n",
        "\n",
        "y_pred = nb.predict(X_test)\n",
        "print(y_pred)\n",
        "\n",
        "# 틀린 갯수 출력\n",
        "\n",
        "print(\"Number of mislabeled points out of a total %d points : %d\"         % (X_test.shape[0], (y_test != y_pred).sum()))"
      ],
      "metadata": {
        "colab": {
          "base_uri": "https://localhost:8080/"
        },
        "id": "IeGhBaDU1boA",
        "outputId": "90e4e4b7-b029-4e6b-dea4-ec530781c2db"
      },
      "execution_count": null,
      "outputs": [
        {
          "output_type": "stream",
          "name": "stdout",
          "text": [
            "[2 1 0 2 0 2 0 1 1 1 1 1 1 1 1 0 1 1 0 0 2 1 0 0 2 0 0 1 1 0 2 1 0 2 2 1 0\n",
            " 1 1 1 2 0 2 0 0 1 2 2 1 2 1 2 1 1 2 1 1 2 1 2 1 0 2 1 1 1 1 2 0 0 2 1 0 0\n",
            " 1]\n",
            "Number of mislabeled points out of a total 75 points : 4\n"
          ]
        }
      ]
    }
  ]
}