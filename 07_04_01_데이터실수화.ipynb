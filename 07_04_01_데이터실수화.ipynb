{
  "cells": [
    {
      "cell_type": "markdown",
      "metadata": {
        "id": "view-in-github",
        "colab_type": "text"
      },
      "source": [
        "<a href=\"https://colab.research.google.com/github/chanseongparkk/2022_Data_Analysis_Intern_practice/blob/main/07_04_01_%EB%8D%B0%EC%9D%B4%ED%84%B0%EC%8B%A4%EC%88%98%ED%99%94.ipynb\" target=\"_parent\"><img src=\"https://colab.research.google.com/assets/colab-badge.svg\" alt=\"Open In Colab\"/></a>"
      ]
    },
    {
      "cell_type": "markdown",
      "id": "633b6971",
      "metadata": {
        "id": "633b6971"
      },
      "source": [
        "### 1. 범주형 데이터 실수화\n"
      ]
    },
    {
      "cell_type": "code",
      "execution_count": null,
      "id": "7fb3ca0f",
      "metadata": {
        "id": "7fb3ca0f"
      },
      "outputs": [],
      "source": [
        "### 라이브러리 호출\n",
        "import pandas as pd\n",
        "from sklearn.preprocessing import LabelEncoder\n",
        "from sklearn.preprocessing import OneHotEncoder\n",
        "import warnings\n",
        "warnings.filterwarnings(\"ignore\")"
      ]
    },
    {
      "cell_type": "code",
      "execution_count": null,
      "id": "09812ba8",
      "metadata": {
        "id": "09812ba8",
        "outputId": "f9ea673b-28af-4607-a0df-cc353d5b2ad4"
      },
      "outputs": [
        {
          "data": {
            "text/html": [
              "<div>\n",
              "<style scoped>\n",
              "    .dataframe tbody tr th:only-of-type {\n",
              "        vertical-align: middle;\n",
              "    }\n",
              "\n",
              "    .dataframe tbody tr th {\n",
              "        vertical-align: top;\n",
              "    }\n",
              "\n",
              "    .dataframe thead th {\n",
              "        text-align: right;\n",
              "    }\n",
              "</style>\n",
              "<table border=\"1\" class=\"dataframe\">\n",
              "  <thead>\n",
              "    <tr style=\"text-align: right;\">\n",
              "      <th></th>\n",
              "      <th>성별</th>\n",
              "    </tr>\n",
              "  </thead>\n",
              "  <tbody>\n",
              "    <tr>\n",
              "      <th>0</th>\n",
              "      <td>남성</td>\n",
              "    </tr>\n",
              "    <tr>\n",
              "      <th>1</th>\n",
              "      <td>여성</td>\n",
              "    </tr>\n",
              "    <tr>\n",
              "      <th>2</th>\n",
              "      <td>남성</td>\n",
              "    </tr>\n",
              "  </tbody>\n",
              "</table>\n",
              "</div>"
            ],
            "text/plain": [
              "   성별\n",
              "0  남성\n",
              "1  여성\n",
              "2  남성"
            ]
          },
          "execution_count": 81,
          "metadata": {},
          "output_type": "execute_result"
        }
      ],
      "source": [
        "# 데이터셋 생성\n",
        "X_train = pd.DataFrame([\"남성\",\"여성\",\"남성\",\"여성\",\"남성\",\"여성\"], columns = [\"성별\"])\n",
        "\n",
        "# 데이터 확인\n",
        "X_train.head(3)"
      ]
    },
    {
      "cell_type": "code",
      "execution_count": null,
      "id": "1f517458",
      "metadata": {
        "id": "1f517458",
        "outputId": "24b942f0-5833-4eb6-d5ea-6788e1637a33"
      },
      "outputs": [
        {
          "name": "stdout",
          "output_type": "stream",
          "text": [
            "<class 'pandas.core.frame.DataFrame'>\n",
            "RangeIndex: 6 entries, 0 to 5\n",
            "Data columns (total 1 columns):\n",
            " #   Column  Non-Null Count  Dtype \n",
            "---  ------  --------------  ----- \n",
            " 0   성별      6 non-null      object\n",
            "dtypes: object(1)\n",
            "memory usage: 176.0+ bytes\n"
          ]
        }
      ],
      "source": [
        "X_train.info() "
      ]
    },
    {
      "cell_type": "code",
      "execution_count": null,
      "id": "eac765b2",
      "metadata": {
        "id": "eac765b2",
        "outputId": "7bb2c25a-aa0b-4192-d083-e658bf664294"
      },
      "outputs": [
        {
          "data": {
            "text/plain": [
              "남성    3\n",
              "여성    3\n",
              "Name: 성별, dtype: int64"
            ]
          },
          "execution_count": 83,
          "metadata": {},
          "output_type": "execute_result"
        }
      ],
      "source": [
        "# 개체당 갯수 확인\n",
        "\n",
        "X_train.성별.value_counts()"
      ]
    },
    {
      "cell_type": "markdown",
      "id": "c2138886",
      "metadata": {
        "id": "c2138886"
      },
      "source": [
        "### 라벨인코딩"
      ]
    },
    {
      "cell_type": "code",
      "execution_count": null,
      "id": "08c279c4",
      "metadata": {
        "id": "08c279c4"
      },
      "outputs": [],
      "source": [
        "# 라벨 인코더 생성\n",
        "encoder = LabelEncoder()\n",
        "\n",
        "# 피팅 후 변환\n",
        "X_train[\"성별_인코딩\"] = encoder.fit_transform(X_train[\"성별\"])\n"
      ]
    },
    {
      "cell_type": "code",
      "execution_count": null,
      "id": "80785a34",
      "metadata": {
        "id": "80785a34",
        "outputId": "fd11b548-3495-44cb-90ee-7886f2f63dd0"
      },
      "outputs": [
        {
          "name": "stdout",
          "output_type": "stream",
          "text": [
            "   성별  성별_인코딩\n",
            "0  남성       0\n",
            "1  여성       1\n",
            "2  남성       0\n",
            "3  여성       1\n",
            "4  남성       0\n",
            "5  여성       1 \n",
            "\n",
            " ['남성', '여성'] \n",
            "\n",
            " ['여성', '남성']\n"
          ]
        }
      ],
      "source": [
        "# 인코딩 결과 확인\n",
        "print(X_train,\"\\n\\n\",\n",
        "     list(encoder.classes_),\"\\n\\n\",   # 클래스 확인\n",
        "     list(encoder.inverse_transform([1,0]))) # 인코딩 값으로 문자값 확인"
      ]
    },
    {
      "cell_type": "markdown",
      "id": "ad3cd8a0",
      "metadata": {
        "id": "ad3cd8a0"
      },
      "source": [
        "### 원핫인코딩"
      ]
    },
    {
      "cell_type": "code",
      "execution_count": null,
      "id": "905c98e1",
      "metadata": {
        "id": "905c98e1",
        "outputId": "c292a654-1a0a-49bf-c224-6669409306f1"
      },
      "outputs": [
        {
          "data": {
            "text/html": [
              "<div>\n",
              "<style scoped>\n",
              "    .dataframe tbody tr th:only-of-type {\n",
              "        vertical-align: middle;\n",
              "    }\n",
              "\n",
              "    .dataframe tbody tr th {\n",
              "        vertical-align: top;\n",
              "    }\n",
              "\n",
              "    .dataframe thead th {\n",
              "        text-align: right;\n",
              "    }\n",
              "</style>\n",
              "<table border=\"1\" class=\"dataframe\">\n",
              "  <thead>\n",
              "    <tr style=\"text-align: right;\">\n",
              "      <th></th>\n",
              "      <th>성별</th>\n",
              "      <th>성별_인코딩</th>\n",
              "    </tr>\n",
              "  </thead>\n",
              "  <tbody>\n",
              "    <tr>\n",
              "      <th>0</th>\n",
              "      <td>남성</td>\n",
              "      <td>0</td>\n",
              "    </tr>\n",
              "    <tr>\n",
              "      <th>1</th>\n",
              "      <td>여성</td>\n",
              "      <td>1</td>\n",
              "    </tr>\n",
              "    <tr>\n",
              "      <th>2</th>\n",
              "      <td>남성</td>\n",
              "      <td>0</td>\n",
              "    </tr>\n",
              "  </tbody>\n",
              "</table>\n",
              "</div>"
            ],
            "text/plain": [
              "   성별  성별_인코딩\n",
              "0  남성       0\n",
              "1  여성       1\n",
              "2  남성       0"
            ]
          },
          "execution_count": 86,
          "metadata": {},
          "output_type": "execute_result"
        }
      ],
      "source": [
        "X_train.head(3)"
      ]
    },
    {
      "cell_type": "code",
      "execution_count": null,
      "id": "6b5a1928",
      "metadata": {
        "id": "6b5a1928",
        "outputId": "2c081285-84fd-48e4-e48b-c4153d479e65"
      },
      "outputs": [
        {
          "data": {
            "text/plain": [
              "array([[1., 0.],\n",
              "       [0., 1.],\n",
              "       [1., 0.],\n",
              "       [0., 1.],\n",
              "       [1., 0.],\n",
              "       [0., 1.]])"
            ]
          },
          "execution_count": 87,
          "metadata": {},
          "output_type": "execute_result"
        }
      ],
      "source": [
        "# 원핫인코더 생성\n",
        "# sparse = True 설정할경우 행렬의 좌표리스트 형식, False의 경우 넘파이 배열로 반환\n",
        "\n",
        "ohe = OneHotEncoder(sparse = False)\n",
        "\n",
        "# X_train data를 이용하여 피팅\n",
        "\n",
        "ohe.fit_transform(X_train[[\"성별\"]])"
      ]
    },
    {
      "cell_type": "code",
      "execution_count": null,
      "id": "7d822251",
      "metadata": {
        "id": "7d822251",
        "outputId": "13d59af6-ee3d-423d-fea2-d53f64c422fb"
      },
      "outputs": [
        {
          "name": "stdout",
          "output_type": "stream",
          "text": [
            "['x0_남성' 'x0_여성']\n"
          ]
        }
      ],
      "source": [
        "# 더미화된 feature 확인\n",
        "\n",
        "print(ohe.get_feature_names())"
      ]
    },
    {
      "cell_type": "markdown",
      "id": "c21f10e8",
      "metadata": {
        "id": "c21f10e8"
      },
      "source": [
        "## 텍스트  데이터 실수화"
      ]
    },
    {
      "cell_type": "markdown",
      "id": "5b022848",
      "metadata": {
        "id": "5b022848"
      },
      "source": [
        "### 단어의 빈도수를 카운트하여 수치화\n",
        "- CountVectorizer 함수: 문서집합에서 단어 토큰을 생성하고 각 단어의 수를 세어 Bag of Words로 인코딩하는 함수"
      ]
    },
    {
      "cell_type": "code",
      "execution_count": null,
      "id": "d48a5fe5",
      "metadata": {
        "id": "d48a5fe5"
      },
      "outputs": [],
      "source": [
        "# 라이브러리 임포트\n",
        "\n",
        "from sklearn.feature_extraction.text import CountVectorizer"
      ]
    },
    {
      "cell_type": "code",
      "execution_count": null,
      "id": "74383fcf",
      "metadata": {
        "id": "74383fcf",
        "outputId": "9feee921-6f87-4f7e-dee6-26ab016a8081"
      },
      "outputs": [
        {
          "name": "stdout",
          "output_type": "stream",
          "text": [
            "['청년 인재 개발 양성 과정', '인공지능 청년 양성', '미래 인공지능 데이터 대한민국', '데이터 원유 기술사 청년 개발']\n"
          ]
        }
      ],
      "source": [
        "# 데이터셋 생성\n",
        "corpus = [\n",
        "    '청년 인재 개발 양성 과정',\n",
        "    '인공지능 청년 양성',\n",
        "    '미래 인공지능 데이터 대한민국',\n",
        "    '데이터 원유 기술사 청년 개발'\n",
        "]\n",
        "\n",
        "print(corpus)"
      ]
    },
    {
      "cell_type": "code",
      "execution_count": null,
      "id": "a65f999e",
      "metadata": {
        "id": "a65f999e",
        "outputId": "4ba81e5e-f040-455c-e1d2-ae0c78e6132d"
      },
      "outputs": [
        {
          "data": {
            "text/plain": [
              "list"
            ]
          },
          "execution_count": 91,
          "metadata": {},
          "output_type": "execute_result"
        }
      ],
      "source": [
        "type(corpus) #list로 저장됨"
      ]
    },
    {
      "cell_type": "code",
      "execution_count": null,
      "id": "dd82dedf",
      "metadata": {
        "id": "dd82dedf",
        "outputId": "a2fd056e-234d-4003-fd6c-cc36dda47ad2"
      },
      "outputs": [
        {
          "data": {
            "text/plain": [
              "{'청년': 10,\n",
              " '인재': 9,\n",
              " '개발': 0,\n",
              " '양성': 6,\n",
              " '과정': 1,\n",
              " '인공지능': 8,\n",
              " '미래': 5,\n",
              " '데이터': 4,\n",
              " '대한민국': 3,\n",
              " '원유': 7,\n",
              " '기술사': 2}"
            ]
          },
          "execution_count": 92,
          "metadata": {},
          "output_type": "execute_result"
        }
      ],
      "source": [
        "### 텍스트 실수화\n",
        "\n",
        "# 카운트 벡터라이저 생성\n",
        "count_vect = CountVectorizer()\n",
        "\n",
        "# 단어 카운트\n",
        "count_vect.fit(corpus)\n",
        "\n",
        "# 단어 확인\n",
        "count_vect.vocabulary_"
      ]
    },
    {
      "cell_type": "code",
      "execution_count": null,
      "id": "d084b5f3",
      "metadata": {
        "id": "d084b5f3",
        "outputId": "38a0913b-f85c-4255-f397-53d8b082fd55"
      },
      "outputs": [
        {
          "data": {
            "text/plain": [
              "array([[1, 1, 0, 0, 0, 0, 1, 0, 0, 1, 1],\n",
              "       [0, 0, 0, 0, 0, 0, 1, 0, 1, 0, 1],\n",
              "       [0, 0, 0, 1, 1, 1, 0, 0, 1, 0, 0],\n",
              "       [1, 0, 1, 0, 1, 0, 0, 1, 0, 0, 1]], dtype=int64)"
            ]
          },
          "execution_count": 93,
          "metadata": {},
          "output_type": "execute_result"
        }
      ],
      "source": [
        "# 단어 벡터화한 값을 array로 변환하여 확인\n",
        "count_vect.transform(corpus).toarray()"
      ]
    },
    {
      "cell_type": "code",
      "execution_count": null,
      "id": "50e160a4",
      "metadata": {
        "id": "50e160a4",
        "outputId": "982faa26-13d0-4783-81ca-8c02f306ba87"
      },
      "outputs": [
        {
          "data": {
            "text/plain": [
              "<4x11 sparse matrix of type '<class 'numpy.int64'>'\n",
              "\twith 17 stored elements in Compressed Sparse Row format>"
            ]
          },
          "execution_count": 94,
          "metadata": {},
          "output_type": "execute_result"
        }
      ],
      "source": [
        "# 단어 벡터화\n",
        "\n",
        "features = count_vect.transform(corpus)\n",
        "\n",
        "features"
      ]
    },
    {
      "cell_type": "code",
      "execution_count": null,
      "id": "601a5651",
      "metadata": {
        "id": "601a5651",
        "outputId": "bcd05821-2f7b-45a4-a67a-e4b3be15e53a"
      },
      "outputs": [
        {
          "data": {
            "text/plain": [
              "['개발', '과정', '기술사', '대한민국', '데이터', '미래', '양성', '원유', '인공지능', '인재', '청년']"
            ]
          },
          "execution_count": 95,
          "metadata": {},
          "output_type": "execute_result"
        }
      ],
      "source": [
        "### 문서단어행렬로 변환\n",
        "\n",
        "# 속성 이름만 반환\n",
        "vocab = count_vect.get_feature_names()\n",
        "\n",
        "vocab"
      ]
    },
    {
      "cell_type": "code",
      "execution_count": null,
      "id": "a8522a35",
      "metadata": {
        "id": "a8522a35",
        "outputId": "f2a52dc3-9229-4e12-a407-ebfaa57351e2"
      },
      "outputs": [
        {
          "data": {
            "text/html": [
              "<div>\n",
              "<style scoped>\n",
              "    .dataframe tbody tr th:only-of-type {\n",
              "        vertical-align: middle;\n",
              "    }\n",
              "\n",
              "    .dataframe tbody tr th {\n",
              "        vertical-align: top;\n",
              "    }\n",
              "\n",
              "    .dataframe thead th {\n",
              "        text-align: right;\n",
              "    }\n",
              "</style>\n",
              "<table border=\"1\" class=\"dataframe\">\n",
              "  <thead>\n",
              "    <tr style=\"text-align: right;\">\n",
              "      <th></th>\n",
              "      <th>개발</th>\n",
              "      <th>과정</th>\n",
              "      <th>기술사</th>\n",
              "      <th>대한민국</th>\n",
              "      <th>데이터</th>\n",
              "      <th>미래</th>\n",
              "      <th>양성</th>\n",
              "      <th>원유</th>\n",
              "      <th>인공지능</th>\n",
              "      <th>인재</th>\n",
              "      <th>청년</th>\n",
              "    </tr>\n",
              "  </thead>\n",
              "  <tbody>\n",
              "    <tr>\n",
              "      <th>0</th>\n",
              "      <td>1</td>\n",
              "      <td>1</td>\n",
              "      <td>0</td>\n",
              "      <td>0</td>\n",
              "      <td>0</td>\n",
              "      <td>0</td>\n",
              "      <td>1</td>\n",
              "      <td>0</td>\n",
              "      <td>0</td>\n",
              "      <td>1</td>\n",
              "      <td>1</td>\n",
              "    </tr>\n",
              "    <tr>\n",
              "      <th>1</th>\n",
              "      <td>0</td>\n",
              "      <td>0</td>\n",
              "      <td>0</td>\n",
              "      <td>0</td>\n",
              "      <td>0</td>\n",
              "      <td>0</td>\n",
              "      <td>1</td>\n",
              "      <td>0</td>\n",
              "      <td>1</td>\n",
              "      <td>0</td>\n",
              "      <td>1</td>\n",
              "    </tr>\n",
              "    <tr>\n",
              "      <th>2</th>\n",
              "      <td>0</td>\n",
              "      <td>0</td>\n",
              "      <td>0</td>\n",
              "      <td>1</td>\n",
              "      <td>1</td>\n",
              "      <td>1</td>\n",
              "      <td>0</td>\n",
              "      <td>0</td>\n",
              "      <td>1</td>\n",
              "      <td>0</td>\n",
              "      <td>0</td>\n",
              "    </tr>\n",
              "    <tr>\n",
              "      <th>3</th>\n",
              "      <td>1</td>\n",
              "      <td>0</td>\n",
              "      <td>1</td>\n",
              "      <td>0</td>\n",
              "      <td>1</td>\n",
              "      <td>0</td>\n",
              "      <td>0</td>\n",
              "      <td>1</td>\n",
              "      <td>0</td>\n",
              "      <td>0</td>\n",
              "      <td>1</td>\n",
              "    </tr>\n",
              "  </tbody>\n",
              "</table>\n",
              "</div>"
            ],
            "text/plain": [
              "   개발  과정  기술사  대한민국  데이터  미래  양성  원유  인공지능  인재  청년\n",
              "0   1   1    0     0    0   0   1   0     0   1   1\n",
              "1   0   0    0     0    0   0   1   0     1   0   1\n",
              "2   0   0    0     1    1   1   0   0     1   0   0\n",
              "3   1   0    1     0    1   0   0   1     0   0   1"
            ]
          },
          "execution_count": 96,
          "metadata": {},
          "output_type": "execute_result"
        }
      ],
      "source": [
        "DTM = pd.DataFrame(feature.toarray(),columns = vocab)\n",
        "\n",
        "DTM"
      ]
    },
    {
      "cell_type": "code",
      "execution_count": null,
      "id": "8bfaf74c",
      "metadata": {
        "id": "8bfaf74c",
        "outputId": "91fe3a13-6b75-4273-c4e2-4cbce123632c"
      },
      "outputs": [
        {
          "data": {
            "text/plain": [
              "array([[0, 0, 1, 1, 0, 0, 0, 0, 0, 1, 0]], dtype=int64)"
            ]
          },
          "execution_count": 97,
          "metadata": {},
          "output_type": "execute_result"
        }
      ],
      "source": [
        "#문서단어행렬에 일치하는 단어 확인\n",
        "count_vect.transform([\"기술사 대한민국 인재 만세\"]).toarray()"
      ]
    },
    {
      "cell_type": "markdown",
      "id": "eee0dd27",
      "metadata": {
        "id": "eee0dd27"
      },
      "source": [
        "### 단어의 빈도수를 단어들마다 중요한 정도를 가중치로 주어 수치화(TF-IDF score)\n",
        "- TfidfVectorizer 함수: TF-IDF 방식으로 단어의 가중치를 조정한 BOW로 인코딩하는 방법"
      ]
    },
    {
      "cell_type": "code",
      "execution_count": null,
      "id": "3ec5dd9c",
      "metadata": {
        "id": "3ec5dd9c"
      },
      "outputs": [],
      "source": [
        "### 라이브러리 호출\n",
        "\n",
        "from sklearn.feature_extraction.text import TfidfVectorizer"
      ]
    },
    {
      "cell_type": "code",
      "execution_count": null,
      "id": "d505292b",
      "metadata": {
        "id": "d505292b",
        "outputId": "01e88679-f8d4-4904-b86f-d55f84306d60"
      },
      "outputs": [
        {
          "data": {
            "text/plain": [
              "['청년 인재 개발 양성 과정', '인공지능 청년 양성', '미래 인공지능 데이터 대한민국', '데이터 원유 기술사 청년 개발']"
            ]
          },
          "execution_count": 99,
          "metadata": {},
          "output_type": "execute_result"
        }
      ],
      "source": [
        "# 데이터셋 확인\n",
        "corpus"
      ]
    },
    {
      "cell_type": "code",
      "execution_count": null,
      "id": "56b3eab0",
      "metadata": {
        "id": "56b3eab0",
        "outputId": "9c415041-1890-4a89-dc4a-1506da47fe28"
      },
      "outputs": [
        {
          "data": {
            "text/plain": [
              "{'청년': 10,\n",
              " '인재': 9,\n",
              " '개발': 0,\n",
              " '양성': 6,\n",
              " '과정': 1,\n",
              " '인공지능': 8,\n",
              " '미래': 5,\n",
              " '데이터': 4,\n",
              " '대한민국': 3,\n",
              " '원유': 7,\n",
              " '기술사': 2}"
            ]
          },
          "execution_count": 100,
          "metadata": {},
          "output_type": "execute_result"
        }
      ],
      "source": [
        "### 텍스트 실수화 :TF-IDF 방식\n",
        "\n",
        "# TF-IDF 벡터라이저 생성\n",
        "tf_idf = TfidfVectorizer()\n",
        "\n",
        "# 단어 카운트\n",
        "tf_idf.fit(corpus)\n",
        "\n",
        "# 단어사전 확인\n",
        "tf_idf.vocabulary_"
      ]
    },
    {
      "cell_type": "code",
      "execution_count": null,
      "id": "7aa2afb8",
      "metadata": {
        "id": "7aa2afb8",
        "outputId": "c2295c68-b1a3-46da-8f92-1afb947445ed"
      },
      "outputs": [
        {
          "data": {
            "text/plain": [
              "array([[0.41263976, 0.52338122, 0.        , 0.        , 0.        ,\n",
              "        0.        , 0.41263976, 0.        , 0.        , 0.52338122,\n",
              "        0.33406745],\n",
              "       [0.        , 0.        , 0.        , 0.        , 0.        ,\n",
              "        0.        , 0.61366674, 0.        , 0.61366674, 0.        ,\n",
              "        0.49681612],\n",
              "       [0.        , 0.        , 0.        , 0.55528266, 0.43779123,\n",
              "        0.55528266, 0.        , 0.        , 0.43779123, 0.        ,\n",
              "        0.        ],\n",
              "       [0.41263976, 0.        , 0.52338122, 0.        , 0.41263976,\n",
              "        0.        , 0.        , 0.52338122, 0.        , 0.        ,\n",
              "        0.33406745]])"
            ]
          },
          "execution_count": 101,
          "metadata": {},
          "output_type": "execute_result"
        }
      ],
      "source": [
        "# 단어 벡터화한 값을 array로 변환하여 확인\n",
        "tf_idf.transform(corpus).toarray()"
      ]
    },
    {
      "cell_type": "code",
      "execution_count": null,
      "id": "60516e55",
      "metadata": {
        "id": "60516e55",
        "outputId": "58b2438e-96f5-4c33-9aaf-fb71f566055c"
      },
      "outputs": [
        {
          "data": {
            "text/plain": [
              "<4x11 sparse matrix of type '<class 'numpy.float64'>'\n",
              "\twith 17 stored elements in Compressed Sparse Row format>"
            ]
          },
          "execution_count": 102,
          "metadata": {},
          "output_type": "execute_result"
        }
      ],
      "source": [
        "# 단어 벡터화\n",
        "features_tfidf = tf_idf.transform(corpus)\n",
        "\n",
        "features_tfidf"
      ]
    },
    {
      "cell_type": "code",
      "execution_count": null,
      "id": "4b2251a5",
      "metadata": {
        "id": "4b2251a5",
        "outputId": "d155122c-7d67-42f5-c76d-cf9d3ac97fa8"
      },
      "outputs": [
        {
          "data": {
            "text/plain": [
              "['개발', '과정', '기술사', '대한민국', '데이터', '미래', '양성', '원유', '인공지능', '인재', '청년']"
            ]
          },
          "execution_count": 103,
          "metadata": {},
          "output_type": "execute_result"
        }
      ],
      "source": [
        "### 문서단어행렬로 변환\n",
        "\n",
        "#속성 이름만 반환\n",
        "vocab_tfidf = count_vect.get_feature_names()\n",
        "\n",
        "vocab_tfidf"
      ]
    },
    {
      "cell_type": "code",
      "execution_count": null,
      "id": "e0bca435",
      "metadata": {
        "id": "e0bca435",
        "outputId": "dcacae5b-f508-4a1c-f655-6f663a5449ea"
      },
      "outputs": [
        {
          "data": {
            "text/html": [
              "<div>\n",
              "<style scoped>\n",
              "    .dataframe tbody tr th:only-of-type {\n",
              "        vertical-align: middle;\n",
              "    }\n",
              "\n",
              "    .dataframe tbody tr th {\n",
              "        vertical-align: top;\n",
              "    }\n",
              "\n",
              "    .dataframe thead th {\n",
              "        text-align: right;\n",
              "    }\n",
              "</style>\n",
              "<table border=\"1\" class=\"dataframe\">\n",
              "  <thead>\n",
              "    <tr style=\"text-align: right;\">\n",
              "      <th></th>\n",
              "      <th>개발</th>\n",
              "      <th>과정</th>\n",
              "      <th>기술사</th>\n",
              "      <th>대한민국</th>\n",
              "      <th>데이터</th>\n",
              "      <th>미래</th>\n",
              "      <th>양성</th>\n",
              "      <th>원유</th>\n",
              "      <th>인공지능</th>\n",
              "      <th>인재</th>\n",
              "      <th>청년</th>\n",
              "    </tr>\n",
              "  </thead>\n",
              "  <tbody>\n",
              "    <tr>\n",
              "      <th>0</th>\n",
              "      <td>0.41264</td>\n",
              "      <td>0.523381</td>\n",
              "      <td>0.000000</td>\n",
              "      <td>0.000000</td>\n",
              "      <td>0.000000</td>\n",
              "      <td>0.000000</td>\n",
              "      <td>0.412640</td>\n",
              "      <td>0.000000</td>\n",
              "      <td>0.000000</td>\n",
              "      <td>0.523381</td>\n",
              "      <td>0.334067</td>\n",
              "    </tr>\n",
              "    <tr>\n",
              "      <th>1</th>\n",
              "      <td>0.00000</td>\n",
              "      <td>0.000000</td>\n",
              "      <td>0.000000</td>\n",
              "      <td>0.000000</td>\n",
              "      <td>0.000000</td>\n",
              "      <td>0.000000</td>\n",
              "      <td>0.613667</td>\n",
              "      <td>0.000000</td>\n",
              "      <td>0.613667</td>\n",
              "      <td>0.000000</td>\n",
              "      <td>0.496816</td>\n",
              "    </tr>\n",
              "    <tr>\n",
              "      <th>2</th>\n",
              "      <td>0.00000</td>\n",
              "      <td>0.000000</td>\n",
              "      <td>0.000000</td>\n",
              "      <td>0.555283</td>\n",
              "      <td>0.437791</td>\n",
              "      <td>0.555283</td>\n",
              "      <td>0.000000</td>\n",
              "      <td>0.000000</td>\n",
              "      <td>0.437791</td>\n",
              "      <td>0.000000</td>\n",
              "      <td>0.000000</td>\n",
              "    </tr>\n",
              "    <tr>\n",
              "      <th>3</th>\n",
              "      <td>0.41264</td>\n",
              "      <td>0.000000</td>\n",
              "      <td>0.523381</td>\n",
              "      <td>0.000000</td>\n",
              "      <td>0.412640</td>\n",
              "      <td>0.000000</td>\n",
              "      <td>0.000000</td>\n",
              "      <td>0.523381</td>\n",
              "      <td>0.000000</td>\n",
              "      <td>0.000000</td>\n",
              "      <td>0.334067</td>\n",
              "    </tr>\n",
              "  </tbody>\n",
              "</table>\n",
              "</div>"
            ],
            "text/plain": [
              "        개발        과정       기술사      대한민국       데이터        미래        양성  \\\n",
              "0  0.41264  0.523381  0.000000  0.000000  0.000000  0.000000  0.412640   \n",
              "1  0.00000  0.000000  0.000000  0.000000  0.000000  0.000000  0.613667   \n",
              "2  0.00000  0.000000  0.000000  0.555283  0.437791  0.555283  0.000000   \n",
              "3  0.41264  0.000000  0.523381  0.000000  0.412640  0.000000  0.000000   \n",
              "\n",
              "         원유      인공지능        인재        청년  \n",
              "0  0.000000  0.000000  0.523381  0.334067  \n",
              "1  0.000000  0.613667  0.000000  0.496816  \n",
              "2  0.000000  0.437791  0.000000  0.000000  \n",
              "3  0.523381  0.000000  0.000000  0.334067  "
            ]
          },
          "execution_count": 104,
          "metadata": {},
          "output_type": "execute_result"
        }
      ],
      "source": [
        "DTM_tfidf = pd.DataFrame(features_tfidf.toarray(),columns = vocab_tfidf)\n",
        "\n",
        "DTM_tfidf"
      ]
    }
  ],
  "metadata": {
    "kernelspec": {
      "display_name": "Python 3 (ipykernel)",
      "language": "python",
      "name": "python3"
    },
    "language_info": {
      "codemirror_mode": {
        "name": "ipython",
        "version": 3
      },
      "file_extension": ".py",
      "mimetype": "text/x-python",
      "name": "python",
      "nbconvert_exporter": "python",
      "pygments_lexer": "ipython3",
      "version": "3.9.12"
    },
    "colab": {
      "provenance": [],
      "include_colab_link": true
    }
  },
  "nbformat": 4,
  "nbformat_minor": 5
}