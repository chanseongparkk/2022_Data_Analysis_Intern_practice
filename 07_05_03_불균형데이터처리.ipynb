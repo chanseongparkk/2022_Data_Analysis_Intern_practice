{
  "nbformat": 4,
  "nbformat_minor": 0,
  "metadata": {
    "colab": {
      "provenance": [],
      "authorship_tag": "ABX9TyPfOAwf9dq60ooS/ImTc7Nu",
      "include_colab_link": true
    },
    "kernelspec": {
      "name": "python3",
      "display_name": "Python 3"
    },
    "language_info": {
      "name": "python"
    }
  },
  "cells": [
    {
      "cell_type": "markdown",
      "metadata": {
        "id": "view-in-github",
        "colab_type": "text"
      },
      "source": [
        "<a href=\"https://colab.research.google.com/github/chanseongparkk/2022_Data_Analysis_Intern_practice/blob/main/07_05_03_%EB%B6%88%EA%B7%A0%ED%98%95%EB%8D%B0%EC%9D%B4%ED%84%B0%EC%B2%98%EB%A6%AC.ipynb\" target=\"_parent\"><img src=\"https://colab.research.google.com/assets/colab-badge.svg\" alt=\"Open In Colab\"/></a>"
      ]
    },
    {
      "cell_type": "markdown",
      "source": [
        "### 1. 필요 라이브러리 import"
      ],
      "metadata": {
        "id": "Mb1tpx_Wp0CI"
      }
    },
    {
      "cell_type": "code",
      "source": [
        "#!pip install imbalanced-learn"
      ],
      "metadata": {
        "colab": {
          "base_uri": "https://localhost:8080/"
        },
        "id": "9Yo6D4Ku58M5",
        "outputId": "4dc3bbec-e66b-407c-f614-08540fa592c6"
      },
      "execution_count": null,
      "outputs": [
        {
          "output_type": "stream",
          "name": "stdout",
          "text": [
            "Looking in indexes: https://pypi.org/simple, https://us-python.pkg.dev/colab-wheels/public/simple/\n",
            "Requirement already satisfied: imbalanced-learn in /usr/local/lib/python3.7/dist-packages (0.8.1)\n",
            "Requirement already satisfied: scikit-learn>=0.24 in /usr/local/lib/python3.7/dist-packages (from imbalanced-learn) (1.0.2)\n",
            "Requirement already satisfied: numpy>=1.13.3 in /usr/local/lib/python3.7/dist-packages (from imbalanced-learn) (1.21.6)\n",
            "Requirement already satisfied: joblib>=0.11 in /usr/local/lib/python3.7/dist-packages (from imbalanced-learn) (1.1.0)\n",
            "Requirement already satisfied: scipy>=0.19.1 in /usr/local/lib/python3.7/dist-packages (from imbalanced-learn) (1.4.1)\n",
            "Requirement already satisfied: threadpoolctl>=2.0.0 in /usr/local/lib/python3.7/dist-packages (from scikit-learn>=0.24->imbalanced-learn) (3.1.0)\n"
          ]
        }
      ]
    },
    {
      "cell_type": "code",
      "execution_count": null,
      "metadata": {
        "id": "ceNqqjesn3dD"
      },
      "outputs": [],
      "source": [
        "import pandas as pd\n",
        "import numpy as np\n",
        "import matplotlib.pyplot as plt\n",
        "import seaborn as sns\n",
        "%matplotlib inline\n",
        "from sklearn.datasets import make_classification \n",
        "\n",
        "# os에 따른 font 깨짐 제거를 위해 font 지정\n",
        "\n",
        "import os\n",
        "\n",
        "if os.name == \"nt\":\n",
        "    font_family = \"Malgun Gothic\"\n",
        "else: #mac os\n",
        "    font_family = \"AppleGothic\"\n",
        "    \n",
        "# - 값이 깨지는 문제 해결을 위해 파라미터값 설정\n",
        "\n",
        "sns.set(font = font_family, rc = {\"axes.unicode_minus\" : False})\n",
        "\n",
        "import warnings\n",
        "warnings.filterwarnings(\"ignore\")\n",
        "\n",
        "# 불균형 데이터 처리 - 언더샘플링\n",
        "from imblearn.under_sampling import RandomUnderSampler\n",
        "from imblearn.under_sampling import TomekLinks\n",
        "from imblearn.under_sampling import OneSidedSelection\n",
        "\n",
        "# 불균형 데이터 처리 - 언더샘플링\n",
        "from imblearn.over_sampling import RandomOverSampler\n",
        "from imblearn.over_sampling import SMOTE\n",
        "from imblearn.over_sampling import ADASYN\n",
        "from imblearn.over_sampling import BorderlineSMOTE\n",
        "\n",
        "# 데이터 검증\n",
        "from sklearn.ensemble import RandomForestClassifier #랜덤포레스트\n",
        "from sklearn.model_selection import RepeatedStratifiedKFold #Cross-Validation\n",
        "from sklearn.model_selection import cross_validate #Cross-Validation\n",
        "\n",
        "# 불균형 데이터에 처리에 따른 랜덤포레스트 결과 확인 함수 생성\n",
        "def Randomforest_Result(x,y,title):\n",
        "  rf = RandomForestClassifier(criterion = \"entropy\")\n",
        "  cv_rf = RepeatedStratifiedKFold(n_splits = 10, n_repeats = 3, random_state = 1)\n",
        "  scores = cross_validate(rf,x,y, scoring = \"f1\", cv = cv_rf, n_jobs = -1)\n",
        "  print(title, \":\", \"3-Fold CV f1 score: %.4f\" % np.mean(scores[\"test_score\"]))\n",
        "\n",
        "  return\n"
      ]
    },
    {
      "cell_type": "markdown",
      "source": [
        "### 2. undersampling"
      ],
      "metadata": {
        "id": "FTS45Osvp3c2"
      }
    },
    {
      "cell_type": "markdown",
      "source": [
        "#### 2-1 데이터셋 준비 및 확인"
      ],
      "metadata": {
        "id": "k98EfNyCp57H"
      }
    },
    {
      "cell_type": "code",
      "source": [
        "# 데이터셋 준비\n",
        "X_data, y_class = make_classification(n_classes = 2, class_sep = 2, n_samples = 10000,\n",
        "                                      n_features = 20, weights = [0.9,0.1], flip_y = 0,\n",
        "                                      n_clusters_per_class = 1, random_state = 10)\n",
        "\n",
        "print(X_data.shape, y_class.shape)\n"
      ],
      "metadata": {
        "colab": {
          "base_uri": "https://localhost:8080/"
        },
        "id": "5_i4iMqjplKH",
        "outputId": "54a9d4fe-23c5-4102-c6da-0c97d492447a"
      },
      "execution_count": null,
      "outputs": [
        {
          "output_type": "stream",
          "name": "stdout",
          "text": [
            "(10000, 20) (10000,)\n"
          ]
        }
      ]
    },
    {
      "cell_type": "code",
      "source": [
        "# count_and_plot 그리기 함수\n",
        "from collections import Counter\n",
        "from matplotlib import pyplot\n",
        "def count_and_plot(y):\n",
        " counter = Counter(y)\n",
        " for k,v in counter.items ():\n",
        "  print('Class=%d, n=%d (%.3f%%)' % (k, v, v / len (y) * 100))\n",
        " pyplot.bar ( counter.keys (), counter.values ())\n",
        " pyplot.show() "
      ],
      "metadata": {
        "id": "PtAoqY1Yq7A_"
      },
      "execution_count": null,
      "outputs": []
    },
    {
      "cell_type": "code",
      "source": [
        "# 데이터셋 가시화\n",
        "plt.figure(figsize = (5,3))\n",
        "count_and_plot(y_class)"
      ],
      "metadata": {
        "colab": {
          "base_uri": "https://localhost:8080/",
          "height": 268
        },
        "id": "EQqsjpM4qstX",
        "outputId": "69c6261c-0fc0-40d2-c3fa-bee4e6f2260f"
      },
      "execution_count": null,
      "outputs": [
        {
          "output_type": "stream",
          "name": "stderr",
          "text": [
            "findfont: Font family ['AppleGothic'] not found. Falling back to DejaVu Sans.\n"
          ]
        },
        {
          "output_type": "stream",
          "name": "stdout",
          "text": [
            "Class=0, n=9000 (90.000%)\n",
            "Class=1, n=1000 (10.000%)\n"
          ]
        },
        {
          "output_type": "display_data",
          "data": {
            "text/plain": [
              "<Figure size 360x216 with 1 Axes>"
            ],
            "image/png": "[encoded data removed]"
          },
          "metadata": {}
        }
      ]
    },
    {
      "cell_type": "code",
      "source": [
        "Randomforest_Result(X_data, y_class, \"언더 샘플링_원본 데이터 결과\")"
      ],
      "metadata": {
        "colab": {
          "base_uri": "https://localhost:8080/"
        },
        "id": "eqOXL4aKrC2W",
        "outputId": "cec28a88-eae8-4ef8-ce7e-6b1f67ba5fc1"
      },
      "execution_count": null,
      "outputs": [
        {
          "output_type": "stream",
          "name": "stdout",
          "text": [
            "언더 샘플링 원본 데이터 결과 : 3-Fold CV f1 score: 0.9894\n"
          ]
        }
      ]
    },
    {
      "cell_type": "markdown",
      "source": [
        "#### 2-2 Random Under Sampling"
      ],
      "metadata": {
        "id": "2Zmbouc6rVq_"
      }
    },
    {
      "cell_type": "code",
      "source": [
        "# sampling_strategy =  \"majority\"(소수 집단과 동일하게 샘플링)\n",
        "under_random = RandomUnderSampler(sampling_strategy = \"majority\")\n",
        "X_random, y_random = under_random.fit_resample(X_data, y_class)"
      ],
      "metadata": {
        "id": "f81V8CnirTVo"
      },
      "execution_count": null,
      "outputs": []
    },
    {
      "cell_type": "code",
      "source": [
        "plt.figure(figsize = (5,3))\n",
        "count_and_plot(y_random)"
      ],
      "metadata": {
        "colab": {
          "base_uri": "https://localhost:8080/",
          "height": 249
        },
        "id": "K7nHq3-4r6-_",
        "outputId": "bf423d6a-5b96-45f7-fdd4-4711e595f822"
      },
      "execution_count": null,
      "outputs": [
        {
          "output_type": "stream",
          "name": "stdout",
          "text": [
            "Class=0, n=1000 (50.000%)\n",
            "Class=1, n=1000 (50.000%)\n"
          ]
        },
        {
          "output_type": "display_data",
          "data": {
            "text/plain": [
              "<Figure size 360x216 with 1 Axes>"
            ],
            "image/png": "[encoded data removed]"
          },
          "metadata": {}
        }
      ]
    },
    {
      "cell_type": "code",
      "source": [
        "Randomforest_Result(X_random,y_random, \"언더샘플링_랜덤언더샘플링 결과\")"
      ],
      "metadata": {
        "colab": {
          "base_uri": "https://localhost:8080/"
        },
        "id": "zh9WCzmrsB2Q",
        "outputId": "dec1c8e3-d272-4b7a-b55c-c1cac52fec00"
      },
      "execution_count": null,
      "outputs": [
        {
          "output_type": "stream",
          "name": "stdout",
          "text": [
            "언더샘플링_랜덤언더샘플링 결과 : 3-Fold CV f1 score: 0.9948\n"
          ]
        }
      ]
    },
    {
      "cell_type": "code",
      "source": [
        "# sampling_strategy\n",
        "# 0과 1 사이의 숫자를 지정하여 샘플링\n",
        "under_random_05 = RandomUnderSampler(sampling_strategy = 0.5)\n",
        "X_random_05, y_random_05 = under_random_05.fit_resample(X_data,y_class)"
      ],
      "metadata": {
        "id": "iY0qpiZsswUP"
      },
      "execution_count": null,
      "outputs": []
    },
    {
      "cell_type": "code",
      "source": [
        "plt.figure(figsize = (5,3))\n",
        "count_and_plot(y_random_05)"
      ],
      "metadata": {
        "colab": {
          "base_uri": "https://localhost:8080/",
          "height": 249
        },
        "id": "bSOz6TyKsmJ4",
        "outputId": "1ed8e2f9-d565-497e-9843-578067cf2b06"
      },
      "execution_count": null,
      "outputs": [
        {
          "output_type": "stream",
          "name": "stdout",
          "text": [
            "Class=0, n=2000 (66.667%)\n",
            "Class=1, n=1000 (33.333%)\n"
          ]
        },
        {
          "output_type": "display_data",
          "data": {
            "text/plain": [
              "<Figure size 360x216 with 1 Axes>"
            ],
            "image/png": "[encoded data removed]"
          },
          "metadata": {}
        }
      ]
    },
    {
      "cell_type": "code",
      "source": [
        "Randomforest_Result(X_random_05, y_random_05, \"언더샘플링_랜덤샘플링비율 5:5 결과\")"
      ],
      "metadata": {
        "colab": {
          "base_uri": "https://localhost:8080/"
        },
        "id": "zZ8I7MYetQrB",
        "outputId": "e9f49fe1-daee-4d1b-9514-ee38d4d0b0d1"
      },
      "execution_count": null,
      "outputs": [
        {
          "output_type": "stream",
          "name": "stdout",
          "text": [
            "언더샘플링_랜덤샘플링비율 5:5_결과 : 3-Fold CV f1 score: 0.9940\n"
          ]
        }
      ]
    },
    {
      "cell_type": "markdown",
      "source": [
        "#### 2-3 TomekLinks"
      ],
      "metadata": {
        "id": "0kNgWbtxtgdf"
      }
    },
    {
      "cell_type": "code",
      "source": [
        "# 토멕링크\n",
        "tl = TomekLinks()\n",
        "X_tl, y_tl = tl.fit_resample(X_data, y_class)"
      ],
      "metadata": {
        "id": "SflONfN6tgLw"
      },
      "execution_count": null,
      "outputs": []
    },
    {
      "cell_type": "code",
      "source": [
        "plt.figure(figsize = (5,3))\n",
        "count_and_plot(y_tl)"
      ],
      "metadata": {
        "colab": {
          "base_uri": "https://localhost:8080/",
          "height": 249
        },
        "id": "PzVzXcr_t1YZ",
        "outputId": "6c7a5d68-ce5e-445f-f727-97ad24a22d8a"
      },
      "execution_count": null,
      "outputs": [
        {
          "output_type": "stream",
          "name": "stdout",
          "text": [
            "Class=0, n=8993 (89.993%)\n",
            "Class=1, n=1000 (10.007%)\n"
          ]
        },
        {
          "output_type": "display_data",
          "data": {
            "text/plain": [
              "<Figure size 360x216 with 1 Axes>"
            ],
            "image/png": "[encoded data removed]"
          },
          "metadata": {}
        }
      ]
    },
    {
      "cell_type": "code",
      "source": [
        "Randomforest_Result(X_tl, y_tl, \"언더샘플링_토멕링크 결과\")"
      ],
      "metadata": {
        "colab": {
          "base_uri": "https://localhost:8080/"
        },
        "id": "uLMHITP7t_B_",
        "outputId": "235e7314-7406-4999-fe9a-b487eeaebe55"
      },
      "execution_count": null,
      "outputs": [
        {
          "output_type": "stream",
          "name": "stdout",
          "text": [
            "언더샘플링_토멕링크_결과 : 3-Fold CV f1 score: 0.9891\n"
          ]
        }
      ]
    },
    {
      "cell_type": "markdown",
      "source": [
        "#### 2-4 OSS(OneSidedSelection)"
      ],
      "metadata": {
        "id": "ue-fOcJKuSK3"
      }
    },
    {
      "cell_type": "code",
      "source": [
        "# OSS\n",
        "oss = OneSidedSelection(random_state = 42)\n",
        "X_oss, y_oss = oss.fit_resample(X_data, y_class)"
      ],
      "metadata": {
        "id": "gvOi1kInuQKo"
      },
      "execution_count": null,
      "outputs": []
    },
    {
      "cell_type": "code",
      "source": [
        "plt.figure(figsize=(5,3))\n",
        "count_and_plot(y_oss)"
      ],
      "metadata": {
        "colab": {
          "base_uri": "https://localhost:8080/",
          "height": 252
        },
        "id": "UrVoGRHJuinC",
        "outputId": "95351ba8-d723-483b-d5ee-0cf8867e4b4c"
      },
      "execution_count": null,
      "outputs": [
        {
          "output_type": "stream",
          "name": "stdout",
          "text": [
            "Class=0, n=7666 (88.461%)\n",
            "Class=1, n=1000 (11.539%)\n"
          ]
        },
        {
          "output_type": "display_data",
          "data": {
            "text/plain": [
              "<Figure size 360x216 with 1 Axes>"
            ],
            "image/png": "[encoded data removed]"
          },
          "metadata": {}
        }
      ]
    },
    {
      "cell_type": "code",
      "source": [
        "Randomforest_Result(X_oss, y_oss, \"언더샘플링_OSS 결과\")"
      ],
      "metadata": {
        "colab": {
          "base_uri": "https://localhost:8080/"
        },
        "id": "QhyirNHA8lLU",
        "outputId": "54907539-f5e3-45c3-ee7e-a3c6e8f11949"
      },
      "execution_count": null,
      "outputs": [
        {
          "output_type": "stream",
          "name": "stdout",
          "text": [
            "언더샘플링_OSS 결과 : 3-Fold CV f1 score: 0.9893\n"
          ]
        }
      ]
    },
    {
      "cell_type": "markdown",
      "source": [
        "### 3. Oversampling"
      ],
      "metadata": {
        "id": "NpcS4sKbuvt4"
      }
    },
    {
      "cell_type": "markdown",
      "source": [
        "#### 3-1 데이터셋 준비 및 확인"
      ],
      "metadata": {
        "id": "bv4YYTHhu0MH"
      }
    },
    {
      "cell_type": "code",
      "source": [
        "# 데이터셋 준비\n",
        "X_data, y_class = make_classification(n_classes = 2, class_sep = 2, n_samples = 10000,\n",
        "                                      n_features = 20, weights = [0.9,0.1], flip_y = 0,\n",
        "                                      n_clusters_per_class = 1, random_state = 10)\n",
        "\n",
        "print(X_data.shape, y_class.shape)\n",
        "\n",
        "\n",
        "plt.figure(figsize=(5,4))\n",
        "count_and_plot(y_class)"
      ],
      "metadata": {
        "colab": {
          "base_uri": "https://localhost:8080/",
          "height": 323
        },
        "id": "FSxdvhxAuu4v",
        "outputId": "9dbe56b0-65b0-4215-d4c2-cc80dd224d60"
      },
      "execution_count": null,
      "outputs": [
        {
          "output_type": "stream",
          "name": "stdout",
          "text": [
            "(10000, 20) (10000,)\n",
            "Class=0, n=9000 (90.000%)\n",
            "Class=1, n=1000 (10.000%)\n"
          ]
        },
        {
          "output_type": "display_data",
          "data": {
            "text/plain": [
              "<Figure size 360x288 with 1 Axes>"
            ],
            "image/png": "[encoded data removed]"
          },
          "metadata": {}
        }
      ]
    },
    {
      "cell_type": "code",
      "source": [
        "Randomforest_Result(X_data, y_class, \"오버샘플링_원본데이터 결과\")"
      ],
      "metadata": {
        "colab": {
          "base_uri": "https://localhost:8080/"
        },
        "id": "jZfdHD8FvBq_",
        "outputId": "972869b0-a422-4172-e8a5-e5403a2fbea7"
      },
      "execution_count": null,
      "outputs": [
        {
          "output_type": "stream",
          "name": "stdout",
          "text": [
            "오버샘플링_원본데이터 결과 : 3-Fold CV f1 score: 0.9886\n"
          ]
        }
      ]
    },
    {
      "cell_type": "markdown",
      "source": [
        "#### 3-2 RandomOverSampling"
      ],
      "metadata": {
        "id": "9UvSDVcjvRcJ"
      }
    },
    {
      "cell_type": "code",
      "source": [
        "# 랜덤오버샘플링\n",
        "\n",
        "ros = RandomOverSampler(random_state = 42)\n",
        "X_ros, y_ros = ros.fit_resample(X_data, y_class)"
      ],
      "metadata": {
        "id": "Bz0O5880vO8w"
      },
      "execution_count": null,
      "outputs": []
    },
    {
      "cell_type": "code",
      "source": [
        "plt.figure(figsize = (5,3))\n",
        "count_and_plot(y_ros)"
      ],
      "metadata": {
        "colab": {
          "base_uri": "https://localhost:8080/",
          "height": 249
        },
        "id": "kCAw-0yLwrKI",
        "outputId": "f7251d15-8869-4bc2-ced0-41ea46e06bd8"
      },
      "execution_count": null,
      "outputs": [
        {
          "output_type": "stream",
          "name": "stdout",
          "text": [
            "Class=0, n=9000 (50.000%)\n",
            "Class=1, n=9000 (50.000%)\n"
          ]
        },
        {
          "output_type": "display_data",
          "data": {
            "text/plain": [
              "<Figure size 360x216 with 1 Axes>"
            ],
            "image/png": "[encoded data removed]"
          },
          "metadata": {}
        }
      ]
    },
    {
      "cell_type": "markdown",
      "source": [
        "#### 3-3 SMOTE"
      ],
      "metadata": {
        "id": "tiLFimVVw14C"
      }
    },
    {
      "cell_type": "code",
      "source": [
        "# SMOTE\n",
        "smote = SMOTE()\n",
        "X_sm, y_sm = smote.fit_resample(X_data,y_class)"
      ],
      "metadata": {
        "id": "XT7I2lgrw1Bi"
      },
      "execution_count": null,
      "outputs": []
    },
    {
      "cell_type": "code",
      "source": [
        "plt.figure(figsize = (5,3))\n",
        "count_and_plot(y_sm)"
      ],
      "metadata": {
        "colab": {
          "base_uri": "https://localhost:8080/",
          "height": 249
        },
        "id": "hTZlsUrwxP54",
        "outputId": "03c37b61-3d43-486b-bed8-a664f2b4bfbe"
      },
      "execution_count": null,
      "outputs": [
        {
          "output_type": "stream",
          "name": "stdout",
          "text": [
            "Class=0, n=9000 (50.000%)\n",
            "Class=1, n=9000 (50.000%)\n"
          ]
        },
        {
          "output_type": "display_data",
          "data": {
            "text/plain": [
              "<Figure size 360x216 with 1 Axes>"
            ],
            "image/png": "[encoded data removed]"
          },
          "metadata": {}
        }
      ]
    },
    {
      "cell_type": "code",
      "source": [
        "Randomforest_Result(X_sm, y_sm, \"오버샘플링_smote 결과\")"
      ],
      "metadata": {
        "colab": {
          "base_uri": "https://localhost:8080/"
        },
        "id": "HiEGR64DxcIa",
        "outputId": "e9613732-30bb-453b-f5ce-0e0afa3a4e1c"
      },
      "execution_count": null,
      "outputs": [
        {
          "output_type": "stream",
          "name": "stdout",
          "text": [
            "오버샘플림_smote 결과 : 3-Fold CV f1 score: 0.9984\n"
          ]
        }
      ]
    },
    {
      "cell_type": "markdown",
      "source": [
        "#### 3-4 ADASYN"
      ],
      "metadata": {
        "id": "8IEVTlsHxbjY"
      }
    },
    {
      "cell_type": "code",
      "source": [
        "# ADASYN\n",
        "\n",
        "ada = ADASYN(random_state = 42)\n",
        "X_ada, y_ada = ada.fit_resample(X_data, y_class)"
      ],
      "metadata": {
        "id": "eK00joK3xluo"
      },
      "execution_count": null,
      "outputs": []
    },
    {
      "cell_type": "code",
      "source": [
        "plt.figure(figsize = (5,3))\n",
        "count_and_plot(y_ada)"
      ],
      "metadata": {
        "colab": {
          "base_uri": "https://localhost:8080/",
          "height": 249
        },
        "id": "6i1cIOMZxwcY",
        "outputId": "c10ba670-a09e-4b57-cb4e-d074a137dc13"
      },
      "execution_count": null,
      "outputs": [
        {
          "output_type": "stream",
          "name": "stdout",
          "text": [
            "Class=0, n=9000 (49.972%)\n",
            "Class=1, n=9010 (50.028%)\n"
          ]
        },
        {
          "output_type": "display_data",
          "data": {
            "text/plain": [
              "<Figure size 360x216 with 1 Axes>"
            ],
            "image/png": "[encoded data removed]"
          },
          "metadata": {}
        }
      ]
    },
    {
      "cell_type": "code",
      "source": [
        "Randomforest_Result(X_ada, y_ada, \"오버샘플링_ADASYN 결과\")"
      ],
      "metadata": {
        "colab": {
          "base_uri": "https://localhost:8080/"
        },
        "id": "LvvWikUux286",
        "outputId": "68bf4ba3-cd8e-4e0b-fc60-b1230833e100"
      },
      "execution_count": null,
      "outputs": [
        {
          "output_type": "stream",
          "name": "stdout",
          "text": [
            "오버샘플링_ADASYN : 3-Fold CV f1 score: 0.9986\n"
          ]
        }
      ]
    },
    {
      "cell_type": "markdown",
      "source": [
        "#### 3-5 boderline SMOTE"
      ],
      "metadata": {
        "id": "-EUvITAUx9h_"
      }
    },
    {
      "cell_type": "code",
      "source": [
        "# Boderline Smote\n",
        "\n",
        "bor_sm = BorderlineSMOTE(random_state = 42)\n",
        "X_bor_sm, y_bor_sm = bor_sm.fit_resample(X_data, y_class)"
      ],
      "metadata": {
        "id": "EqKFvE3yyCaX"
      },
      "execution_count": null,
      "outputs": []
    },
    {
      "cell_type": "code",
      "source": [
        "plt.figure(figsize = (5,3))\n",
        "count_and_plot(y_bor_sm)"
      ],
      "metadata": {
        "colab": {
          "base_uri": "https://localhost:8080/",
          "height": 249
        },
        "id": "KDihoNrGzbd5",
        "outputId": "ae1d9798-9a9f-4f73-b339-edd7f3a64297"
      },
      "execution_count": null,
      "outputs": [
        {
          "output_type": "stream",
          "name": "stdout",
          "text": [
            "Class=0, n=9000 (50.000%)\n",
            "Class=1, n=9000 (50.000%)\n"
          ]
        },
        {
          "output_type": "display_data",
          "data": {
            "text/plain": [
              "<Figure size 360x216 with 1 Axes>"
            ],
            "image/png": "[encoded data removed]"
          },
          "metadata": {}
        }
      ]
    },
    {
      "cell_type": "code",
      "source": [
        "Randomforest_Result(X_bor_sm,y_bor_sm,\"오버샘플링_boderlineSMOTE 결과\")"
      ],
      "metadata": {
        "colab": {
          "base_uri": "https://localhost:8080/"
        },
        "id": "-0l9dlB2zmEo",
        "outputId": "01ae8f0d-40ef-416c-c3ff-48e992f5fe8c"
      },
      "execution_count": null,
      "outputs": [
        {
          "output_type": "stream",
          "name": "stdout",
          "text": [
            "오버샘플링_boderlineSMOTE 결과 : 3-Fold CV f1 score: 0.9988\n"
          ]
        }
      ]
    }
  ]
}