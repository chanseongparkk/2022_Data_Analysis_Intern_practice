{
  "nbformat": 4,
  "nbformat_minor": 0,
  "metadata": {
    "colab": {
      "provenance": [],
      "authorship_tag": "ABX9TyNFuqM0EED6zjzFjItWsMHt",
      "include_colab_link": true
    },
    "kernelspec": {
      "name": "python3",
      "display_name": "Python 3"
    },
    "language_info": {
      "name": "python"
    }
  },
  "cells": [
    {
      "cell_type": "markdown",
      "metadata": {
        "id": "view-in-github",
        "colab_type": "text"
      },
      "source": [
        "<a href=\"https://colab.research.google.com/github/chanseongparkk/2022_Data_Analysis_Intern_practice/blob/main/07_11_03_%EC%8B%9C%EA%B0%81%ED%99%94%ED%83%90%EC%83%89.ipynb\" target=\"_parent\"><img src=\"https://colab.research.google.com/assets/colab-badge.svg\" alt=\"Open In Colab\"/></a>"
      ]
    },
    {
      "cell_type": "markdown",
      "source": [
        "### 1. 필요 라이브러리 import"
      ],
      "metadata": {
        "id": "yZmwf8XRoTr9"
      }
    },
    {
      "cell_type": "code",
      "execution_count": null,
      "metadata": {
        "id": "aF1LQvhVjo1f"
      },
      "outputs": [],
      "source": [
        "import pandas as pd\n",
        "import matplotlib.pyplot as plt\n",
        "import seaborn as sns\n",
        "%matplotlib inline\n",
        "import warnings\n",
        "warnings.filterwarnings(\"ignore\")\n",
        "\n",
        "# os에 따른 font 깨짐 제거를 위해 font 지정\n",
        "\n",
        "import os\n",
        "\n",
        "if os.name == \"nt\":\n",
        "    font_family = \"Malgun Gothic\"\n",
        "else: #mac os\n",
        "    font_family = \"AppleGothic\"\n",
        "    \n",
        "# - 값이 깨지는 문제 해결을 위해 파라미터값 설정\n",
        "\n",
        "sns.set(font = font_family, rc = {\"axes.unicode_minus\" : False})"
      ]
    },
    {
      "cell_type": "markdown",
      "source": [
        "### 2. 데이터셋 생성\n",
        "\n",
        "* 팁 데이터셋: 레스토랑에 방문한 손님이 팁을 얼마나 주는지, 성별, 흡연여부, 요일 등에 대한 정보를 가지고 있는 데이터셋"
      ],
      "metadata": {
        "id": "hOo5yahwoX-z"
      }
    },
    {
      "cell_type": "code",
      "source": [
        "# tip data load\n",
        "\n",
        "data = sns.load_dataset(\"tips\")"
      ],
      "metadata": {
        "id": "XrfbqbVnoni8"
      },
      "execution_count": null,
      "outputs": []
    },
    {
      "cell_type": "markdown",
      "source": [
        "### 3. 시각화 탐색"
      ],
      "metadata": {
        "id": "BOXxQAAQov4k"
      }
    },
    {
      "cell_type": "markdown",
      "source": [
        "#### 3-1 Box Plot"
      ],
      "metadata": {
        "id": "HAykCDCLoyPU"
      }
    },
    {
      "cell_type": "code",
      "source": [
        "# 백분위수 계산(quantile)\n",
        "print(data.tip.quantile([0.05, 0.25, 0.5, 0.75, 0.95]), \"\\n\")\n",
        "\n",
        "percentages = [0.05, 0.25, 0.5, 0.75, 0.95]\n",
        "\n",
        "df = pd.DataFrame(data.tip.quantile(percentages))\n",
        "df.index = [f'{ p * 100}%' for p in percentages]\n",
        "print(df.T)"
      ],
      "metadata": {
        "id": "JRjXLmdzo11M",
        "outputId": "994cea32-8fac-4cbd-e2d3-986075d2c720",
        "colab": {
          "base_uri": "https://localhost:8080/"
        }
      },
      "execution_count": null,
      "outputs": [
        {
          "output_type": "stream",
          "name": "stdout",
          "text": [
            "0.05    1.4400\n",
            "0.25    2.0000\n",
            "0.50    2.9000\n",
            "0.75    3.5625\n",
            "0.95    5.1955\n",
            "Name: tip, dtype: float64 \n",
            "\n",
            "     5.0%  25.0%  50.0%   75.0%   95.0%\n",
            "tip  1.44    2.0    2.9  3.5625  5.1955\n"
          ]
        }
      ]
    },
    {
      "cell_type": "code",
      "source": [
        "# 한 변수에 대한 이상값 시각화\n",
        "ax = (data.tip).plot.box()\n",
        "ax.set_ylabel(\"달러($)\")"
      ],
      "metadata": {
        "id": "UycMFNe-pyNN",
        "outputId": "456dbc19-3176-46f5-c7ce-901e69b45453",
        "colab": {
          "base_uri": "https://localhost:8080/",
          "height": 285
        }
      },
      "execution_count": null,
      "outputs": [
        {
          "output_type": "execute_result",
          "data": {
            "text/plain": [
              "Text(0, 0.5, '달러($)')"
            ]
          },
          "metadata": {},
          "execution_count": 33
        },
        {
          "output_type": "display_data",
          "data": {
            "text/plain": [
              "<Figure size 432x288 with 1 Axes>"
            ],
            "image/png": "[encoded data removed]"
          },
          "metadata": {}
        }
      ]
    },
    {
      "cell_type": "code",
      "source": [
        "# 박스플롯을 이용한 전체 변수의 이상값 확인\n",
        "plt.figure(figsize = (10,5))\n",
        "sns.boxplot(data = data, orient = \"h\")\n",
        "plt.show()"
      ],
      "metadata": {
        "id": "_iNKawR2qG6M",
        "outputId": "9bf20a4e-65b0-4173-ac1b-fd2ca5813514",
        "colab": {
          "base_uri": "https://localhost:8080/",
          "height": 322
        }
      },
      "execution_count": null,
      "outputs": [
        {
          "output_type": "display_data",
          "data": {
            "text/plain": [
              "<Figure size 720x360 with 1 Axes>"
            ],
            "image/png": "[encoded data removed]"
          },
          "metadata": {}
        }
      ]
    },
    {
      "cell_type": "markdown",
      "source": [
        "#### 3-2 Bar Plot"
      ],
      "metadata": {
        "id": "srsgb4K9qXJk"
      }
    },
    {
      "cell_type": "code",
      "source": [
        "# 요일 별 tip 비교\n",
        "tip_sum_day = data.groupby(\"day\").tip.sum()\n",
        "tip_sum_day"
      ],
      "metadata": {
        "id": "OqqtFkVUqWhN",
        "outputId": "9fea30bb-1de1-4772-8f43-b96f37edd19c",
        "colab": {
          "base_uri": "https://localhost:8080/"
        }
      },
      "execution_count": null,
      "outputs": [
        {
          "output_type": "execute_result",
          "data": {
            "text/plain": [
              "day\n",
              "Thur    171.83\n",
              "Fri      51.96\n",
              "Sat     260.40\n",
              "Sun     247.39\n",
              "Name: tip, dtype: float64"
            ]
          },
          "metadata": {},
          "execution_count": 35
        }
      ]
    },
    {
      "cell_type": "code",
      "source": [
        "# matplotlib barplot \n",
        "\n",
        "label = [\"Thur\", \"Fri\", \"Sat\", \"Sun\"]\n",
        "plt.bar(label,tip_sum_day, width = 0.5, align = \"edge\")"
      ],
      "metadata": {
        "id": "tqHBh6aoq2Xl",
        "outputId": "a576be79-9c7b-4b41-e030-62e52e00ce3f",
        "colab": {
          "base_uri": "https://localhost:8080/",
          "height": 285
        }
      },
      "execution_count": null,
      "outputs": [
        {
          "output_type": "execute_result",
          "data": {
            "text/plain": [
              "<BarContainer object of 4 artists>"
            ]
          },
          "metadata": {},
          "execution_count": 36
        },
        {
          "output_type": "display_data",
          "data": {
            "text/plain": [
              "<Figure size 432x288 with 1 Axes>"
            ],
            "image/png": "[encoded data removed]"
          },
          "metadata": {}
        }
      ]
    },
    {
      "cell_type": "code",
      "source": [
        "# seaborn barplot\n",
        "# 성별, 평균 팁 비교\n",
        " \n",
        "sns.barplot(data = data, x = \"sex\", y = \"tip\")"
      ],
      "metadata": {
        "id": "htubPnXurV9U",
        "outputId": "98f83c31-964c-47df-caaa-f0bc675a02b8",
        "colab": {
          "base_uri": "https://localhost:8080/",
          "height": 302
        }
      },
      "execution_count": null,
      "outputs": [
        {
          "output_type": "execute_result",
          "data": {
            "text/plain": [
              "<matplotlib.axes._subplots.AxesSubplot at 0x7f05ddec09d0>"
            ]
          },
          "metadata": {},
          "execution_count": 37
        },
        {
          "output_type": "display_data",
          "data": {
            "text/plain": [
              "<Figure size 432x288 with 1 Axes>"
            ],
            "image/png": "[encoded data removed]"
          },
          "metadata": {}
        }
      ]
    },
    {
      "cell_type": "code",
      "source": [
        "# 식사 인원 별 남성과 여성 tip 평균 비교\n",
        "\n",
        "plt.figure(figsize = (10,5))\n",
        "sns.barplot(data = data, x = \"sex\", y = \"tip\", hue = \"size\")"
      ],
      "metadata": {
        "id": "g7zN1xxnrkw8",
        "outputId": "712f0614-6349-460f-cd40-9e05a3ac1d9b",
        "colab": {
          "base_uri": "https://localhost:8080/",
          "height": 359
        }
      },
      "execution_count": null,
      "outputs": [
        {
          "output_type": "execute_result",
          "data": {
            "text/plain": [
              "<matplotlib.axes._subplots.AxesSubplot at 0x7f05de04f810>"
            ]
          },
          "metadata": {},
          "execution_count": 38
        },
        {
          "output_type": "display_data",
          "data": {
            "text/plain": [
              "<Figure size 720x360 with 1 Axes>"
            ],
            "image/png": "[encoded data removed]"
          },
          "metadata": {}
        }
      ]
    },
    {
      "cell_type": "markdown",
      "source": [
        "#### 3-3 도수분포표 & 히스토그램 "
      ],
      "metadata": {
        "id": "D1wXbTRMr4Wk"
      }
    },
    {
      "cell_type": "code",
      "source": [
        "# 도수분포표\n",
        "# 총 계산 금액 구간 별 빈도수\n",
        "\n",
        "bin_total = pd.cut(data.total_bill, 8) #data를 8개 구간별로 잘라서 갯수 세어줌\n",
        "bin_total.value_counts()"
      ],
      "metadata": {
        "id": "gqndpDu9r2Ns",
        "outputId": "9495f65a-593f-4480-c1f2-4e8d74714a8e",
        "colab": {
          "base_uri": "https://localhost:8080/"
        }
      },
      "execution_count": null,
      "outputs": [
        {
          "output_type": "execute_result",
          "data": {
            "text/plain": [
              "(15.005, 20.972]    81\n",
              "(9.038, 15.005]     68\n",
              "(20.972, 26.94]     38\n",
              "(26.94, 32.908]     24\n",
              "(3.022, 9.038]      12\n",
              "(32.908, 38.875]    10\n",
              "(38.875, 44.842]     6\n",
              "(44.842, 50.81]      5\n",
              "Name: total_bill, dtype: int64"
            ]
          },
          "metadata": {},
          "execution_count": 39
        }
      ]
    },
    {
      "cell_type": "code",
      "source": [
        "fig, axs = plt.subplots(1, 2, figsize = (10,5))\n",
        "\n",
        "# histogram\n",
        "plt.style.use(\"ggplot\")\n",
        "ax1 = plt.subplot(1,2,1)\n",
        "ax1 = (data.total_bill).plot.hist(bins = 8)\n",
        "ax1.set_xlabel('total_bill($)');\n",
        "\n",
        "# distplot\n",
        "plt.subplot(1,2,2)\n",
        "ax2 = data[\"total_bill\"].plot.hist(density = True, xlim = [0,60], bins = 8)\n",
        "data.total_bill.plot.density(ax = ax2);\n",
        "ax2.set_xlabel(\"total_bill($)\");\n",
        "\n",
        "plt.tight_layout()\n",
        "plt.show()\n"
      ],
      "metadata": {
        "id": "qF4E755EsVeE",
        "outputId": "64a9d617-63e7-40f9-8676-d6d1e5cafd1a",
        "colab": {
          "base_uri": "https://localhost:8080/",
          "height": 369
        }
      },
      "execution_count": null,
      "outputs": [
        {
          "output_type": "display_data",
          "data": {
            "text/plain": [
              "<Figure size 720x360 with 2 Axes>"
            ],
            "image/png": "[encoded data removed]"
          },
          "metadata": {}
        }
      ]
    }
  ]
}