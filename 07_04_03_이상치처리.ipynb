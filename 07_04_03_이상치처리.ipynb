{
  "nbformat": 4,
  "nbformat_minor": 0,
  "metadata": {
    "colab": {
      "provenance": [],
      "authorship_tag": "ABX9TyOQAFWdAWBKcT0JmMzSnMu/",
      "include_colab_link": true
    },
    "kernelspec": {
      "name": "python3",
      "display_name": "Python 3"
    },
    "language_info": {
      "name": "python"
    }
  },
  "cells": [
    {
      "cell_type": "markdown",
      "metadata": {
        "id": "view-in-github",
        "colab_type": "text"
      },
      "source": [
        "<a href=\"https://colab.research.google.com/github/chanseongparkk/2022_Data_Analysis_Intern_practice/blob/main/07_04_03_%EC%9D%B4%EC%83%81%EC%B9%98%EC%B2%98%EB%A6%AC.ipynb\" target=\"_parent\"><img src=\"https://colab.research.google.com/assets/colab-badge.svg\" alt=\"Open In Colab\"/></a>"
      ]
    },
    {
      "cell_type": "markdown",
      "source": [
        "## 이상값 탐색 및 처리"
      ],
      "metadata": {
        "id": "e936EH0Rsosa"
      }
    },
    {
      "cell_type": "markdown",
      "source": [
        "### 1.라이브러리 import"
      ],
      "metadata": {
        "id": "5Z7LvLgpvjBI"
      }
    },
    {
      "cell_type": "code",
      "execution_count": null,
      "metadata": {
        "id": "Fuyg9VAssjBj"
      },
      "outputs": [],
      "source": [
        "import random\n",
        "import pandas as pd\n",
        "import numpy as np\n",
        "import scipy.stats as stats\n",
        "import matplotlib.pyplot as plt\n",
        "import seaborn as sns\n",
        "%matplotlib inline\n",
        "\n",
        "# os에 따른 font 깨짐 제거를 위해 font 지정\n",
        "\n",
        "import os\n",
        "\n",
        "if os.name == \"nt\":\n",
        "    font_family = \"Malgun Gothic\"\n",
        "else: #mac os\n",
        "    font_family = \"AppleGothic\"\n",
        "    \n",
        "# - 값이 깨지는 문제 해결을 위해 파라미터값 설정\n",
        "\n",
        "sns.set(font = font_family, rc = {\"axes.unicode_minus\" : False})\n",
        "\n",
        "import warnings\n",
        "warnings.filterwarnings(\"ignore\")"
      ]
    },
    {
      "cell_type": "markdown",
      "source": [
        "### 2. z검정을 이용한 이상치 처리"
      ],
      "metadata": {
        "id": "4IWnjtKkv_dQ"
      }
    },
    {
      "cell_type": "markdown",
      "source": [
        "#### 2-1 데이터 생성"
      ],
      "metadata": {
        "id": "cUgxfGd1wEMA"
      }
    },
    {
      "cell_type": "code",
      "source": [
        "# 3000개의 랜덤 데이터 생성\n",
        "\n",
        "np_data = np.random.randint(1,100,size = 3000)\n",
        "data = list(np_data)"
      ],
      "metadata": {
        "id": "Rd1ANQNCv-HI"
      },
      "execution_count": null,
      "outputs": []
    },
    {
      "cell_type": "code",
      "source": [
        "data[:2]"
      ],
      "metadata": {
        "id": "UrH5_3AJwUco"
      },
      "execution_count": null,
      "outputs": []
    },
    {
      "cell_type": "code",
      "source": [
        "# 히스토그램으로 생성된 데이터 분포 확인\n",
        "\n",
        "plt.hist(data)\n",
        "plt.show()"
      ],
      "metadata": {
        "id": "1S1ACY0cwV9J"
      },
      "execution_count": null,
      "outputs": []
    },
    {
      "cell_type": "code",
      "source": [
        "# data의 정규분포 확인\n",
        "\n",
        "data_mean = np.mean(data)\n",
        "data_std = np.std(data)\n",
        "\n",
        "print(\"평균 : \", data_mean)\n",
        "print(\"분산 : \", data_std)\n",
        "\n",
        "# 확률밀도함수 생성\n",
        "\n",
        "pdf = stats.norm.pdf(np.sort(data),data_mean,data_std)\n",
        "\n",
        "plt.figure()\n",
        "plt.plot(np.sort(data),pdf)"
      ],
      "metadata": {
        "id": "3ZzHU11AwknB"
      },
      "execution_count": null,
      "outputs": []
    },
    {
      "cell_type": "code",
      "source": [
        "# 표준정규분포로 변환\n",
        "\n",
        "std_list = []\n",
        "\n",
        "for i in data:\n",
        "  z = (i-data_mean)/data_std\n",
        "  std_list.append(z)\n",
        "\n",
        "\n",
        "ol_data_mean = np.mean(std_list)\n",
        "ol_data_std = np.std(std_list)\n",
        "\n",
        "print(\"잔차 평균값: \", ol_data_mean)\n",
        "print(\"잔차 분산값: \", ol_data_std)\n",
        "\n",
        "ol_pdf = stats.norm.pdf(np.sort(std_list),\n",
        "                        ol_data_mean, ol_data_std)\n",
        "\n",
        "plt.figure()\n",
        "plt.plot(np.sort(std_list),ol_pdf) "
      ],
      "metadata": {
        "id": "UhuKPJTSxWxB"
      },
      "execution_count": null,
      "outputs": []
    },
    {
      "cell_type": "markdown",
      "source": [
        "#### 2-2 데이터셋에 이상값 추가"
      ],
      "metadata": {
        "id": "QPiXYUA42b5K"
      }
    },
    {
      "cell_type": "code",
      "source": [
        "ol_data = data.copy()\n",
        "ol_no = 10\n",
        "\n",
        "for i in range(ol_no):\n",
        "  rand_no = random.randint(0,len(data))\n",
        "  ol_data.insert(rand_no,ol_data[rand_no]*2) #이상값 생성\n",
        "\n",
        "# 이상값이 포함된 데이터의 정규분포도\n",
        "ol_data_mean = np.mean(ol_data)\n",
        "ol_data_std = np.std(ol_data)\n",
        "\n",
        "print(\"평균: \",ol_data_mean)\n",
        "print(\"분산: \",ol_data_std)\n",
        "\n",
        "ol_pdf = stats.norm.pdf(np.sort(ol_data),\n",
        "                        ol_data_mean, ol_data_std)\n",
        "\n",
        "plt.figure()\n",
        "plt.plot(np.sort(ol_data), ol_pdf)"
      ],
      "metadata": {
        "id": "EMNg1L6Tyi6S"
      },
      "execution_count": null,
      "outputs": []
    },
    {
      "cell_type": "code",
      "source": [
        "# 이상값이 추가된 데이터의 표준화\n",
        "\n",
        "ol_std_list = []\n",
        "\n",
        "for i in ol_data:\n",
        "  z = (i-ol_data_mean)/ol_data_std\n",
        "  ol_std_list.append(z)\n",
        "\n",
        "ol_st_data_mean = np.mean(ol_std_list)\n",
        "ol_st_data_std = np.std(ol_std_list)\n",
        "\n",
        "print(\"잔차 평균: \", ol_st_data_mean)\n",
        "print(\"잔차 분산: \", ol_st_data_std)\n",
        "\n",
        "ol_std_pdf = stats.norm.pdf(np.sort(ol_std_list),\n",
        "                            ol_st_data_mean, ol_st_data_std)\n",
        "\n",
        "\n",
        "plt.figure()\n",
        "plt.plot(np.sort(ol_std_list), ol_std_pdf)\n",
        "\n"
      ],
      "metadata": {
        "id": "rIoTU2kmyi4K"
      },
      "execution_count": null,
      "outputs": []
    },
    {
      "cell_type": "markdown",
      "source": [
        "#### 2-3. Z값이 2를 넘어가는 데이터 삭제"
      ],
      "metadata": {
        "id": "XxID0dl90ycI"
      }
    },
    {
      "cell_type": "code",
      "source": [
        "# 전체 라인 수 확인\n",
        "len(ol_std_list)"
      ],
      "metadata": {
        "id": "AgyV_N28yilx"
      },
      "execution_count": null,
      "outputs": []
    },
    {
      "cell_type": "code",
      "source": [
        "# -2~2 범위 넘어가면 이상값으로 제거\n",
        "\n",
        "for i in ol_std_list:\n",
        "  z = i\n",
        "  if z > 2:\n",
        "    ol_std_list.remove(z)\n",
        "  elif z < -2:\n",
        "    ol_std_list.remove(z)\n",
        "  \n"
      ],
      "metadata": {
        "id": "1fChFuv_yWPo"
      },
      "execution_count": null,
      "outputs": []
    },
    {
      "cell_type": "code",
      "source": [
        "# 이상값 제거 후 라인 수 \n",
        "len(ol_std_list)"
      ],
      "metadata": {
        "id": "HVsooMFOxMUZ"
      },
      "execution_count": null,
      "outputs": []
    },
    {
      "cell_type": "code",
      "source": [
        "# 이상값 제거 후 표준전규분포 확인\n",
        "\n",
        "ol_std_pdf = stats.norm.pdf(np.sort(ol_std_list),\n",
        "                            ol_st_data_mean, ol_st_data_std)\n",
        "\n",
        "plt.figure()\n",
        "plt.plot(np.sort(ol_std_list),ol_std_pdf)"
      ],
      "metadata": {
        "id": "TwQ1Wmu31vpp"
      },
      "execution_count": null,
      "outputs": []
    },
    {
      "cell_type": "markdown",
      "source": [
        "### 3. 사분위수 범위로 이상값 삭제"
      ],
      "metadata": {
        "id": "o6vhag282R1Y"
      }
    },
    {
      "cell_type": "markdown",
      "source": [
        "#### 3-1 이상값 데이터 생성"
      ],
      "metadata": {
        "id": "eu2nzQVC2t3a"
      }
    },
    {
      "cell_type": "code",
      "source": [
        "# 이상값 데이터 생성\n",
        "\n",
        "boxdata = pd.DataFrame(np.random.randn(100,3),columns = [\"A열\",\"B열\",\"C열\"])"
      ],
      "metadata": {
        "id": "EX-V6nOm2Q_R"
      },
      "execution_count": null,
      "outputs": []
    },
    {
      "cell_type": "code",
      "source": [
        "boxdata.head()"
      ],
      "metadata": {
        "id": "CcUWUkhO28oB"
      },
      "execution_count": null,
      "outputs": []
    },
    {
      "cell_type": "markdown",
      "source": [
        "#### 3-2 이상값 데이터 확인"
      ],
      "metadata": {
        "id": "WAgWJiy63BhB"
      }
    },
    {
      "cell_type": "code",
      "source": [
        "# 기술통계정보 확인\n",
        "\n",
        "boxdata.describe()"
      ],
      "metadata": {
        "id": "PQz6uuLK3AM5"
      },
      "execution_count": null,
      "outputs": []
    },
    {
      "cell_type": "code",
      "source": [
        "# 박스플롯을 이용한 이상값 확인\n",
        "\n",
        "sns.boxplot(data = boxdata)\n",
        "plt.show()"
      ],
      "metadata": {
        "id": "Fl-saTMX3IzR"
      },
      "execution_count": null,
      "outputs": []
    },
    {
      "cell_type": "markdown",
      "source": [
        "#### 3-3 이상값 확인"
      ],
      "metadata": {
        "id": "Xt-YzGZZ3Xfq"
      }
    },
    {
      "cell_type": "code",
      "source": [
        "def get_outlier(df = None, columns = None, weight = 1.5):\n",
        "  quantile_25 = df[columns].quantile(0.25)\n",
        "  quantile_75 = df[columns].quantile(0.75)\n",
        "\n",
        "  IQR = quantile_75-quantile_25\n",
        "  IQR_weight = IQR*weight\n",
        "\n",
        "  lowest = quantile_25-IQR_weight\n",
        "  highest = quantile_75+IQR_weight\n",
        "\n",
        "  outlier_index = df[columns][(df[columns] < lowest) | (df[columns] > highest)].index\n",
        "  return outlier_index"
      ],
      "metadata": {
        "id": "5BEINAnN3S-Y"
      },
      "execution_count": null,
      "outputs": []
    },
    {
      "cell_type": "code",
      "source": [
        "outlier_index = get_outlier(df = boxdata, columns = \"B열\", weight = 1.5)"
      ],
      "metadata": {
        "id": "bteq_nT54l1B"
      },
      "execution_count": null,
      "outputs": []
    },
    {
      "cell_type": "code",
      "source": [
        "outlier_index"
      ],
      "metadata": {
        "id": "0HNdLqkJ4yfp"
      },
      "execution_count": null,
      "outputs": []
    },
    {
      "cell_type": "code",
      "source": [
        "# 이상값 삭제\n",
        "\n",
        "boxdata.drop(outlier_index, axis = 0, inplace = True)"
      ],
      "metadata": {
        "id": "ABsrtHrv41Sp"
      },
      "execution_count": null,
      "outputs": []
    },
    {
      "cell_type": "code",
      "source": [
        "boxdata.shape"
      ],
      "metadata": {
        "id": "iR6Gg68q5eUb"
      },
      "execution_count": null,
      "outputs": []
    },
    {
      "cell_type": "code",
      "source": [
        "sns.boxplot(data = boxdata)\n",
        "plt.show()"
      ],
      "metadata": {
        "id": "oKSumuDY5g9x"
      },
      "execution_count": null,
      "outputs": []
    },
    {
      "cell_type": "code",
      "source": [
        "# 함수 사용하여 이상값 확인\n",
        "outlier_index = get_outlier(df = boxdata, columns = \"A열\", weight = 1.5)\n",
        "\n",
        "outlier_index\n",
        "\n",
        "# 이상값 삭제\n",
        "\n",
        "boxdata.drop(outlier_index,axis = 0, inplace = True)\n",
        "\n",
        "\n",
        "sns.boxplot(data = boxdata)\n",
        "plt.show()"
      ],
      "metadata": {
        "id": "tikcfChL5mfp"
      },
      "execution_count": null,
      "outputs": []
    },
    {
      "cell_type": "code",
      "source": [
        "# 함수 사용하여 이상값 확인\n",
        "outlier_index = get_outlier(df = boxdata, columns = \"C열\", weight = 1.5)\n",
        "\n",
        "outlier_index\n",
        "\n",
        "# 이상값 삭제\n",
        "\n",
        "boxdata.drop(outlier_index,axis = 0, inplace = True)\n",
        "\n",
        "\n",
        "sns.boxplot(data = boxdata)\n",
        "plt.show()\n"
      ],
      "metadata": {
        "id": "7CFyHWPd69Sb"
      },
      "execution_count": null,
      "outputs": []
    },
    {
      "cell_type": "code",
      "source": [
        "boxdata.shape"
      ],
      "metadata": {
        "id": "usONhhLl6N9k"
      },
      "execution_count": null,
      "outputs": []
    }
  ]
}